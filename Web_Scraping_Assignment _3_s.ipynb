{
 "cells": [
  {
   "cell_type": "markdown",
   "id": "8da192d5-1f21-4f02-9195-a50f858941ef",
   "metadata": {},
   "source": [
    "# Q1 "
   ]
  },
  {
   "cell_type": "code",
   "execution_count": 4,
   "id": "25090778-1229-4ef4-90d7-0d99fd5e6057",
   "metadata": {},
   "outputs": [],
   "source": [
    "import selenium\n",
    "import pandas as pd\n",
    "from selenium import webdriver\n",
    "from selenium.common.exceptions import NoSuchElementException, StaleElementReferenceException\n",
    "from selenium.webdriver.common.by import By\n",
    "from selenium.webdriver.common.keys import Keys\n",
    "from selenium.webdriver.support.ui import WebDriverWait\n",
    "from selenium.webdriver.support import expected_conditions as EC\n",
    "import time\n",
    "import warnings"
   ]
  },
  {
   "cell_type": "code",
   "execution_count": 5,
   "id": "80237d43-8f8e-4421-99c8-0e16afceaa55",
   "metadata": {},
   "outputs": [],
   "source": [
    "warnings.filterwarnings('ignore')"
   ]
  },
  {
   "cell_type": "code",
   "execution_count": 6,
   "id": "732b688e-6f98-4da2-a2be-fd5f4a507116",
   "metadata": {},
   "outputs": [],
   "source": [
    "# Initialize the WebDriver\n",
    "driver = webdriver.Chrome()"
   ]
  },
  {
   "cell_type": "code",
   "execution_count": 9,
   "id": "43cfc7be-0a64-4523-b493-a4f09b9776e2",
   "metadata": {},
   "outputs": [
    {
     "name": "stdin",
     "output_type": "stream",
     "text": [
      "Enter the product that we want to search:  guitar\n"
     ]
    }
   ],
   "source": [
    "driver.get(\"https://www.amazon.in/\")\n",
    "user_input = input('Enter the product that we want to search: ')\n"
   ]
  },
  {
   "cell_type": "code",
   "execution_count": 11,
   "id": "23afc30b-0ae1-4f7b-b270-5602156e56a6",
   "metadata": {},
   "outputs": [],
   "source": [
    " # Wait until the search box is present\n",
    "search_box = WebDriverWait(driver, 10).until(\n",
    "EC.presence_of_element_located((By.XPATH, '//input[@id=\"twotabsearchtextbox\"]'))\n",
    "    )  # Added the closing parenthesis here\n"
   ]
  },
  {
   "cell_type": "code",
   "execution_count": 20,
   "id": "6c0d6c03-6d1a-4996-a044-1dc1c231ec3f",
   "metadata": {},
   "outputs": [
    {
     "name": "stdout",
     "output_type": "stream",
     "text": [
      "Search completed successfully.\n"
     ]
    }
   ],
   "source": [
    "try:\n",
    "\n",
    "    # Wait until the search box is present\n",
    "    search_box = WebDriverWait(driver, 10).until(\n",
    "        EC.presence_of_element_located((By.XPATH, '//input[@id=\"twotabsearchtextbox\"]'))\n",
    "    )\n",
    "\n",
    "    # Type in the user input\n",
    "    search_box.send_keys(user_input)\n",
    "    search_box.send_keys(Keys.RETURN)  # Press Enter to search\n",
    "\n",
    "    # Wait for the results to load\n",
    "    WebDriverWait(driver, 10).until(\n",
    "        EC.presence_of_element_located((By.XPATH, '//span[@class=\"a-color-state a-text-bold\"]'))\n",
    "    )\n",
    "    print(\"Search completed successfully.\")\n",
    "\n",
    "except Exception as e:\n",
    "    print(f\"An error occurred: {e}\")\n",
    "\n",
    "finally:\n",
    "    # Close the browser\n",
    "    if 'driver' in locals():\n",
    "        driver.quit()\n",
    "        "
   ]
  },
  {
   "cell_type": "markdown",
   "id": "cc103022-382b-4c3e-94e2-6e1829e606ba",
   "metadata": {},
   "source": [
    "# Q.2"
   ]
  },
  {
   "cell_type": "code",
   "execution_count": 21,
   "id": "a021c200-f58a-4e07-b48a-847e3123bd4e",
   "metadata": {},
   "outputs": [],
   "source": [
    "import requests\n",
    "from bs4 import BeautifulSoup\n",
    "import pandas as pd\n",
    "import time\n",
    "\n"
   ]
  },
  {
   "cell_type": "code",
   "execution_count": 28,
   "id": "56b962b8-3175-4dc5-9750-239cef477583",
   "metadata": {},
   "outputs": [],
   "source": [
    "def search_amazon(product_name):\n",
    "    headers = {\n",
    "        'User-Agent': 'Mozilla/5.0 (Windows NT 10.0; Win64; x64) AppleWebKit/537.36 (KHTML, like Gecko) Chrome/85.0.4183.102 Safari/537.36'\n",
    "    }\n",
    "    product_data = []\n",
    "    \n",
    "    for page in range(1, 4):  # Scrape the first 3 pages\n",
    "        url = f\"https://www.amazon.in/s?k={product_name}&page={page}\"\n",
    "        response = requests.get(url, headers=headers)\n",
    "\n",
    "        if response.status_code != 200:\n",
    "            print(f\"Failed to retrieve data from Amazon (status code: {response.status_code})\")\n",
    "            continue\n",
    "\n",
    "        soup = BeautifulSoup(response.content, 'html.parser')\n",
    "        products = soup.find_all('div', {'data-component-type': 's-search-result'})\n",
    "\n",
    "        if not products:\n",
    "            print(\"No products found.\")\n",
    "            break\n",
    "\n",
    "        for product in products:\n",
    "            try:\n",
    "                brand_name = product.find('span', class_='a-size-medium a-color-base a-text-normal').text.strip()\n",
    "            except AttributeError:\n",
    "                brand_name = '-'\n",
    "\n",
    "            try:\n",
    "                name = product.find('span', class_='a-text-normal').text.strip()\n",
    "            except AttributeError:\n",
    "                name = '-'\n",
    "\n",
    "            try:\n",
    "                price = product.find('span', class_='a-price-whole').text.strip()\n",
    "                if not price:  # Sometimes price might be in a different span\n",
    "                    price = product.find('span', class_='a-price').text.strip()\n",
    "            except AttributeError:\n",
    "                price = '-'\n",
    "\n",
    "            try:\n",
    "                return_exchange = product.find('span', class_='a-declarative').text.strip()\n",
    "            except AttributeError:\n",
    "                return_exchange = '-'\n",
    "\n",
    "            try:\n",
    "                expected_delivery = product.find('span', class_='a-color-base a-text-bold').text.strip()\n",
    "            except AttributeError:\n",
    "                expected_delivery = '-'\n",
    "\n",
    "            try:\n",
    "                availability = product.find('span', class_='a-declarative').text.strip()\n",
    "            except AttributeError:\n",
    "                availability = '-'\n",
    "\n",
    "            try:\n",
    "                product_url = 'https://www.amazon.in' + product.find('a', class_='a-link-normal')['href']\n",
    "            except AttributeError:\n",
    "                product_url = '-'\n",
    "\n",
    "            product_data.append({\n",
    "                'Brand Name': brand_name,\n",
    "                'Name of the Product': name,\n",
    "                'Price': price,\n",
    "                'Return/Exchange': return_exchange,\n",
    "                'Expected Delivery': expected_delivery,\n",
    "                'Availability': availability,\n",
    "                'Product URL': product_url\n",
    "            })\n",
    "\n",
    "        time.sleep(2)  # Sleep to avoid being blocked by Amazon\n",
    "\n",
    "    return product_data\n"
   ]
  },
  {
   "cell_type": "code",
   "execution_count": 29,
   "id": "9711d678-a358-43d7-a480-c7285c92b38e",
   "metadata": {},
   "outputs": [
    {
     "name": "stdin",
     "output_type": "stream",
     "text": [
      "Enter the product name to search on Amazon:  guitar\n"
     ]
    },
    {
     "name": "stdout",
     "output_type": "stream",
     "text": [
      "Data saved to products.csv\n"
     ]
    }
   ],
   "source": [
    "\n",
    "def save_to_csv(product_data, filename='products.csv'):\n",
    "    df = pd.DataFrame(product_data)\n",
    "    df.to_csv(filename, index=False)\n",
    "    print(f\"Data saved to {filename}\")\n",
    "\n",
    "if __name__ == '__main__':\n",
    "    product_name = input(\"Enter the product name to search on Amazon: \")\n",
    "    products = search_amazon(product_name)\n",
    "    save_to_csv(products)"
   ]
  },
  {
   "cell_type": "code",
   "execution_count": null,
   "id": "00ea6a87-b745-4cad-ae04-c5efe8404904",
   "metadata": {},
   "outputs": [],
   "source": []
  },
  {
   "cell_type": "code",
   "execution_count": null,
   "id": "5c716c79-a093-413b-818e-f5aea22db06b",
   "metadata": {},
   "outputs": [],
   "source": []
  },
  {
   "cell_type": "code",
   "execution_count": null,
   "id": "ab6a90b7-305e-4637-8d68-2dcfef5e5e0b",
   "metadata": {},
   "outputs": [],
   "source": []
  },
  {
   "cell_type": "markdown",
   "id": "5c0c3f17-6d0f-4e19-b38a-08147ce6b86d",
   "metadata": {},
   "source": [
    "# Q.3"
   ]
  },
  {
   "cell_type": "code",
   "execution_count": 20,
   "id": "b2dbbece-4596-4e96-90b0-caecc4243f07",
   "metadata": {},
   "outputs": [],
   "source": [
    "# Import necessary libraries\n",
    "import time\n",
    "import requests\n",
    "from selenium import webdriver\n",
    "from selenium.webdriver.common.by import By\n",
    "from selenium.webdriver.common.keys import Keys"
   ]
  },
  {
   "cell_type": "code",
   "execution_count": 16,
   "id": "2fe0422d-c678-4048-aa97-f753a02258c4",
   "metadata": {},
   "outputs": [],
   "source": [
    "driver = webdriver.Chrome ()"
   ]
  },
  {
   "cell_type": "code",
   "execution_count": 18,
   "id": "e67df099-cdea-42c2-96f9-998483b42b21",
   "metadata": {},
   "outputs": [],
   "source": [
    "driver.get('https://www.google.com/imghp?hl=en&tab=ri&ogbl')"
   ]
  },
  {
   "cell_type": "code",
   "execution_count": 21,
   "id": "fcab9898-a381-45be-b1c4-51d664c6dd25",
   "metadata": {},
   "outputs": [],
   "source": [
    "# Define the search items\n",
    "search_items = [\"Fruits\", \"Cars\", \"Machine Learning\"]\n",
    "\n",
    "# List to store image URLs\n",
    "urls = []\n",
    "\n",
    "# Google Images URL\n",
    "url = \"http://images.google.com/\"\n",
    "\n",
    "for item in search_items:\n",
    "    driver.get(url)\n",
    "    time.sleep(5)\n",
    "    \n",
    "    # Finding the search bar and entering the keyword\n",
    "    search_bar = driver.find_element(By.NAME, \"q\")\n",
    "    search_bar.send_keys(item)\n",
    "    search_bar.send_keys(Keys.RETURN)\n",
    "    \n",
    "    time.sleep(5)  # Wait for results to load\n",
    "\n",
    "    # Scrolling down to load more images\n",
    "    for _ in range(3):  # Scroll to load more images\n",
    "        driver.execute_script(\"window.scrollBy(0, 1000);\")\n",
    "        time.sleep(1)  # Pause to allow images to load\n",
    "\n",
    "    # Finding image elements using XPath\n",
    "    imgs = driver.find_elements(By.XPATH, \"//img[contains(@class, 'rg_i')]\")\n",
    "\n",
    "    # Collecting image URLs\n",
    "    img_urls = []\n",
    "    for image in imgs:\n",
    "        source = image.get_attribute('src')\n",
    "        if source and source.startswith('http'):\n",
    "            img_urls.append(source)\n",
    "\n",
    "    # Append the first 10 URLs to the main list\n",
    "    urls.extend(img_urls[:10])  # Limit to 10 images per search term\n",
    "\n",
    "# Download the images\n",
    "for i, img_url in enumerate(urls):\n",
    "    print(f\"Downloading image {i + 1} of {len(urls)}\")\n",
    "    \n",
    "    response = requests.get(img_url)\n",
    "    \n",
    "    # Save the image in the current directory\n",
    "    with open(f\"image_{i + 1}.jpg\", \"wb\") as file:\n",
    "        file.write(response.content)\n",
    "\n",
    "# Close the WebDriver\n",
    "driver.close()"
   ]
  },
  {
   "cell_type": "code",
   "execution_count": 22,
   "id": "a88faa00-05a9-4a90-b8fe-754cac6ca2cc",
   "metadata": {},
   "outputs": [
    {
     "name": "stdout",
     "output_type": "stream",
     "text": [
      "Images saved in: C:\\Users\\DELL\\Downloads\n",
      "Files in the directory:\n",
      "['(22MBA11035) Samant, Final Report.docx', '.ipynb_checkpoints', '20244767407132024163935.pdf', '20244767408012024123257.pdf', '20244767408012024123405.pdf', '22MBA10910Vivek-SIP (121).pdf', '22Mba11056_Muskan Patni-2-converted.docx', '47500 OM CHANDRAVEER (1).pdf', '47500 OM CHANDRAVEER.pdf', 'Acknowledgement_Receipt_JU24045387 (1).pdf', 'Acknowledgement_Receipt_JU24045387.pdf', 'ack_AU_2024_24653.pdf', 'ack_AU_2024_25224 (1).pdf', 'ack_AU_2024_25224.pdf', 'ack_SEEKHO_JECRC_2024_257 (1).pdf', 'ack_SEEKHO_JECRC_2024_257 (2).pdf', 'ack_SEEKHO_JECRC_2024_257.pdf', 'Anaconda3-2024.06-1-Windows-x86_64.exe', 'ANAND SUTHAR JECRC FEE RECPT. (1).pdf', 'ANAND SUTHAR JECRC FEE RECPT..pdf', 'ANAND.pdf', 'Application_form_JNU_24_19951.pdf', 'AY23-25-766990368421 (1).pdf', 'AY23-25-766990368421.pdf', 'BIO DATA (1) (1)ssss (1).docx', 'BIO DATA (1) (1)ssss (1).pdf', 'BIO DATA (1) (1)ssss.docx', 'BIO DATA (1) (1)ssss.pdf', 'blis fees.pdf', 'c91a61f71aef4871b7e3b1a8f0e7a488 (1).pdf', 'c91a61f71aef4871b7e3b1a8f0e7a488 (2).pdf', 'c91a61f71aef4871b7e3b1a8f0e7a488.pdf', 'Cakes', 'Call recording +919813149555_240824_111115.m4a', 'CamScanner 03-16-2024 16.22 (1).pdf', 'CamScanner 03-16-2024 16.22.pdf', 'Capstone Project for On CampusI Regular Students- Sample PPT.pptx', 'cars', 'case_Study_in_Organizational_Development.docx', 'desktop.ini', 'DILIP RATHORE 2.pdf', 'DocScanner 27-Aug-2024 3-55\\u202fpm.pdf', 'DocScanner 27-Aug-2024 3-58\\u202fpm.pdf', 'e96b2f69-a503-4cdc-bcb2-378e2d8741d2 (1).pdf', 'e96b2f69-a503-4cdc-bcb2-378e2d8741d2.pdf', 'Fee JECRC.pdf', 'Fee receipt, Muskan.pdf', 'Fee-Receipt (1) (1).pdf', 'Fee-Receipt (1).pdf', 'Fee-Receipt (2).pdf', 'Fee-Receipt (6).pdf', 'Fee-Receipt.pdf', 'fees.pdf', 'FeesReceipt (1) (1).pdf', 'FeesReceipt (1).pdf', 'FeesReceipt (2) (1).pdf', 'FeesReceipt (2) (2).pdf', 'FeesReceipt (2) (3).pdf', 'FeesReceipt (2).pdf', 'FeesReceipt (3).pdf', 'FeesReceipt (4).pdf', 'FeesReceipt (5).pdf', 'FeesReceipt (6).pdf', 'FeesReceipt.pdf', 'final report (1).pdf', 'final report (2).pdf', 'final report 1.pdf', 'final report.pdf', 'fruits', 'Group 199 Presentation (1).pptx', 'Group 199 Presentation.pptx', 'Group number 128.pptx', 'Guitar', 'IMG-20240831-WA0001.jpg', 'IMG20240724111405 (1).jpg', 'IMG20240724111405.jpg', 'Install VALORANT.exe', 'JECRC FEES RECEIPT (1).pdf', 'JECRC FEES RECEIPT.pdf', 'JHi5sj8OaFqtsmjW8lRfm2Jj9pMkVK7iLNMmKoHy7gNC (1) (1).pdf', 'JHi5sj8OaFqtsmjW8lRfm2Jj9pMkVK7iLNMmKoHy7gNC (1) (2).pdf', 'JHi5sj8OaFqtsmjW8lRfm2Jj9pMkVK7iLNMmKoHy7gNC (1).pdf', 'JHi5sj8OaFqtsmjW8lRfm2Jj9pMkVK7iLNMmKoHy7gNC (2).pdf', 'JHi5sj8OaFqtsmjW8lRfm2Jj9pMkVK7iLNMmKoHy7gNC (3).pdf', 'JHi5sj8OaFqtsmjW8lRfm2Jj9pMkVK7iLNMmKoHy7gNC (4).pdf', 'JHi5sj8OaFqtsmjW8lRfm2Jj9pMkVK7iLNMmKoHy7gNC (5).pdf', 'JHi5sj8OaFqtsmjW8lRfm2Jj9pMkVK7iLNMmKoHy7gNC (6).pdf', 'JHi5sj8OaFqtsmjW8lRfm2Jj9pMkVK7iLNMmKoHy7gNC.pdf', 'jnu fees  (1).pdf', 'jnu fees .pdf', 'kandpal ji 25.07.2024.pdf', 'Keshav.pdf', 'layout_1 (12).pdf', 'Lecture 1  2 (1).pptx', 'Lecture 1  2.pptx', 'Lecture 3.pptx', 'Lecture 4.pptx', 'LibreOffice_24.2.5_Win_x86-64.msi', 'luffy.jpg', 'Machine Learning', 'MODY HOSTEL FEE 18-7-24.pdf', 'My Resume (2) (1).docx', 'My Resume (2) (2).docx', 'My Resume (2).docx', 'New Doc 09-06-2024 11.56 (1).pdf', 'New Doc 09-06-2024 11.56.pdf', 'OperaSetup.exe', 'pdf&rendition=1 (1) (1).pdf', 'pdf&rendition=1 (1) (2).pdf', 'pdf&rendition=1 (1).pdf', 'Pikashow.to_v86_Latest_Version (1).APK', 'Pikashow.to_v86_Latest_Version.APK', 'PikaShow_APK_v82 [Original_File] - (PikaShowHD.com) (1).apk', 'PikaShow_APK_v82 [Original_File] - (PikaShowHD.com).apk', 'Pragya.pdf', 'Pragya2.pdf', 'Priyanshu.pdf', 'products.csv', 'Raghav-1-24-25 (1).pdf', 'Raghav-1-24-25.pdf', 'Raghav-2-24-25 (1).pdf', 'Raghav-2-24-25.pdf', 'receipt (1) (1).pdf', 'receipt (1).pdf', 'receipt (2) (1).pdf', 'receipt (2).pdf', 'Receipt Format (1).mht', 'Receipt Format.mht', 'Receipt_67689 (1).pdf', 'Receipt_67689 (2).pdf', 'Receipt_67689 (3).pdf', 'Receipt_67689.pdf', 'Receipt_67951 (1).pdf', 'Receipt_67951 (2).pdf', 'Receipt_67951 (3).pdf', 'Receipt_67951 (4).pdf', 'Receipt_67951.pdf', 'Receipt_70114 (1) (1).pdf', 'Receipt_70114 (1).pdf', 'RPMC COUNSELLING PROCESS-SSSS (1).pdf', 'RPMC COUNSELLING PROCESS-SSSS.pdf', 'rssm id card (B.Com).pdf', 'SAHIL RE.html', 'SAHIL RESUME.html', 'SAHIL RESUME_files', 'SAHIL RE_files', 'Sam_Bahadur_2023_Hindi_Full_Movie_Pre-DVD.mp4', 'Screenshot 2024-08-12 105512.png', 'SteamSetup (1).exe', 'SteamSetup.exe', 'Untitled (1).pdf', 'Untitled.ipynb', 'Untitled.pdf', 'Untitled21.ipynb', 'Untitled9 (1).ipynb', 'Untitled9.ipynb', 'vivek resumae3.pdf', 'Vivek resume.docx', 'Web Scraping Assignment - 3.csv (1).ipynb', 'web-scraping-assignment-3--1---1---2---1---2-.pdf', 'WhatsApp Audio 2024-07-25 at 10.36.14.mp4', 'WhatsApp Audio 2024-07-25 at 10.50.45 (1).mp4', 'WhatsApp Audio 2024-07-25 at 10.50.45.mp4', 'WhatsApp Audio 2024-07-25 at 11.27.55.mp4', 'WhatsApp Audio 2024-07-25 at 12.20.37.aac', 'WhatsApp Audio 2024-07-25 at 12.22.26.mp4', 'WhatsApp Audio 2024-07-25 at 13.42.07.mp4', 'WhatsApp Audio 2024-07-25 at 15.31.44.mp4', 'WhatsApp Audio 2024-07-25 at 16.13.09.mp4', 'WhatsApp Audio 2024-07-25 at 17.20.38.aac', 'WhatsApp Audio 2024-07-26 at 10.01.21 (1).mp4', 'WhatsApp Audio 2024-07-26 at 10.01.21.mp4', 'WhatsApp Audio 2024-07-26 at 10.26.18 (1).mp4', 'WhatsApp Audio 2024-07-26 at 10.26.18 (2).mp4', 'WhatsApp Audio 2024-07-26 at 10.26.18.mp4', 'WhatsApp Audio 2024-07-26 at 10.42.49.mp4', 'WhatsApp Audio 2024-07-26 at 13.18.47 (1).mp4', 'WhatsApp Audio 2024-07-26 at 13.18.47.mp4', 'WhatsApp Audio 2024-07-26 at 14.29.40.mp4', 'WhatsApp Audio 2024-07-26 at 15.56.18.mp4', 'WhatsApp Audio 2024-07-26 at 18.11.54 (1).aac', 'WhatsApp Audio 2024-07-26 at 18.11.54.aac', 'WhatsApp Audio 2024-07-26 at 18.21.40.mp4', 'WhatsApp Audio 2024-07-26 at 18.21.41.mp4', 'WhatsApp Audio 2024-07-26 at 18.21.42 (1).mp4', 'WhatsApp Audio 2024-07-26 at 18.21.42.mp4', 'WhatsApp Audio 2024-07-26 at 19.16.36.mp4', 'WhatsApp Audio 2024-07-26 at 19.16.37 (1).mp4', 'WhatsApp Audio 2024-07-26 at 19.16.37.mp4', 'WhatsApp Audio 2024-07-27 at 09.41.53 (1).mp4', 'WhatsApp Audio 2024-07-27 at 09.41.53.mp4', 'WhatsApp Audio 2024-07-27 at 10.07.41.mp4', 'WhatsApp Audio 2024-07-27 at 10.40.32.mp4', 'WhatsApp Audio 2024-07-27 at 11.14.57.mp4', 'WhatsApp Audio 2024-07-27 at 12.48.39.mp4', 'WhatsApp Audio 2024-07-27 at 13.09.46.mp4', 'WhatsApp Audio 2024-07-27 at 15.21.02.mp4', 'WhatsApp Audio 2024-07-29 at 09.43.36.mp4', 'WhatsApp Audio 2024-07-29 at 09.57.35 (1).mp4', 'WhatsApp Audio 2024-07-29 at 09.57.35 (2).mp4', 'WhatsApp Audio 2024-07-29 at 09.57.35.mp4', 'WhatsApp Audio 2024-07-29 at 12.44.23.mp4', 'WhatsApp Audio 2024-07-29 at 14.04.50.mp4', 'WhatsApp Audio 2024-07-29 at 14.33.02.mp4', 'WhatsApp Audio 2024-07-29 at 14.45.50.mp4', 'WhatsApp Audio 2024-07-29 at 14.59.34.mp4', 'WhatsApp Audio 2024-07-29 at 15.00.50.mp4', 'WhatsApp Audio 2024-07-29 at 15.38.46.aac', 'WhatsApp Audio 2024-07-29 at 17.01.05.aac', 'WhatsApp Audio 2024-07-29 at 17.38.24.aac', 'WhatsApp Audio 2024-07-29 at 18.53.35.mp4', 'WhatsApp Audio 2024-07-29 at 19.15.06 (1).mpeg', 'WhatsApp Audio 2024-07-29 at 19.15.06.mpeg', 'WhatsApp Audio 2024-07-29 at 19.23.14.mpeg', 'WhatsApp Audio 2024-07-29 at 19.26.14.mp4', 'WhatsApp Audio 2024-07-29 at 19.30.17.mp4', 'WhatsApp Audio 2024-07-29 at 19.39.11.aac', 'WhatsApp Audio 2024-07-29 at 19.46.19.aac', 'WhatsApp Audio 2024-07-29 at 20.09.32.aac', 'WhatsApp Audio 2024-07-30 at 09.46.58.mp4', 'WhatsApp Audio 2024-07-30 at 10.20.08.mp4', 'WhatsApp Audio 2024-07-30 at 10.35.31.mp4', 'WhatsApp Audio 2024-07-30 at 11.17.27.mp4', 'WhatsApp Audio 2024-07-30 at 15.40.25.mp4', 'WhatsApp Audio 2024-07-30 at 17.40.59.mp4', 'WhatsApp Audio 2024-08-02 at 13.44.44.aac', 'WhatsApp Audio 2024-08-02 at 14.24.35 (1).mp4', 'WhatsApp Audio 2024-08-02 at 14.24.35.mp4', 'WhatsApp Audio 2024-08-05 at 14.19.47.mp4', 'WhatsApp Audio 2024-08-07 at 10.26.53.mp4', 'WhatsApp Audio 2024-08-07 at 13.55.30.mp4', 'WhatsApp Audio 2024-08-07 at 14.34.46.mp4', 'WhatsApp Audio 2024-08-07 at 15.49.58.mp4', 'WhatsApp Audio 2024-08-07 at 15.58.23 (1).mp4', 'WhatsApp Audio 2024-08-07 at 15.58.23.mp4', 'WhatsApp Audio 2024-08-07 at 16.38.45.mp4', 'WhatsApp Audio 2024-08-07 at 16.39.05.mp4', 'WhatsApp Audio 2024-08-07 at 17.17.56.mp4', 'WhatsApp Audio 2024-08-08 at 10.48.14.aac', 'WhatsApp Audio 2024-08-08 at 11.21.03 (1).mp4', 'WhatsApp Audio 2024-08-08 at 11.21.03.mp4', 'WhatsApp Audio 2024-08-10 at 17.16.07.aac', 'WhatsApp Audio 2024-08-11 at 10.01.22.mp4', 'WhatsApp Audio 2024-08-11 at 10.08.39.mp4', 'WhatsApp Audio 2024-08-11 at 10.15.42.mp4', 'WhatsApp Audio 2024-08-11 at 10.29.55.mp4', 'WhatsApp Audio 2024-08-11 at 10.36.38.mp4', 'WhatsApp Audio 2024-08-11 at 10.41.30.mp4', 'WhatsApp Audio 2024-08-11 at 11.07.04.mp4', 'WhatsApp Audio 2024-08-11 at 11.13.10.mp4', 'WhatsApp Audio 2024-08-11 at 11.19.27.mp4', 'WhatsApp Audio 2024-08-11 at 11.25.52.mp4', 'WhatsApp Audio 2024-08-11 at 11.35.43.mp4', 'WhatsApp Audio 2024-08-11 at 11.37.26.mp4', 'WhatsApp Audio 2024-08-11 at 11.43.10.mp4', 'WhatsApp Audio 2024-08-11 at 11.50.14.mp4', 'WhatsApp Audio 2024-08-11 at 11.55.26.mp4', 'WhatsApp Audio 2024-08-11 at 11.59.53.mp4', 'WhatsApp Audio 2024-08-11 at 12.03.44.mp4', 'WhatsApp Audio 2024-08-11 at 12.09.29.mp4', 'WhatsApp Audio 2024-08-11 at 12.20.17.mp4', 'WhatsApp Audio 2024-08-11 at 12.25.42.mp4', 'WhatsApp Audio 2024-08-11 at 12.34.08.mp4', 'WhatsApp Audio 2024-08-11 at 12.39.15.mp4', 'WhatsApp Audio 2024-08-11 at 12.45.14.mp4', 'WhatsApp Audio 2024-08-11 at 12.51.07.mp4', 'WhatsApp Audio 2024-08-11 at 12.56.01.mp4', 'WhatsApp Audio 2024-08-11 at 13.02.19.mp4', 'WhatsApp Audio 2024-08-11 at 13.09.09.mp4', 'WhatsApp Audio 2024-08-11 at 13.16.34.mp4', 'WhatsApp Audio 2024-08-11 at 13.16.51.mp4', 'WhatsApp Audio 2024-08-11 at 13.21.08.mp4', 'WhatsApp Audio 2024-08-11 at 13.29.40.mp4', 'WhatsApp Audio 2024-08-11 at 13.36.35.mp4', 'WhatsApp Audio 2024-08-11 at 13.47.32.mp4', 'WhatsApp Audio 2024-08-11 at 13.54.14.mp4', 'WhatsApp Audio 2024-08-11 at 13.58.19.mp4', 'WhatsApp Audio 2024-08-11 at 14.03.27.mp4', 'WhatsApp Audio 2024-08-11 at 14.14.00.mp4', 'WhatsApp Audio 2024-08-11 at 14.19.23.mp4', 'WhatsApp Audio 2024-08-11 at 14.23.11.mp4', 'WhatsApp Audio 2024-08-11 at 14.32.12.mp4', 'WhatsApp Audio 2024-08-11 at 15.01.59.mp4', 'WhatsApp Audio 2024-08-11 at 15.07.29.mp4', 'WhatsApp Audio 2024-08-11 at 15.13.32.mp4', 'WhatsApp Audio 2024-08-11 at 15.18.27.mp4', 'WhatsApp Audio 2024-08-11 at 15.26.36.mp4', 'WhatsApp Audio 2024-08-11 at 15.32.11.mp4', 'WhatsApp Audio 2024-08-11 at 15.45.56.mp4', 'WhatsApp Audio 2024-08-11 at 15.53.32.mp4', 'WhatsApp Audio 2024-08-11 at 15.59.37.mp4', 'WhatsApp Audio 2024-08-11 at 16.06.16.mp4', 'WhatsApp Audio 2024-08-11 at 16.10.36.mp4', 'WhatsApp Audio 2024-08-11 at 16.16.43.mp4', 'WhatsApp Audio 2024-08-11 at 16.16.59.mp4', 'WhatsApp Audio 2024-08-11 at 16.21.53.mp4', 'WhatsApp Audio 2024-08-11 at 16.28.36.mp4', 'WhatsApp Audio 2024-08-11 at 16.32.57.mp4', 'WhatsApp Audio 2024-08-11 at 16.40.49.mp4', 'WhatsApp Audio 2024-08-11 at 16.51.27.mp4', 'WhatsApp Audio 2024-08-11 at 16.57.08.mp4', 'WhatsApp Audio 2024-08-11 at 17.01.03.mp4', 'WhatsApp Audio 2024-08-11 at 17.07.17.mp4', 'WhatsApp Audio 2024-08-12 at 11.45.55.mp4', 'WhatsApp Audio 2024-08-12 at 11.57.18.mp4', 'WhatsApp Audio 2024-08-12 at 12.00.07.mp4', 'WhatsApp Audio 2024-08-12 at 12.00.18.mp4', 'WhatsApp Audio 2024-08-12 at 12.08.38.mp4', 'WhatsApp Audio 2024-08-12 at 12.11.30.mp4', 'WhatsApp Audio 2024-08-12 at 12.14.21.mp4', 'WhatsApp Audio 2024-08-12 at 12.39.04.mp4', 'WhatsApp Audio 2024-08-12 at 12.44.54.mp4', 'WhatsApp Audio 2024-08-12 at 12.52.16.mp4', 'WhatsApp Audio 2024-08-12 at 16.03.50.mp4', 'WhatsApp Audio 2024-08-12 at 18.09.05.mp4', 'WhatsApp Audio 2024-08-12 at 18.12.46.mp4', 'WhatsApp Audio 2024-08-12 at 18.18.03 (1).mp4', 'WhatsApp Audio 2024-08-12 at 18.18.03.mp4', 'WhatsApp Audio 2024-08-12 at 18.23.54.mp4', 'WhatsApp Audio 2024-08-12 at 18.31.00.mp4', 'WhatsApp Audio 2024-08-12 at 18.36.33.mp4', 'WhatsApp Audio 2024-08-12 at 18.41.51.mp4', 'WhatsApp Audio 2024-08-12 at 18.58.56.mp4', 'WhatsApp Audio 2024-08-12 at 19.03.39.mp4', 'WhatsApp Audio 2024-08-12 at 19.08.54.mp4', 'WhatsApp Audio 2024-08-12 at 19.17.45.mp4', 'WhatsApp Audio 2024-08-12 at 19.21.16.mp4', 'WhatsApp Audio 2024-08-12 at 19.24.25.mp4', 'WhatsApp Audio 2024-08-12 at 19.30.23.mp4', 'WhatsApp Audio 2024-08-12 at 19.34.25.mp4', 'WhatsApp Audio 2024-08-12 at 19.41.00.mp4', 'WhatsApp Audio 2024-08-12 at 19.53.12.mp4', 'WhatsApp Audio 2024-08-12 at 19.56.27.mp4', 'WhatsApp Audio 2024-08-13 at 10.39.25.mp4', 'WhatsApp Audio 2024-08-13 at 11.13.00.mp4', 'WhatsApp Audio 2024-08-13 at 11.27.57.mp4', 'WhatsApp Audio 2024-08-13 at 11.33.57.aac', 'WhatsApp Audio 2024-08-13 at 18.21.40.mp4', 'WhatsApp Audio 2024-08-13 at 18.25.47.mp4', 'WhatsApp Audio 2024-08-13 at 18.30.54.mp4', 'WhatsApp Audio 2024-08-13 at 18.43.52.mp4', 'WhatsApp Audio 2024-08-13 at 18.48.27.mp4', 'WhatsApp Audio 2024-08-13 at 18.53.14.mp4', 'WhatsApp Audio 2024-08-13 at 19.00.53.mp4', 'WhatsApp Audio 2024-08-13 at 19.07.53.mp4', 'WhatsApp Audio 2024-08-13 at 19.17.27.mp4', 'WhatsApp Audio 2024-08-13 at 19.22.32.mp4', 'WhatsApp Audio 2024-08-13 at 19.33.06.mp4', 'WhatsApp Audio 2024-08-13 at 19.38.16.mp4', 'WhatsApp Audio 2024-08-13 at 19.41.04.mp4', 'WhatsApp Audio 2024-08-13 at 19.47.18.mp4', 'WhatsApp Audio 2024-08-13 at 19.52.36.mp4', 'WhatsApp Audio 2024-08-13 at 19.56.31.mp4', 'WhatsApp Audio 2024-08-14 at 12.34.03.mp4', 'WhatsApp Audio 2024-08-14 at 13.32.51.mp4', 'WhatsApp Audio 2024-08-14 at 14.19.57.mp4', 'WhatsApp Audio 2024-08-14 at 15.31.48.mp4', 'WhatsApp Audio 2024-08-14 at 16.47.15.mp4', 'WhatsApp Audio 2024-08-16 at 10.06.05.mp4', 'WhatsApp Audio 2024-08-16 at 10.06.14.mp4', 'WhatsApp Audio 2024-08-16 at 12.12.49.mp4', 'WhatsApp Audio 2024-08-16 at 13.11.18.mp4', 'WhatsApp Audio 2024-08-16 at 13.15.25.mp4', 'WhatsApp Audio 2024-08-16 at 18.04.21.aac', 'WhatsApp Audio 2024-08-17 at 09.51.41.mp4', 'WhatsApp Audio 2024-08-20 at 11.55.45.aac', 'WhatsApp Audio 2024-08-20 at 12.48.25.aac', 'WhatsApp Audio 2024-08-20 at 13.10.09.mp4', 'WhatsApp Audio 2024-08-20 at 13.28.10.mp4', 'WhatsApp Audio 2024-08-20 at 18.23.00.mp4', 'WhatsApp Audio 2024-08-20 at 18.29.06.mp4', 'WhatsApp Audio 2024-08-20 at 18.34.40.mp4', 'WhatsApp Audio 2024-08-20 at 18.39.14.mp4', 'WhatsApp Audio 2024-08-20 at 18.44.05.mp4', 'WhatsApp Audio 2024-08-20 at 18.46.43.mp4', 'WhatsApp Audio 2024-08-20 at 18.51.30.mp4', 'WhatsApp Audio 2024-08-20 at 18.55.45.mp4', 'WhatsApp Audio 2024-08-20 at 19.03.26.mp4', 'WhatsApp Audio 2024-08-20 at 19.11.24.mp4', 'WhatsApp Audio 2024-08-20 at 19.14.58.mp4', 'WhatsApp Audio 2024-08-20 at 19.21.22.mp4', 'WhatsApp Audio 2024-08-20 at 19.28.55.mp4', 'WhatsApp Audio 2024-08-20 at 19.34.22.mp4', 'WhatsApp Audio 2024-08-20 at 19.39.11.mp4', 'WhatsApp Audio 2024-08-20 at 19.47.10 (1).mp4', 'WhatsApp Audio 2024-08-20 at 19.47.10.mp4', 'WhatsApp Audio 2024-08-22 at 11.36.32.mp4', 'WhatsApp Audio 2024-08-22 at 18.31.33.aac', 'WhatsApp Audio 2024-08-22 at 18.39.03.aac', 'WhatsApp Audio 2024-08-22 at 18.44.30.aac', 'WhatsApp Audio 2024-08-22 at 18.50.34.aac', 'WhatsApp Audio 2024-08-22 at 18.54.11.aac', 'WhatsApp Audio 2024-08-22 at 19.01.48.aac', 'WhatsApp Audio 2024-08-22 at 19.06.29.aac', 'WhatsApp Audio 2024-08-22 at 19.11.47.aac', 'WhatsApp Audio 2024-08-22 at 19.16.41.aac', 'WhatsApp Audio 2024-08-22 at 19.26.29.aac', 'WhatsApp Audio 2024-08-22 at 19.29.24.aac', 'WhatsApp Audio 2024-08-22 at 19.35.30.mp4', 'WhatsApp Audio 2024-08-22 at 19.40.50.mp4', 'WhatsApp Audio 2024-08-22 at 19.50.20.mp4', 'WhatsApp Audio 2024-08-22 at 19.50.38.mp4', 'WhatsApp Audio 2024-08-23 at 12.36.50.aac', 'WhatsApp Audio 2024-08-23 at 13.11.20.mp4', 'WhatsApp Audio 2024-08-23 at 15.52.07 (1).aac', 'WhatsApp Audio 2024-08-23 at 15.52.07.aac', 'WhatsApp Audio 2024-08-23 at 16.22.35.mp4', 'WhatsApp Audio 2024-08-23 at 16.44.54.aac', 'WhatsApp Audio 2024-08-23 at 18.09.04.mp4', 'WhatsApp Audio 2024-08-23 at 18.16.46.mp4', 'WhatsApp Audio 2024-08-23 at 18.35.01.mp4', 'WhatsApp Audio 2024-08-23 at 18.36.14.mp4', 'WhatsApp Audio 2024-08-23 at 18.37.58.mp4', 'WhatsApp Audio 2024-08-23 at 18.39.32.mp4', 'WhatsApp Audio 2024-08-23 at 18.41.16.mp4', 'WhatsApp Audio 2024-08-23 at 19.01.05.mp4', 'WhatsApp Audio 2024-08-23 at 19.03.48.mp4', 'WhatsApp Audio 2024-08-23 at 19.05.03.mp4', 'WhatsApp Audio 2024-08-23 at 19.09.48.mp4', 'WhatsApp Audio 2024-08-23 at 19.18.27.mp4', 'WhatsApp Audio 2024-08-23 at 19.21.30.mp4', 'WhatsApp Audio 2024-08-23 at 19.29.59.mp4', 'WhatsApp Audio 2024-08-23 at 19.34.24.mp4', 'WhatsApp Audio 2024-08-23 at 19.39.14.mp4', 'WhatsApp Audio 2024-08-23 at 19.45.00.mp4', 'WhatsApp Audio 2024-08-23 at 19.49.33.mp4', 'WhatsApp Audio 2024-08-23 at 19.55.06.mp4', 'WhatsApp Audio 2024-08-26 at 12.12.06.aac', 'WhatsApp Audio 2024-08-26 at 12.47.29.aac', 'WhatsApp Audio 2024-08-26 at 13.53.53.aac', 'WhatsApp Audio 2024-08-26 at 13.57.03.aac', 'WhatsApp Audio 2024-08-26 at 14.03.52.aac', 'WhatsApp Audio 2024-08-26 at 14.20.05.aac', 'WhatsApp Audio 2024-08-26 at 14.30.35.aac', 'WhatsApp Audio 2024-08-26 at 15.26.36.aac', 'WhatsApp Audio 2024-08-26 at 15.34.49.aac', 'WhatsApp Audio 2024-08-26 at 16.02.34.aac', 'WhatsApp Audio 2024-08-26 at 16.14.11.aac', 'WhatsApp Audio 2024-08-26 at 16.26.16.aac', 'WhatsApp Audio 2024-08-26 at 16.47.26.aac', 'WhatsApp Audio 2024-08-26 at 18.07.36.aac', 'WhatsApp Audio 2024-08-26 at 18.12.08.aac', 'WhatsApp Audio 2024-08-26 at 18.15.15.aac', 'WhatsApp Audio 2024-08-26 at 18.18.09.aac', 'WhatsApp Audio 2024-08-26 at 18.21.09.aac', 'WhatsApp Audio 2024-08-26 at 18.31.03.aac', 'WhatsApp Audio 2024-08-26 at 18.36.12.aac', 'WhatsApp Audio 2024-08-26 at 18.38.51.aac', 'WhatsApp Audio 2024-08-26 at 18.43.06.aac', 'WhatsApp Audio 2024-08-26 at 18.46.29.aac', 'WhatsApp Audio 2024-08-26 at 18.51.54.aac', 'WhatsApp Audio 2024-08-26 at 18.56.18.aac', 'WhatsApp Audio 2024-08-26 at 18.59.11.aac', 'WhatsApp Audio 2024-08-26 at 19.03.03.aac', 'WhatsApp Audio 2024-08-26 at 19.06.04.aac', 'WhatsApp Audio 2024-08-26 at 19.11.09.aac', 'WhatsApp Audio 2024-08-26 at 19.14.04.aac', 'WhatsApp Audio 2024-08-26 at 19.18.32.aac', 'WhatsApp Audio 2024-08-26 at 19.21.17.aac', 'WhatsApp Audio 2024-08-26 at 19.24.41.aac', 'WhatsApp Audio 2024-08-27 at 11.01.03.aac', 'WhatsApp Audio 2024-08-27 at 11.05.43.aac', 'WhatsApp Audio 2024-08-27 at 11.14.44.aac', 'WhatsApp Audio 2024-08-27 at 13.21.05.aac', 'WhatsApp Audio 2024-08-27 at 13.52.14.aac', 'WhatsApp Audio 2024-08-27 at 15.00.07.aac', 'WhatsApp Audio 2024-08-27 at 15.40.25.aac', 'WhatsApp Audio 2024-08-27 at 15.47.46.aac', 'WhatsApp Audio 2024-08-27 at 16.05.03.aac', 'WhatsApp Audio 2024-08-27 at 17.55.35.aac', 'WhatsApp Audio 2024-08-27 at 17.58.42.aac', 'WhatsApp Audio 2024-08-27 at 18.12.19.aac', 'WhatsApp Audio 2024-08-27 at 18.13.55.aac', 'WhatsApp Audio 2024-08-27 at 18.20.37.aac', 'WhatsApp Audio 2024-08-27 at 18.23.11.aac', 'WhatsApp Audio 2024-08-27 at 18.28.41.aac', 'WhatsApp Audio 2024-08-27 at 18.28.47.aac', 'WhatsApp Audio 2024-08-27 at 18.32.32.aac', 'WhatsApp Audio 2024-08-27 at 18.34.39.aac', 'WhatsApp Audio 2024-08-27 at 18.38.46.aac', 'WhatsApp Audio 2024-08-27 at 18.43.56.aac', 'WhatsApp Audio 2024-08-27 at 18.51.00.aac', 'WhatsApp Audio 2024-08-27 at 18.53.12.aac', 'WhatsApp Audio 2024-08-27 at 18.57.17.aac', 'WhatsApp Audio 2024-08-27 at 18.58.58.aac', 'WhatsApp Audio 2024-08-27 at 19.06.27.aac', 'WhatsApp Audio 2024-08-27 at 19.07.34 (1).aac', 'WhatsApp Audio 2024-08-27 at 19.07.34.aac', 'WhatsApp Audio 2024-08-27 at 19.11.57.aac', 'WhatsApp Audio 2024-08-28 at 11.12.26.aac', 'WhatsApp Audio 2024-08-28 at 12.43.54.aac', 'WhatsApp Audio 2024-08-28 at 13.28.37.aac', 'WhatsApp Audio 2024-08-28 at 13.36.46.aac', 'WhatsApp Audio 2024-08-28 at 15.53.21.aac', 'WhatsApp Audio 2024-08-28 at 18.07.28.aac', 'WhatsApp Audio 2024-08-28 at 18.09.15 (1).aac', 'WhatsApp Audio 2024-08-28 at 18.09.15.aac', 'WhatsApp Audio 2024-08-28 at 18.18.42.aac', 'WhatsApp Audio 2024-08-28 at 18.25.48 (1).aac', 'WhatsApp Audio 2024-08-28 at 18.25.48.aac', 'WhatsApp Audio 2024-08-28 at 18.31.15.aac', 'WhatsApp Audio 2024-08-28 at 18.41.01.aac', 'WhatsApp Audio 2024-08-28 at 18.55.26 (1).aac', 'WhatsApp Audio 2024-08-28 at 18.55.26.aac', 'WhatsApp Audio 2024-08-28 at 19.17.04.aac', 'WhatsApp Audio 2024-08-28 at 19.23.55.aac', 'WhatsApp Audio 2024-08-28 at 19.26.55.aac', 'WhatsApp Audio 2024-08-29 at 10.49.20.aac', 'WhatsApp Audio 2024-08-29 at 10.52.28.aac', 'WhatsApp Audio 2024-08-29 at 10.54.27.aac', 'WhatsApp Audio 2024-08-29 at 10.56.27.aac', 'WhatsApp Audio 2024-08-29 at 10.57.52.aac', 'WhatsApp Audio 2024-08-29 at 11.32.56.aac', 'WhatsApp Audio 2024-08-29 at 12.06.22.aac', 'WhatsApp Audio 2024-08-29 at 13.05.36.aac', 'WhatsApp Audio 2024-08-29 at 13.53.26.aac', 'WhatsApp Audio 2024-08-29 at 15.38.17.aac', 'WhatsApp Audio 2024-08-29 at 18.10.38.aac', 'WhatsApp Audio 2024-08-29 at 18.18.36.aac', 'WhatsApp Audio 2024-08-29 at 18.19.35.aac', 'WhatsApp Audio 2024-08-29 at 18.25.33.aac', 'WhatsApp Audio 2024-08-29 at 18.25.40.aac', 'WhatsApp Audio 2024-08-29 at 18.27.55.aac', 'WhatsApp Audio 2024-08-29 at 18.33.43 (1).aac', 'WhatsApp Audio 2024-08-29 at 18.33.43.aac', 'WhatsApp Audio 2024-08-29 at 18.37.57.aac', 'WhatsApp Audio 2024-08-29 at 18.43.31.aac', 'WhatsApp Audio 2024-08-29 at 18.49.17.aac', 'WhatsApp Audio 2024-08-29 at 18.55.39.aac', 'WhatsApp Audio 2024-08-29 at 18.56.37.aac', 'WhatsApp Audio 2024-08-29 at 19.00.47.aac', 'WhatsApp Audio 2024-08-29 at 19.06.37.aac', 'WhatsApp Audio 2024-08-29 at 19.26.49.aac', 'WhatsApp Audio 2024-08-29 at 19.32.47.aac', 'WhatsApp Audio 2024-08-29 at 19.39.20.aac', 'WhatsApp Audio 2024-08-29 at 19.54.01.aac', 'WhatsApp Audio 2024-08-30 at 11.29.45.aac', 'WhatsApp Audio 2024-08-30 at 11.34.58.aac', 'WhatsApp Audio 2024-08-30 at 12.05.52.aac', 'WhatsApp Audio 2024-08-30 at 12.54.43.aac', 'WhatsApp Audio 2024-08-30 at 13.48.16.aac', 'WhatsApp Audio 2024-08-30 at 14.01.38.aac', 'WhatsApp Audio 2024-08-30 at 15.57.53.aac', 'WhatsApp Audio 2024-08-30 at 16.15.41.aac', 'WhatsApp Audio 2024-08-30 at 16.28.48.aac', 'WhatsApp Audio 2024-08-30 at 16.39.52.aac', 'WhatsApp Audio 2024-08-30 at 16.56.45.aac', 'WhatsApp Audio 2024-08-30 at 17.35.34.aac', 'WhatsApp Audio 2024-08-30 at 18.21.55.aac', 'WhatsApp Audio 2024-08-30 at 18.36.18.aac', 'WhatsApp Audio 2024-08-30 at 18.46.38.aac', 'WhatsApp Audio 2024-08-30 at 18.54.03.aac', 'WhatsApp Audio 2024-08-30 at 19.01.52.aac', 'WhatsApp Audio 2024-08-30 at 19.20.04.aac', 'WhatsApp Audio 2024-08-30 at 19.26.42.aac', 'WhatsApp Audio 2024-08-30 at 19.42.07.aac', 'WhatsApp Audio 2024-08-30 at 19.51.39.aac', 'WhatsApp Audio 2024-09-02 at 12.23.22.aac', 'WhatsApp Audio 2024-09-02 at 13.03.55.aac', 'WhatsApp Audio 2024-09-02 at 13.25.14.aac', 'WhatsApp Audio 2024-09-02 at 15.56.47.aac', 'WhatsApp Audio 2024-09-02 at 18.01.58.aac', 'WhatsApp Audio 2024-09-02 at 18.03.39.aac', 'WhatsApp Audio 2024-09-02 at 18.06.53.aac', 'WhatsApp Audio 2024-09-02 at 18.10.36.aac', 'WhatsApp Audio 2024-09-02 at 18.19.55.aac', 'WhatsApp Audio 2024-09-02 at 18.23.06.aac', 'WhatsApp Audio 2024-09-02 at 18.26.35.aac', 'WhatsApp Audio 2024-09-02 at 18.34.42.aac', 'WhatsApp Audio 2024-09-02 at 18.39.30.aac', 'WhatsApp Audio 2024-09-02 at 18.43.03.aac', 'WhatsApp Audio 2024-09-02 at 18.48.32.aac', 'WhatsApp Audio 2024-09-02 at 18.53.50.aac', 'WhatsApp Audio 2024-09-02 at 18.56.43.aac', 'WhatsApp Audio 2024-09-02 at 19.00.53.aac', 'WhatsApp Audio 2024-09-02 at 19.04.24 (1).aac', 'WhatsApp Audio 2024-09-02 at 19.04.24.aac', 'WhatsApp Audio 2024-09-02 at 19.08.41.aac', 'WhatsApp Audio 2024-09-02 at 19.11.44.aac', 'WhatsApp Audio 2024-09-02 at 19.16.20.aac', 'WhatsApp Audio 2024-09-02 at 19.22.35.aac', 'WhatsApp Audio 2024-09-02 at 19.25.09.aac', 'WhatsApp Audio 2024-09-02 at 19.28.10 (1).aac', 'WhatsApp Audio 2024-09-02 at 19.28.10.aac', 'WhatsApp Audio 2024-09-02 at 19.37.42.aac', 'WhatsApp Audio 2024-09-02 at 19.41.12.aac', 'WhatsApp Audio 2024-09-02 at 19.43.40.aac', 'WhatsApp Audio 2024-09-03 at 10.50.08.aac', 'WhatsApp Audio 2024-09-03 at 11.20.26.aac', 'WhatsApp Audio 2024-09-03 at 12.49.41.aac', 'WhatsApp Audio 2024-09-03 at 13.31.36.aac', 'WhatsApp Audio 2024-09-03 at 13.40.21.aac', 'WhatsApp Audio 2024-09-03 at 14.55.13.aac', 'WhatsApp Audio 2024-09-03 at 15.01.35.aac', 'WhatsApp Audio 2024-09-03 at 15.05.12.aac', 'WhatsApp Audio 2024-09-03 at 15.09.17.aac', 'WhatsApp Audio 2024-09-03 at 15.22.25.aac', 'WhatsApp Audio 2024-09-03 at 15.25.00.aac', 'WhatsApp Audio 2024-09-03 at 15.30.06.aac', 'WhatsApp Audio 2024-09-03 at 15.38.46.aac', 'WhatsApp Audio 2024-09-03 at 15.42.39.aac', 'WhatsApp Audio 2024-09-03 at 15.59.15.aac', 'WhatsApp Audio 2024-09-03 at 16.04.49.aac', 'WhatsApp Audio 2024-09-03 at 16.08.52.aac', 'WhatsApp Audio 2024-09-03 at 16.32.12.aac', 'WhatsApp Audio 2024-09-03 at 16.43.25.aac', 'WhatsApp Audio 2024-09-03 at 16.55.18.aac', 'WhatsApp Audio 2024-09-03 at 17.14.25.aac', 'WhatsApp Audio 2024-09-03 at 17.24.13.aac', 'WhatsApp Audio 2024-09-03 at 17.34.17.aac', 'WhatsApp Audio 2024-09-03 at 18.09.00.aac', 'WhatsApp Audio 2024-09-03 at 18.14.39.aac', 'WhatsApp Audio 2024-09-03 at 18.21.08.aac', 'WhatsApp Audio 2024-09-03 at 18.25.45.aac', 'WhatsApp Audio 2024-09-03 at 18.28.09.aac', 'WhatsApp Audio 2024-09-03 at 18.31.10.aac', 'WhatsApp Audio 2024-09-03 at 18.36.22.aac', 'WhatsApp Audio 2024-09-03 at 18.41.34.aac', 'WhatsApp Audio 2024-09-03 at 18.45.06 (1).aac', 'WhatsApp Audio 2024-09-03 at 18.45.06.aac', 'WhatsApp Audio 2024-09-03 at 18.54.55.aac', 'WhatsApp Audio 2024-09-03 at 18.58.36.aac', 'WhatsApp Audio 2024-09-03 at 19.03.23.aac', 'WhatsApp Audio 2024-09-03 at 19.09.22.aac', 'WhatsApp Audio 2024-09-03 at 19.12.48.aac', 'WhatsApp Audio 2024-09-03 at 19.16.02.aac', 'WhatsApp Audio 2024-09-03 at 19.25.09.aac', 'WhatsApp Audio 2024-09-03 at 19.28.47.aac', 'WhatsApp Audio 2024-09-03 at 19.32.42.aac', 'WhatsApp Audio 2024-09-03 at 19.37.05.aac', 'WhatsApp Audio 2024-09-03 at 19.42.19.aac', 'WhatsApp Audio 2024-09-03 at 19.47.04.aac', 'WhatsApp Audio 2024-09-03 at 19.54.57.aac', 'WhatsApp Audio 2024-09-03 at 19.59.30.aac', 'WhatsApp Audio 2024-09-03 at 20.04.21.aac', 'WhatsApp Audio 2024-09-03 at 20.06.25.aac', 'WhatsApp Audio 2024-09-04 at 10.08.12.aac', 'WhatsApp Audio 2024-09-04 at 10.10.24.aac', 'WhatsApp Audio 2024-09-04 at 10.17.34.aac', 'WhatsApp Audio 2024-09-04 at 10.22.46.aac', 'WhatsApp Audio 2024-09-04 at 10.28.27.aac', 'WhatsApp Audio 2024-09-04 at 10.33.06.aac', 'WhatsApp Audio 2024-09-04 at 11.12.03.aac', 'WhatsApp Audio 2024-09-04 at 11.36.43.aac', 'WhatsApp Audio 2024-09-04 at 11.41.21.aac', 'WhatsApp Audio 2024-09-04 at 12.11.13.aac', 'WhatsApp Audio 2024-09-04 at 12.15.26.aac', 'WhatsApp Audio 2024-09-04 at 12.24.14 (1).aac', 'WhatsApp Audio 2024-09-04 at 12.24.14.aac', 'WhatsApp Audio 2024-09-04 at 12.45.11.aac', 'WhatsApp Audio 2024-09-04 at 13.21.58.aac', 'WhatsApp Audio 2024-09-04 at 13.29.56.aac', 'WhatsApp Audio 2024-09-04 at 13.51.45.aac', 'WhatsApp Audio 2024-09-04 at 14.04.46.aac', 'WhatsApp Audio 2024-09-04 at 14.15.49.aac', 'WhatsApp Audio 2024-09-04 at 14.26.37.aac', 'WhatsApp Audio 2024-09-04 at 14.45.31.aac', 'WhatsApp Audio 2024-09-04 at 14.48.31.aac', 'WhatsApp Audio 2024-09-04 at 15.01.32.aac', 'WhatsApp Audio 2024-09-04 at 15.51.44.aac', 'WhatsApp Audio 2024-09-04 at 15.56.17.aac', 'WhatsApp Audio 2024-09-04 at 15.59.57.aac', 'WhatsApp Audio 2024-09-04 at 16.04.34.aac', 'WhatsApp Audio 2024-09-04 at 16.26.45.aac', 'WhatsApp Audio 2024-09-04 at 17.02.27.aac', 'WhatsApp Audio 2024-09-04 at 17.05.49.aac', 'WhatsApp Audio 2024-09-04 at 18.10.45.aac', 'WhatsApp Audio 2024-09-04 at 18.14.06.aac', 'WhatsApp Audio 2024-09-04 at 18.18.45.aac', 'WhatsApp Audio 2024-09-04 at 18.21.24.aac', 'WhatsApp Audio 2024-09-04 at 18.27.32.aac', 'WhatsApp Audio 2024-09-04 at 18.30.15.aac', 'WhatsApp Audio 2024-09-04 at 18.33.02.aac', 'WhatsApp Audio 2024-09-04 at 18.36.43.aac', 'WhatsApp Audio 2024-09-04 at 18.40.53.aac', 'WhatsApp Audio 2024-09-04 at 18.44.29.aac', 'WhatsApp Audio 2024-09-05 at 09.38.31.aac', 'WhatsApp Audio 2024-09-05 at 09.50.45.aac', 'WhatsApp Audio 2024-09-05 at 09.54.32.aac', 'WhatsApp Audio 2024-09-05 at 09.59.43.aac', 'WhatsApp Audio 2024-09-05 at 10.12.52.aac', 'WhatsApp Audio 2024-09-05 at 10.28.49.aac', 'WhatsApp Audio 2024-09-05 at 11.09.40.aac', 'WhatsApp Audio 2024-09-05 at 11.25.39.aac', 'WhatsApp Audio 2024-09-05 at 11.37.44.aac', 'WhatsApp Audio 2024-09-05 at 11.51.52.aac', 'WhatsApp Audio 2024-09-05 at 12.14.52.aac', 'WhatsApp Audio 2024-09-05 at 12.25.39.aac', 'WhatsApp Audio 2024-09-05 at 12.32.54.aac', 'WhatsApp Audio 2024-09-05 at 13.06.11.aac', 'WhatsApp Audio 2024-09-05 at 13.09.06.aac', 'WhatsApp Audio 2024-09-05 at 13.32.00.aac', 'WhatsApp Audio 2024-09-05 at 13.37.22.aac', 'WhatsApp Audio 2024-09-05 at 14.03.15.aac', 'WhatsApp Audio 2024-09-05 at 14.11.23.aac', 'WhatsApp Audio 2024-09-05 at 14.23.51 (1).aac', 'WhatsApp Audio 2024-09-05 at 14.23.51.aac', 'WhatsApp Audio 2024-09-05 at 14.29.35.aac', 'WhatsApp Audio 2024-09-05 at 14.50.54.aac', 'WhatsApp Audio 2024-09-05 at 14.57.18.aac', 'WhatsApp Audio 2024-09-05 at 16.16.29.aac', 'WhatsApp Audio 2024-09-05 at 16.23.27.aac', 'WhatsApp Audio 2024-09-05 at 16.54.32.aac', 'WhatsApp Audio 2024-09-05 at 17.40.33.aac', 'WhatsApp Audio 2024-09-05 at 17.48.51.aac', 'WhatsApp Audio 2024-09-05 at 18.14.03.aac', 'WhatsApp Audio 2024-09-05 at 18.19.33.aac', 'WhatsApp Audio 2024-09-05 at 18.30.10.aac', 'WhatsApp Audio 2024-09-05 at 18.36.09.aac', 'WhatsApp Audio 2024-09-05 at 18.44.26.aac', 'WhatsApp Audio 2024-09-05 at 19.01.15.aac', 'WhatsApp Audio 2024-09-05 at 19.21.22.aac', 'WhatsApp Audio 2024-09-06 at 11.10.51.aac', 'WhatsApp Audio 2024-09-06 at 11.49.45.aac', 'WhatsApp Audio 2024-09-06 at 11.56.48.aac', 'WhatsApp Audio 2024-09-06 at 12.28.05.aac', 'WhatsApp Audio 2024-09-06 at 12.38.49.aac', 'WhatsApp Audio 2024-09-06 at 12.55.39.aac', 'WhatsApp Audio 2024-09-06 at 12.59.52.aac', 'WhatsApp Audio 2024-09-06 at 13.03.52.aac', 'WhatsApp Audio 2024-09-06 at 13.22.46.aac', 'WhatsApp Audio 2024-09-06 at 13.28.46.aac', 'WhatsApp Audio 2024-09-06 at 13.44.39.aac', 'WhatsApp Audio 2024-09-06 at 14.23.43.aac', 'WhatsApp Audio 2024-09-06 at 14.37.02.aac', 'WhatsApp Audio 2024-09-06 at 15.35.57.aac', 'WhatsApp Audio 2024-09-06 at 15.57.50.aac', 'WhatsApp Audio 2024-09-06 at 16.05.05 (1).aac', 'WhatsApp Audio 2024-09-06 at 16.05.05.aac', 'WhatsApp Audio 2024-09-06 at 16.11.31.aac', 'WhatsApp Audio 2024-09-06 at 16.21.33.aac', 'WhatsApp Audio 2024-09-06 at 16.28.08.aac', 'WhatsApp Audio 2024-09-06 at 16.39.53.aac', 'WhatsApp Audio 2024-09-06 at 16.44.35.aac', 'WhatsApp Audio 2024-09-06 at 16.47.26.aac', 'WhatsApp Audio 2024-09-06 at 16.55.13.aac', 'WhatsApp Audio 2024-09-06 at 17.00.19.aac', 'WhatsApp Audio 2024-09-06 at 17.20.29.aac', 'WhatsApp Audio 2024-09-06 at 17.23.08 (1).aac', 'WhatsApp Audio 2024-09-06 at 17.23.08.aac', 'WhatsApp Audio 2024-09-06 at 17.28.43.aac', 'WhatsApp Audio 2024-09-06 at 18.51.07.aac', 'WhatsApp Audio 2024-09-06 at 19.23.01 (1).aac', 'WhatsApp Audio 2024-09-06 at 19.23.01.aac', 'WhatsApp Audio 2024-09-06 at 19.28.25.aac', 'WhatsApp Audio 2024-09-06 at 19.36.19.aac', 'WhatsApp Audio 2024-09-07 at 10.08.13.aac', 'WhatsApp Audio 2024-09-07 at 10.14.31.aac', 'WhatsApp Audio 2024-09-07 at 11.18.58.aac', 'WhatsApp Audio 2024-09-07 at 11.38.02.aac', 'WhatsApp Audio 2024-09-07 at 11.40.12.aac', 'WhatsApp Audio 2024-09-07 at 11.51.45.aac', 'WhatsApp Audio 2024-09-07 at 12.01.08.aac', 'WhatsApp Audio 2024-09-07 at 12.04.16.aac', 'WhatsApp Audio 2024-09-07 at 12.07.22.aac', 'WhatsApp Audio 2024-09-07 at 12.16.41.aac', 'WhatsApp Audio 2024-09-07 at 12.34.35.aac', 'WhatsApp Audio 2024-09-07 at 12.35.48.aac', 'WhatsApp Audio 2024-09-07 at 12.36.45.aac', 'WhatsApp Audio 2024-09-07 at 12.51.01.aac', 'WhatsApp Audio 2024-09-07 at 13.01.41.aac', 'WhatsApp Audio 2024-09-07 at 13.29.31.aac', 'WhatsApp Audio 2024-09-07 at 13.33.53.aac', 'WhatsApp Audio 2024-09-07 at 13.47.39.aac', 'WhatsApp Audio 2024-09-07 at 13.52.30.aac', 'WhatsApp Audio 2024-09-07 at 14.15.31.aac', 'WhatsApp Audio 2024-09-07 at 14.46.37.aac', 'WhatsApp Audio 2024-09-07 at 15.00.58.aac', 'WhatsApp Audio 2024-09-07 at 15.05.07.aac', 'WhatsApp Audio 2024-09-07 at 15.35.10.aac', 'WhatsApp Audio 2024-09-07 at 15.41.17.aac', 'WhatsApp Audio 2024-09-07 at 15.52.47.aac', 'WhatsApp Audio 2024-09-07 at 16.05.38.aac', 'WhatsApp Audio 2024-09-07 at 16.10.21.aac', 'WhatsApp Audio 2024-09-07 at 16.19.37.aac', 'WhatsApp Audio 2024-09-07 at 16.22.38.aac', 'WhatsApp Audio 2024-09-07 at 16.27.59.aac', 'WhatsApp Audio 2024-09-07 at 16.41.02.aac', 'WhatsApp Audio 2024-09-07 at 16.47.18.aac', 'WhatsApp Audio 2024-09-07 at 16.47.26.aac', 'WhatsApp Audio 2024-09-07 at 16.52.23.aac', 'WhatsApp Audio 2024-09-07 at 16.56.21.aac', 'WhatsApp Audio 2024-09-07 at 17.44.01.aac', 'WhatsApp Audio 2024-09-07 at 17.54.01.aac', 'WhatsApp Audio 2024-09-07 at 18.03.06.aac', 'WhatsApp Audio 2024-09-07 at 18.04.12.aac', 'WhatsApp Audio 2024-09-07 at 18.10.40.aac', 'WhatsApp Audio 2024-09-07 at 18.20.11.aac', 'WhatsApp Audio 2024-09-08 at 09.50.48.aac', 'WhatsApp Audio 2024-09-08 at 09.55.14.aac', 'WhatsApp Audio 2024-09-08 at 09.58.22 (1).aac', 'WhatsApp Audio 2024-09-08 at 09.58.22.aac', 'WhatsApp Audio 2024-09-08 at 10.01.36.aac', 'WhatsApp Audio 2024-09-08 at 10.03.34.aac', 'WhatsApp Audio 2024-09-08 at 10.09.09.aac', 'WhatsApp Audio 2024-09-08 at 10.11.20.aac', 'WhatsApp Audio 2024-09-08 at 10.15.23.aac', 'WhatsApp Audio 2024-09-08 at 10.19.29.aac', 'WhatsApp Audio 2024-09-08 at 10.19.34.aac', 'WhatsApp Audio 2024-09-08 at 10.31.32.aac', 'WhatsApp Audio 2024-09-08 at 10.40.06.aac', 'WhatsApp Audio 2024-09-08 at 10.42.50.aac', 'WhatsApp Audio 2024-09-08 at 10.47.04.aac', 'WhatsApp Audio 2024-09-08 at 11.05.04.aac', 'WhatsApp Audio 2024-09-08 at 11.13.15.aac', 'WhatsApp Audio 2024-09-08 at 11.22.11.aac', 'WhatsApp Audio 2024-09-08 at 11.30.50.aac', 'WhatsApp Audio 2024-09-08 at 11.35.20.aac', 'WhatsApp Audio 2024-09-08 at 11.35.29.aac', 'WhatsApp Audio 2024-09-08 at 11.41.42.aac', 'WhatsApp Audio 2024-09-08 at 11.55.28.aac', 'WhatsApp Audio 2024-09-08 at 12.00.23.aac', 'WhatsApp Audio 2024-09-08 at 12.02.51.aac', 'WhatsApp Audio 2024-09-08 at 12.13.00.aac', 'WhatsApp Audio 2024-09-08 at 12.22.27.aac', 'WhatsApp Audio 2024-09-08 at 12.46.27.aac', 'WhatsApp Audio 2024-09-08 at 12.49.41.aac', 'WhatsApp Audio 2024-09-08 at 12.54.30.aac', 'WhatsApp Audio 2024-09-08 at 13.07.04 (1).aac', 'WhatsApp Audio 2024-09-08 at 13.07.04.aac', 'WhatsApp Audio 2024-09-08 at 13.29.57.aac', 'WhatsApp Audio 2024-09-08 at 13.35.35.aac', 'WhatsApp Audio 2024-09-08 at 14.39.44.aac', 'WhatsApp Audio 2024-09-08 at 15.07.46.aac', 'WhatsApp Audio 2024-09-10 at 10.09.49.aac', 'WhatsApp Audio 2024-09-10 at 10.13.40.aac', 'WhatsApp Audio 2024-09-10 at 10.16.04.aac', 'WhatsApp Audio 2024-09-10 at 10.20.56.aac', 'WhatsApp Audio 2024-09-10 at 10.31.57.aac', 'WhatsApp Audio 2024-09-10 at 10.36.52.aac', 'WhatsApp Audio 2024-09-10 at 10.55.00.aac', 'WhatsApp Audio 2024-09-10 at 11.11.35.aac', 'WhatsApp Audio 2024-09-10 at 11.33.32.aac', 'WhatsApp Audio 2024-09-10 at 11.36.42.aac', 'WhatsApp Audio 2024-09-10 at 11.40.28.aac', 'WhatsApp Audio 2024-09-10 at 12.19.07.aac', 'WhatsApp Audio 2024-09-10 at 12.27.20.aac', 'WhatsApp Audio 2024-09-10 at 12.32.22.aac', 'WhatsApp Audio 2024-09-10 at 12.41.51.aac', 'WhatsApp Audio 2024-09-10 at 12.53.28.aac', 'WhatsApp Audio 2024-09-10 at 12.59.09.aac', 'WhatsApp Audio 2024-09-10 at 13.04.50.aac', 'WhatsApp Audio 2024-09-10 at 13.08.09.aac', 'WhatsApp Audio 2024-09-10 at 13.18.48.aac', 'WhatsApp Audio 2024-09-10 at 13.32.47.aac', 'WhatsApp Audio 2024-09-10 at 13.42.16.aac', 'WhatsApp Audio 2024-09-10 at 13.51.33 (1).aac', 'WhatsApp Audio 2024-09-10 at 13.51.33.aac', 'WhatsApp Audio 2024-09-10 at 14.01.21.aac', 'WhatsApp Audio 2024-09-10 at 14.09.01 (1).aac', 'WhatsApp Audio 2024-09-10 at 14.09.01.aac', 'WhatsApp Audio 2024-09-10 at 14.16.08.aac', 'WhatsApp Audio 2024-09-10 at 14.25.51.aac', 'WhatsApp Audio 2024-09-10 at 14.28.52.aac', 'WhatsApp Audio 2024-09-10 at 14.45.50.aac', 'WhatsApp Audio 2024-09-10 at 14.55.26.aac', 'WhatsApp Audio 2024-09-10 at 15.41.04.aac', 'WhatsApp Audio 2024-09-10 at 15.49.32.aac', 'WhatsApp Audio 2024-09-10 at 15.54.28.aac', 'WhatsApp Audio 2024-09-10 at 15.58.51.aac', 'WhatsApp Audio 2024-09-10 at 16.01.29.aac', 'WhatsApp Audio 2024-09-10 at 16.08.09.aac', 'WhatsApp Audio 2024-09-10 at 16.20.31.aac', 'WhatsApp Audio 2024-09-10 at 16.27.53.aac', 'WhatsApp Audio 2024-09-10 at 16.41.48.aac', 'WhatsApp Audio 2024-09-10 at 16.45.56.aac', 'WhatsApp Audio 2024-09-10 at 16.50.00.aac', 'WhatsApp Audio 2024-09-10 at 16.54.32.aac', 'WhatsApp Audio 2024-09-10 at 17.04.05.aac', 'WhatsApp Audio 2024-09-10 at 17.10.45.aac', 'WhatsApp Audio 2024-09-10 at 17.20.43.aac', 'WhatsApp Audio 2024-09-10 at 17.39.09.aac', 'WhatsApp Audio 2024-09-10 at 17.43.57.aac', 'WhatsApp Audio 2024-09-10 at 17.49.42.mpeg', 'WhatsApp Audio 2024-09-10 at 17.51.43.mpeg', 'WhatsApp Audio 2024-09-10 at 18.19.29.aac', 'WhatsApp Audio 2024-09-10 at 18.23.56.aac', 'WhatsApp Audio 2024-09-10 at 18.27.03.aac', 'WhatsApp Audio 2024-09-10 at 18.31.27.aac', 'WhatsApp Audio 2024-09-10 at 18.40.01.aac', 'WhatsApp Audio 2024-09-10 at 18.45.38.aac', 'WhatsApp Audio 2024-09-10 at 18.49.16.aac', 'WhatsApp Audio 2024-09-10 at 18.49.24.aac', 'WhatsApp Audio 2024-09-10 at 18.53.49.aac', 'WhatsApp Audio 2024-09-10 at 18.57.04.aac', 'WhatsApp Audio 2024-09-10 at 19.02.46.aac', 'WhatsApp Audio 2024-09-10 at 19.09.31.aac', 'WhatsApp Audio 2024-09-10 at 19.12.04.aac', 'WhatsApp Audio 2024-09-10 at 19.15.00.aac', 'WhatsApp Audio 2024-09-10 at 19.21.44.aac', 'WhatsApp Audio 2024-09-10 at 19.26.45.aac', 'WhatsApp Audio 2024-09-10 at 19.33.33.aac', 'WhatsApp Audio 2024-09-10 at 19.39.04.aac', 'WhatsApp Audio 2024-09-10 at 19.43.53.aac', 'WhatsApp Audio 2024-09-11 at 09.45.05.aac', 'WhatsApp Audio 2024-09-11 at 09.49.13.aac', 'WhatsApp Audio 2024-09-11 at 09.57.23.aac', 'WhatsApp Audio 2024-09-11 at 10.00.00.aac', 'WhatsApp Audio 2024-09-11 at 10.02.21.aac', 'WhatsApp Audio 2024-09-11 at 10.08.33.aac', 'WhatsApp Audio 2024-09-11 at 10.12.11.aac', 'WhatsApp Audio 2024-09-11 at 10.31.00.aac', 'WhatsApp Audio 2024-09-11 at 10.36.02.aac', 'WhatsApp Audio 2024-09-11 at 10.42.03.aac', 'WhatsApp Audio 2024-09-11 at 10.45.52.aac', 'WhatsApp Audio 2024-09-11 at 10.50.00 (1).aac', 'WhatsApp Audio 2024-09-11 at 10.50.00.aac', 'WhatsApp Audio 2024-09-11 at 10.54.39.aac', 'WhatsApp Audio 2024-09-11 at 11.04.27.aac', 'WhatsApp Audio 2024-09-11 at 11.13.40.aac', 'WhatsApp Audio 2024-09-11 at 11.15.53.aac', 'WhatsApp Audio 2024-09-11 at 11.25.41.aac', 'WhatsApp Audio 2024-09-11 at 11.31.00.aac', 'WhatsApp Audio 2024-09-11 at 11.34.52.aac', 'WhatsApp Audio 2024-09-11 at 11.38.23.aac', 'WhatsApp Audio 2024-09-11 at 11.42.49.aac', 'WhatsApp Audio 2024-09-11 at 11.53.10.aac', 'WhatsApp Audio 2024-09-11 at 11.55.48.aac', 'WhatsApp Audio 2024-09-11 at 11.55.57.aac', 'WhatsApp Audio 2024-09-11 at 12.03.47.aac', 'WhatsApp Audio 2024-09-11 at 12.18.50.aac', 'WhatsApp Audio 2024-09-11 at 12.22.51.aac', 'WhatsApp Audio 2024-09-11 at 12.26.54.aac', 'WhatsApp Audio 2024-09-11 at 12.57.09.aac', 'WhatsApp Audio 2024-09-11 at 13.00.56.aac', 'WhatsApp Audio 2024-09-11 at 13.06.28.aac', 'WhatsApp Audio 2024-09-11 at 13.23.15.aac', 'WhatsApp Audio 2024-09-11 at 13.36.34.aac', 'WhatsApp Audio 2024-09-11 at 13.51.12.aac', 'WhatsApp Audio 2024-09-11 at 13.54.26.aac', 'WhatsApp Audio 2024-09-11 at 13.57.07 (1).aac', 'WhatsApp Audio 2024-09-11 at 13.57.07.aac', 'WhatsApp Audio 2024-09-11 at 14.04.47.aac', 'WhatsApp Audio 2024-09-11 at 14.14.17.aac', 'WhatsApp Audio 2024-09-11 at 14.18.56.aac', 'WhatsApp Audio 2024-09-11 at 14.38.00.aac', 'WhatsApp Audio 2024-09-11 at 14.54.13.aac', 'WhatsApp Audio 2024-09-11 at 15.09.17.aac', 'WhatsApp Audio 2024-09-11 at 15.21.23.aac', 'WhatsApp Audio 2024-09-11 at 15.56.32.aac', 'WhatsApp Audio 2024-09-11 at 16.05.54.aac', 'WhatsApp Audio 2024-09-11 at 16.08.38.aac', 'WhatsApp Audio 2024-09-11 at 16.17.26.aac', 'WhatsApp Audio 2024-09-11 at 16.21.11.aac', 'WhatsApp Audio 2024-09-11 at 16.42.30.aac', 'WhatsApp Audio 2024-09-11 at 16.46.56.aac', 'WhatsApp Audio 2024-09-11 at 17.38.43.aac', 'WhatsApp Audio 2024-09-11 at 17.40.20.aac', 'WhatsApp Audio 2024-09-11 at 17.46.25.aac', 'WhatsApp Audio 2024-09-11 at 17.51.28.aac', 'WhatsApp Audio 2024-09-11 at 17.57.07 (1).aac', 'WhatsApp Audio 2024-09-11 at 17.57.07.aac', 'WhatsApp Audio 2024-09-11 at 18.06.59 (1).aac', 'WhatsApp Audio 2024-09-11 at 18.06.59.aac', 'WhatsApp Audio 2024-09-11 at 18.09.57.aac', 'WhatsApp Audio 2024-09-11 at 18.13.46 (1).aac', 'WhatsApp Audio 2024-09-11 at 18.13.46.aac', 'WhatsApp Audio 2024-09-11 at 18.16.21.aac', 'WhatsApp Audio 2024-09-11 at 18.19.42.aac', 'WhatsApp Audio 2024-09-11 at 18.23.46.aac', 'WhatsApp Audio 2024-09-11 at 18.30.13.aac', 'WhatsApp Audio 2024-09-11 at 18.33.38.aac', 'WhatsApp Audio 2024-09-11 at 18.36.06.aac', 'WhatsApp Audio 2024-09-11 at 18.40.18.aac', 'WhatsApp Audio 2024-09-11 at 18.46.49.aac', 'WhatsApp Audio 2024-09-11 at 18.57.16.aac', 'WhatsApp Audio 2024-09-11 at 19.02.23.aac', 'WhatsApp Audio 2024-09-11 at 19.06.40.aac', 'WhatsApp Audio 2024-09-11 at 19.08.52 (1).aac', 'WhatsApp Audio 2024-09-11 at 19.08.52.aac', 'WhatsApp Audio 2024-09-11 at 19.11.21.aac', 'WhatsApp Audio 2024-09-11 at 19.13.13.aac', 'WhatsApp Audio 2024-09-11 at 19.18.10.aac', 'WhatsApp Audio 2024-09-11 at 19.18.19.aac', 'WhatsApp Audio 2024-09-11 at 19.24.42.aac', 'WhatsApp Audio 2024-09-11 at 19.27.30.aac', 'WhatsApp Audio 2024-09-11 at 19.29.45.aac', 'WhatsApp Audio 2024-09-11 at 19.33.06.aac', 'WhatsApp Audio 2024-09-11 at 19.51.24.aac', 'WhatsApp Audio 2024-09-12 at 09.59.26.aac', 'WhatsApp Audio 2024-09-12 at 10.42.36.aac', 'WhatsApp Audio 2024-09-12 at 10.46.01.aac', 'WhatsApp Audio 2024-09-12 at 10.53.57.aac', 'WhatsApp Audio 2024-09-12 at 10.57.11.aac', 'WhatsApp Audio 2024-09-12 at 11.01.17.aac', 'WhatsApp Audio 2024-09-12 at 11.10.18.aac', 'WhatsApp Audio 2024-09-12 at 11.15.29.aac', 'WhatsApp Audio 2024-09-12 at 11.19.55.aac', 'WhatsApp Audio 2024-09-12 at 11.25.38 (1).aac', 'WhatsApp Audio 2024-09-12 at 11.25.38.aac', 'WhatsApp Audio 2024-09-12 at 11.37.05.aac', 'WhatsApp Audio 2024-09-12 at 11.46.23.aac', 'WhatsApp Audio 2024-09-12 at 11.55.06 (1).aac', 'WhatsApp Audio 2024-09-12 at 11.55.06.aac', 'WhatsApp Audio 2024-09-12 at 12.06.57.aac', 'WhatsApp Audio 2024-09-12 at 12.29.09.aac', 'WhatsApp Audio 2024-09-12 at 12.34.44.aac', 'WhatsApp Audio 2024-09-12 at 12.38.24.aac', 'WhatsApp Audio 2024-09-12 at 12.46.26.aac', 'WhatsApp Audio 2024-09-12 at 12.54.08.aac', 'WhatsApp Audio 2024-09-12 at 13.02.32.aac', 'WhatsApp Audio 2024-09-12 at 13.15.02.aac', 'WhatsApp Audio 2024-09-12 at 13.17.46.aac', 'WhatsApp Audio 2024-09-12 at 13.21.45.aac', 'WhatsApp Audio 2024-09-12 at 13.28.35.aac', 'WhatsApp Audio 2024-09-12 at 13.31.54.aac', 'WhatsApp Audio 2024-09-12 at 13.36.53.aac', 'WhatsApp Audio 2024-09-12 at 13.45.19.aac', 'WhatsApp Audio 2024-09-12 at 13.49.25.aac', 'WhatsApp Audio 2024-09-12 at 13.55.59.aac', 'WhatsApp Audio 2024-09-12 at 14.21.08.aac', 'WhatsApp Audio 2024-09-12 at 14.27.41.aac', 'WhatsApp Audio 2024-09-12 at 14.30.17.aac', 'WhatsApp Audio 2024-09-12 at 14.43.00.aac', 'WhatsApp Audio 2024-09-12 at 15.01.12.aac', 'WhatsApp Audio 2024-09-12 at 15.41.49.aac', 'WhatsApp Audio 2024-09-12 at 15.45.24.aac', 'WhatsApp Audio 2024-09-12 at 16.02.02.aac', 'WhatsApp Audio 2024-09-12 at 16.05.24.aac', 'WhatsApp Audio 2024-09-12 at 16.09.05.aac', 'WhatsApp Audio 2024-09-12 at 16.16.52 (1).aac', 'WhatsApp Audio 2024-09-12 at 16.16.52.aac', 'WhatsApp Audio 2024-09-12 at 16.24.26.aac', 'WhatsApp Audio 2024-09-12 at 16.40.07.aac', 'WhatsApp Audio 2024-09-12 at 16.49.25.aac', 'WhatsApp Audio 2024-09-12 at 16.54.59.aac', 'WhatsApp Audio 2024-09-12 at 16.58.55.aac', 'WhatsApp Audio 2024-09-12 at 17.16.31 (1).aac', 'WhatsApp Audio 2024-09-12 at 17.16.31.aac', 'WhatsApp Audio 2024-09-12 at 17.22.35.aac', 'WhatsApp Audio 2024-09-12 at 17.31.51 (1).aac', 'WhatsApp Audio 2024-09-12 at 17.31.51.aac', 'WhatsApp Audio 2024-09-12 at 18.08.12.aac', 'WhatsApp Audio 2024-09-12 at 18.14.44.aac', 'WhatsApp Audio 2024-09-12 at 18.26.41.aac', 'WhatsApp Audio 2024-09-12 at 18.30.28.aac', 'WhatsApp Audio 2024-09-12 at 18.33.12.aac', 'WhatsApp Audio 2024-09-12 at 18.38.48.aac', 'WhatsApp Audio 2024-09-12 at 18.45.02.aac', 'WhatsApp Audio 2024-09-12 at 18.52.02.aac', 'WhatsApp Audio 2024-09-12 at 19.00.01.aac', 'WhatsApp Audio 2024-09-12 at 19.04.14.aac', 'WhatsApp Audio 2024-09-12 at 19.12.26.aac', 'WhatsApp Audio 2024-09-12 at 19.16.12.aac', 'WhatsApp Audio 2024-09-12 at 19.19.15.aac', 'WhatsApp Audio 2024-09-13 at 09.31.27.aac', 'WhatsApp Audio 2024-09-13 at 09.49.56.aac', 'WhatsApp Audio 2024-09-13 at 09.58.45.aac', 'WhatsApp Audio 2024-09-13 at 10.11.03.aac', 'WhatsApp Audio 2024-09-13 at 10.26.25.aac', 'WhatsApp Audio 2024-09-13 at 10.32.51 (1).aac', 'WhatsApp Audio 2024-09-13 at 10.32.51.aac', 'WhatsApp Audio 2024-09-13 at 10.58.35.aac', 'WhatsApp Audio 2024-09-13 at 11.05.46.aac', 'WhatsApp Audio 2024-09-13 at 11.17.39.aac', 'WhatsApp Audio 2024-09-13 at 11.24.12.aac', 'WhatsApp Audio 2024-09-13 at 11.28.56.aac', 'WhatsApp Audio 2024-09-13 at 11.41.19.aac', 'WhatsApp Audio 2024-09-13 at 11.44.53.aac', 'WhatsApp Audio 2024-09-13 at 11.47.26.aac', 'WhatsApp Audio 2024-09-13 at 12.06.56.aac', 'WhatsApp Audio 2024-09-13 at 12.15.29.aac', 'WhatsApp Audio 2024-09-13 at 12.24.53.aac', 'WhatsApp Audio 2024-09-13 at 12.36.09.aac', 'WhatsApp Audio 2024-09-13 at 12.42.55.aac', 'WhatsApp Audio 2024-09-13 at 12.59.43.aac', 'WhatsApp Audio 2024-09-13 at 13.06.51.aac', 'WhatsApp Audio 2024-09-13 at 13.13.29.aac', 'WhatsApp Audio 2024-09-13 at 13.16.22.aac', 'WhatsApp Audio 2024-09-13 at 13.26.05.aac', 'WhatsApp Audio 2024-09-13 at 13.35.09.aac', 'WhatsApp Audio 2024-09-13 at 14.07.00.aac', 'WhatsApp Audio 2024-09-13 at 14.29.45.aac', 'WhatsApp Audio 2024-09-13 at 14.46.31.aac', 'WhatsApp Audio 2024-09-13 at 15.42.10.aac', 'WhatsApp Audio 2024-09-13 at 15.47.53.aac', 'WhatsApp Audio 2024-09-13 at 15.55.03.aac', 'WhatsApp Audio 2024-09-13 at 16.29.41.aac', 'WhatsApp Audio 2024-09-13 at 16.46.50.aac', 'WhatsApp Audio 2024-09-13 at 16.52.31.aac', 'WhatsApp Audio 2024-09-13 at 17.01.23.aac', 'WhatsApp Audio 2024-09-16 at 10.09.39.aac', 'WhatsApp Audio 2024-09-16 at 10.51.59.aac', 'WhatsApp Audio 2024-09-16 at 11.10.45.aac', 'WhatsApp Audio 2024-09-16 at 11.35.26.aac', 'WhatsApp Audio 2024-09-16 at 11.44.24.aac', 'WhatsApp Audio 2024-09-16 at 11.46.47.aac', 'WhatsApp Audio 2024-09-16 at 11.50.55.aac', 'WhatsApp Audio 2024-09-16 at 11.56.51.aac', 'WhatsApp Audio 2024-09-16 at 12.01.07.aac', 'WhatsApp Audio 2024-09-16 at 12.08.49.aac', 'WhatsApp Audio 2024-09-16 at 12.21.30.aac', 'WhatsApp Audio 2024-09-16 at 12.35.29.aac', 'WhatsApp Audio 2024-09-16 at 12.40.40.aac', 'WhatsApp Audio 2024-09-16 at 12.48.30.aac', 'WhatsApp Audio 2024-09-16 at 13.01.02.aac', 'WhatsApp Audio 2024-09-16 at 13.11.57.aac', 'WhatsApp Audio 2024-09-16 at 13.16.56.aac', 'WhatsApp Audio 2024-09-16 at 13.55.39 (1).aac', 'WhatsApp Audio 2024-09-16 at 13.55.39.aac', 'WhatsApp Audio 2024-09-16 at 13.57.09.aac', 'WhatsApp Audio 2024-09-16 at 13.59.35.aac', 'WhatsApp Audio 2024-09-16 at 14.15.24.aac', 'WhatsApp Audio 2024-09-16 at 14.34.15.aac', 'WhatsApp Audio 2024-09-16 at 15.38.55.aac', 'WhatsApp Audio 2024-09-16 at 15.44.54.aac', 'WhatsApp Audio 2024-09-16 at 15.52.40.aac', 'WhatsApp Audio 2024-09-16 at 15.57.32.aac', 'WhatsApp Audio 2024-09-16 at 16.03.33.aac', 'WhatsApp Audio 2024-09-16 at 16.08.53.aac', 'WhatsApp Audio 2024-09-16 at 16.34.49.aac', 'WhatsApp Audio 2024-09-16 at 16.40.43.aac', 'WhatsApp Audio 2024-09-16 at 16.52.23.aac', 'WhatsApp Audio 2024-09-16 at 17.22.41.aac', 'WhatsApp Audio 2024-09-16 at 17.31.50.aac', 'WhatsApp Audio 2024-09-16 at 17.38.58.aac', 'WhatsApp Audio 2024-09-16 at 18.05.07.aac', 'WhatsApp Audio 2024-09-16 at 18.10.42.aac', 'WhatsApp Audio 2024-09-16 at 18.16.17.aac', 'WhatsApp Audio 2024-09-16 at 18.20.24.aac', 'WhatsApp Audio 2024-09-16 at 18.24.22.aac', 'WhatsApp Audio 2024-09-16 at 18.28.23.aac', 'WhatsApp Audio 2024-09-16 at 18.30.58.aac', 'WhatsApp Audio 2024-09-16 at 18.35.02.aac', 'WhatsApp Audio 2024-09-16 at 18.40.48.aac', 'WhatsApp Audio 2024-09-16 at 18.44.05.aac', 'WhatsApp Audio 2024-09-16 at 18.46.12.aac', 'WhatsApp Audio 2024-09-16 at 18.50.33.aac', 'WhatsApp Audio 2024-09-16 at 18.55.39.aac', 'WhatsApp Audio 2024-09-16 at 18.57.53.aac', 'WhatsApp Audio 2024-09-16 at 19.01.10.aac', 'WhatsApp Audio 2024-09-16 at 19.04.49.aac', 'WhatsApp Audio 2024-09-16 at 19.08.35.aac', 'WhatsApp Audio 2024-09-16 at 19.11.39.aac', 'WhatsApp Audio 2024-09-16 at 19.16.31.aac', 'WhatsApp Audio 2024-09-16 at 19.20.40.aac', 'WhatsApp Audio 2024-09-16 at 19.25.50.aac', 'WhatsApp Audio 2024-09-16 at 19.30.42.aac', 'WhatsApp Audio 2024-09-16 at 19.34.28.aac', 'WhatsApp Audio 2024-09-16 at 19.37.05.aac', 'WhatsApp Audio 2024-09-16 at 19.40.34.aac', 'WhatsApp Audio 2024-09-16 at 19.43.37.aac', 'WhatsApp Audio 2024-09-16 at 19.45.31.aac', 'WhatsApp Audio 2024-09-17 at 09.46.23.aac', 'WhatsApp Audio 2024-09-17 at 09.57.07.aac', 'WhatsApp Audio 2024-09-17 at 10.19.43.aac', 'WhatsApp Audio 2024-09-17 at 10.36.44.aac', 'WhatsApp Audio 2024-09-17 at 10.43.10.aac', 'WhatsApp Audio 2024-09-17 at 10.55.10.aac', 'WhatsApp Audio 2024-09-17 at 11.05.43.aac', 'WhatsApp Audio 2024-09-17 at 11.15.39.aac', 'WhatsApp Audio 2024-09-17 at 11.20.50.aac', 'WhatsApp Audio 2024-09-17 at 11.28.27.aac', 'WhatsApp Audio 2024-09-17 at 11.38.44.aac', 'WhatsApp Audio 2024-09-17 at 11.44.48.aac', 'WhatsApp Audio 2024-09-17 at 12.10.38 (1).aac', 'WhatsApp Audio 2024-09-17 at 12.10.38.aac', 'WhatsApp Audio 2024-09-17 at 12.13.56.aac', 'WhatsApp Audio 2024-09-17 at 12.18.02.aac', 'WhatsApp Audio 2024-09-17 at 12.23.34.aac', 'WhatsApp Audio 2024-09-17 at 12.29.51.aac', 'WhatsApp Audio 2024-09-17 at 12.38.30.aac', 'WhatsApp Audio 2024-09-17 at 12.48.05.aac', 'WhatsApp Audio 2024-09-17 at 13.11.28.aac', 'WhatsApp Audio 2024-09-17 at 13.17.37.aac', 'WhatsApp Audio 2024-09-17 at 13.22.18.aac', 'WhatsApp Audio 2024-09-17 at 13.31.32 (1).aac', 'WhatsApp Audio 2024-09-17 at 13.31.32.aac', 'WhatsApp Audio 2024-09-17 at 13.50.49.aac', 'WhatsApp Audio 2024-09-17 at 14.02.52.aac', 'WhatsApp Audio 2024-09-17 at 14.19.34.aac', 'WhatsApp Audio 2024-09-17 at 14.24.27.aac', 'WhatsApp Audio 2024-09-17 at 14.28.49.aac', 'WhatsApp Audio 2024-09-17 at 14.38.31.aac', 'WhatsApp Audio 2024-09-17 at 15.31.36 (1).aac', 'WhatsApp Audio 2024-09-17 at 15.31.36.aac', 'WhatsApp Audio 2024-09-17 at 15.37.27.aac', 'WhatsApp Audio 2024-09-17 at 15.48.24.aac', 'WhatsApp Audio 2024-09-17 at 16.06.29.aac', 'WhatsApp Audio 2024-09-17 at 16.11.54.aac', 'WhatsApp Audio 2024-09-17 at 16.15.04.aac', 'WhatsApp Audio 2024-09-17 at 16.57.30.aac', 'WhatsApp Audio 2024-09-17 at 17.01.41.aac', 'WhatsApp Audio 2024-09-17 at 17.11.08.aac', 'WhatsApp Audio 2024-09-17 at 17.15.55.aac', 'WhatsApp Audio 2024-09-17 at 17.21.36 (1).aac', 'WhatsApp Audio 2024-09-17 at 17.21.36.aac', 'WhatsApp Audio 2024-09-17 at 17.26.14.aac', 'WhatsApp Audio 2024-09-17 at 17.30.06.aac', 'WhatsApp Audio 2024-09-17 at 17.36.20.aac', 'WhatsApp Audio 2024-09-17 at 17.56.35.aac', 'WhatsApp Audio 2024-09-17 at 18.00.33.aac', 'WhatsApp Audio 2024-09-17 at 18.05.36.aac', 'WhatsApp Audio 2024-09-17 at 18.08.42.aac', 'WhatsApp Audio 2024-09-17 at 18.12.40.aac', 'WhatsApp Audio 2024-09-17 at 18.15.34.aac', 'WhatsApp Audio 2024-09-17 at 18.18.16.aac', 'WhatsApp Audio 2024-09-17 at 18.21.36.aac', 'WhatsApp Audio 2024-09-17 at 18.23.34.aac', 'WhatsApp Audio 2024-09-17 at 18.27.07.aac', 'WhatsApp Audio 2024-09-17 at 18.30.02.aac', 'WhatsApp Audio 2024-09-17 at 18.33.05.aac', 'WhatsApp Audio 2024-09-17 at 18.35.59.aac', 'WhatsApp Audio 2024-09-17 at 18.38.55.aac', 'WhatsApp Audio 2024-09-17 at 18.42.43.aac', 'WhatsApp Audio 2024-09-17 at 18.45.22.aac', 'WhatsApp Audio 2024-09-17 at 18.47.45.aac', 'WhatsApp Audio 2024-09-17 at 18.52.27.aac', 'WhatsApp Audio 2024-09-17 at 18.56.42.aac', 'WhatsApp Audio 2024-09-17 at 18.59.17.aac', 'WhatsApp Audio 2024-09-17 at 19.02.39.aac', 'WhatsApp Audio 2024-09-17 at 19.04.49.aac', 'WhatsApp Audio 2024-09-18 at 09.44.47.aac', 'WhatsApp Audio 2024-09-18 at 09.59.02.aac', 'WhatsApp Audio 2024-09-18 at 10.01.57.aac', 'WhatsApp Audio 2024-09-18 at 10.17.38.aac', 'WhatsApp Audio 2024-09-18 at 10.29.07.aac', 'WhatsApp Audio 2024-09-18 at 10.39.04 (1).aac', 'WhatsApp Audio 2024-09-18 at 10.39.04.aac', 'WhatsApp Audio 2024-09-18 at 10.48.29.aac', 'WhatsApp Audio 2024-09-18 at 10.52.19.aac', 'WhatsApp Audio 2024-09-18 at 10.58.25.aac', 'WhatsApp Audio 2024-09-18 at 11.02.29.aac', 'WhatsApp Audio 2024-09-18 at 11.07.49.aac', 'WhatsApp Audio 2024-09-18 at 11.14.19.aac', 'WhatsApp Audio 2024-09-18 at 11.18.48.aac', 'WhatsApp Audio 2024-09-18 at 11.58.46.aac', 'WhatsApp Audio 2024-09-18 at 12.26.30.aac', 'WhatsApp Audio 2024-09-18 at 12.37.28.aac', 'WhatsApp Audio 2024-09-18 at 12.56.26.aac', 'WhatsApp Audio 2024-09-18 at 13.00.53.aac', 'WhatsApp Audio 2024-09-18 at 13.04.12.aac', 'WhatsApp Audio 2024-09-18 at 13.08.57.aac', 'WhatsApp Audio 2024-09-18 at 13.15.31.aac', 'WhatsApp Audio 2024-09-18 at 13.23.22.aac', 'WhatsApp Audio 2024-09-18 at 13.28.57.aac', 'WhatsApp Audio 2024-09-18 at 13.37.03.aac', 'WhatsApp Audio 2024-09-18 at 13.56.08.aac', 'WhatsApp Audio 2024-09-18 at 13.59.16.aac', 'WhatsApp Audio 2024-09-18 at 14.05.17.aac', 'WhatsApp Audio 2024-09-18 at 14.08.49.aac', 'WhatsApp Audio 2024-09-18 at 14.15.17.aac', 'WhatsApp Audio 2024-09-18 at 14.20.23.aac', 'WhatsApp Audio 2024-09-18 at 14.24.53.aac', 'WhatsApp Audio 2024-09-18 at 14.26.30.aac', 'WhatsApp Audio 2024-09-18 at 14.35.20.aac', 'WhatsApp Audio 2024-09-18 at 14.38.54.aac', 'WhatsApp Audio 2024-09-18 at 14.48.06.aac', 'WhatsApp Audio 2024-09-18 at 15.00.25.aac', 'WhatsApp Audio 2024-09-18 at 15.05.55.aac', 'WhatsApp Audio 2024-09-18 at 15.12.55.aac', 'WhatsApp Audio 2024-09-18 at 16.08.09.aac', 'WhatsApp Audio 2024-09-18 at 16.26.14.aac', 'WhatsApp Audio 2024-09-18 at 16.39.34.aac', 'WhatsApp Audio 2024-09-18 at 16.48.56.aac', 'WhatsApp Audio 2024-09-18 at 16.59.32.aac', 'WhatsApp Audio 2024-09-18 at 17.04.45.aac', 'WhatsApp Audio 2024-09-18 at 17.13.08.aac', 'WhatsApp Audio 2024-09-18 at 17.33.06.aac', 'WhatsApp Audio 2024-09-18 at 17.40.22.aac', 'WhatsApp Image 2024-07-22 at 11.39.20.jpeg', 'WhatsApp Image 2024-07-22 at 11.39.34.jpeg', 'WhatsApp Image 2024-07-23 at 11.36.18 (1).jpeg', 'WhatsApp Image 2024-07-23 at 11.36.18.jpeg', 'WhatsApp Image 2024-07-23 at 13.10.59.jpeg', 'WhatsApp Image 2024-07-23 at 13.11.00.jpeg', 'WhatsApp Image 2024-07-23 at 13.22.12.jpeg', 'WhatsApp Image 2024-07-23 at 13.36.31.jpeg', 'WhatsApp Image 2024-07-23 at 13.44.26.jpeg', 'WhatsApp Image 2024-07-23 at 13.44.43.jpeg', 'WhatsApp Image 2024-07-23 at 15.23.18.jpeg', 'WhatsApp Image 2024-07-23 at 15.23.19 (1).jpeg', 'WhatsApp Image 2024-07-23 at 15.23.19.jpeg', 'WhatsApp Image 2024-07-24 at 12.20.08.jpeg', 'WhatsApp Image 2024-07-24 at 12.51.20.jpeg', 'WhatsApp Image 2024-07-24 at 12.54.02.jpeg', 'WhatsApp Image 2024-07-24 at 13.16.46.jpeg', 'WhatsApp Image 2024-07-25 at 11.55.41 (1).jpeg', 'WhatsApp Image 2024-07-25 at 11.55.41.jpeg', 'WhatsApp Image 2024-07-25 at 12.20.17 (1).jpeg', 'WhatsApp Image 2024-07-25 at 12.20.17.jpeg', 'WhatsApp Image 2024-07-25 at 15.24.15 (1).jpeg', 'WhatsApp Image 2024-07-25 at 15.24.15.jpeg', 'WhatsApp Image 2024-07-25 at 16.49.31 (1).jpeg', 'WhatsApp Image 2024-07-25 at 16.49.31 (2).jpeg', 'WhatsApp Image 2024-07-25 at 16.49.31 (3).jpeg', 'WhatsApp Image 2024-07-25 at 16.49.31.jpeg', 'WhatsApp Image 2024-07-25 at 16.51.50 (1).jpeg', 'WhatsApp Image 2024-07-25 at 16.51.50.jpeg', 'WhatsApp Image 2024-07-25 at 17.19.36.jpeg', 'WhatsApp Image 2024-07-26 at 11.19.21 (1).jpeg', 'WhatsApp Image 2024-07-26 at 11.19.21 (2).jpeg', 'WhatsApp Image 2024-07-26 at 11.19.21 (3).jpeg', 'WhatsApp Image 2024-07-26 at 11.19.21.jpeg', 'WhatsApp Image 2024-07-26 at 11.19.22.jpeg', 'WhatsApp Image 2024-07-26 at 11.41.27 (1).jpeg', 'WhatsApp Image 2024-07-26 at 11.41.27.jpeg', 'WhatsApp Image 2024-07-26 at 11.41.41.jpeg', 'WhatsApp Image 2024-07-26 at 11.41.56 (1).jpeg', 'WhatsApp Image 2024-07-26 at 11.41.56.jpeg', 'WhatsApp Image 2024-07-26 at 11.42.17 (1).jpeg', 'WhatsApp Image 2024-07-26 at 11.42.17.jpeg', 'WhatsApp Image 2024-07-26 at 11.42.29 (1).jpeg', 'WhatsApp Image 2024-07-26 at 11.42.29.jpeg', 'WhatsApp Image 2024-07-26 at 11.42.49.jpeg', 'WhatsApp Image 2024-07-26 at 12.25.15.jpeg', 'WhatsApp Image 2024-07-26 at 12.31.18.jpeg', 'WhatsApp Image 2024-07-26 at 12.33.10.jpeg', 'WhatsApp Image 2024-07-26 at 15.47.34.jpeg', 'WhatsApp Image 2024-07-26 at 17.45.18 (1).jpeg', 'WhatsApp Image 2024-07-26 at 17.45.18.jpeg', 'WhatsApp Image 2024-07-26 at 17.46.11 (1).jpeg', 'WhatsApp Image 2024-07-26 at 17.46.11.jpeg', 'WhatsApp Image 2024-07-26 at 18.10.19.jpeg', 'WhatsApp Image 2024-07-26 at 18.30.08 (1).jpeg', 'WhatsApp Image 2024-07-26 at 18.30.08.jpeg', 'WhatsApp Image 2024-07-27 at 11.09.38 (1).jpeg', 'WhatsApp Image 2024-07-27 at 11.09.38.jpeg', 'WhatsApp Image 2024-07-27 at 11.34.23.jpeg', 'WhatsApp Image 2024-07-27 at 11.38.58.jpeg', 'WhatsApp Image 2024-07-27 at 11.38.59.jpeg', 'WhatsApp Image 2024-07-27 at 12.28.35 (1).jpeg', 'WhatsApp Image 2024-07-27 at 12.28.35.jpeg', 'WhatsApp Image 2024-07-27 at 12.52.44 (1).jpeg', 'WhatsApp Image 2024-07-27 at 12.52.44 (2).jpeg', 'WhatsApp Image 2024-07-27 at 12.52.44.jpeg', 'WhatsApp Image 2024-07-27 at 13.06.46.jpeg', 'WhatsApp Image 2024-07-27 at 13.06.53.jpeg', 'WhatsApp Image 2024-07-27 at 13.07.11.jpeg', 'WhatsApp Image 2024-07-27 at 14.41.12 (1).jpeg', 'WhatsApp Image 2024-07-27 at 14.41.12 (2).jpeg', 'WhatsApp Image 2024-07-27 at 14.41.12.jpeg', 'WhatsApp Image 2024-07-29 at 11.35.53 (1).jpeg', 'WhatsApp Image 2024-07-29 at 11.35.53.jpeg', 'WhatsApp Image 2024-07-29 at 11.48.23 (1).jpeg', 'WhatsApp Image 2024-07-29 at 11.48.23.jpeg', 'WhatsApp Image 2024-07-29 at 11.49.21.jpeg', 'WhatsApp Image 2024-07-29 at 11.54.46 (1).jpeg', 'WhatsApp Image 2024-07-29 at 11.54.46.jpeg', 'WhatsApp Image 2024-07-29 at 11.58.21 (1).jpeg', 'WhatsApp Image 2024-07-29 at 11.58.21.jpeg', 'WhatsApp Image 2024-07-29 at 12.12.11.jpeg', 'WhatsApp Image 2024-07-29 at 13.12.57 (1).jpeg', 'WhatsApp Image 2024-07-29 at 13.12.57.jpeg', 'WhatsApp Image 2024-07-29 at 13.22.39.jpeg', 'WhatsApp Image 2024-07-29 at 13.22.52.jpeg', 'WhatsApp Image 2024-07-29 at 13.28.04 (1).jpeg', 'WhatsApp Image 2024-07-29 at 13.28.04.jpeg', 'WhatsApp Image 2024-07-29 at 13.31.14 (1).jpeg', 'WhatsApp Image 2024-07-29 at 13.31.14.jpeg', 'WhatsApp Image 2024-07-29 at 13.31.28 (1).jpeg', 'WhatsApp Image 2024-07-29 at 13.31.28.jpeg', 'WhatsApp Image 2024-07-29 at 13.36.06.jpeg', 'WhatsApp Image 2024-07-29 at 13.36.07.jpeg', 'WhatsApp Image 2024-07-29 at 13.47.03.jpeg', 'WhatsApp Image 2024-07-29 at 15.16.38 (1).jpeg', 'WhatsApp Image 2024-07-29 at 15.16.38 (2).jpeg', 'WhatsApp Image 2024-07-29 at 15.16.38.jpeg', 'WhatsApp Image 2024-07-29 at 15.32.53 (1).jpeg', 'WhatsApp Image 2024-07-29 at 15.32.53 (2).jpeg', 'WhatsApp Image 2024-07-29 at 15.32.53.jpeg', 'WhatsApp Image 2024-07-29 at 15.53.02 (1).jpeg', 'WhatsApp Image 2024-07-29 at 15.53.02.jpeg', 'WhatsApp Image 2024-07-29 at 16.39.33 (1).jpeg', 'WhatsApp Image 2024-07-29 at 16.39.33.jpeg', 'WhatsApp Image 2024-07-29 at 17.05.46.jpeg', 'WhatsApp Image 2024-07-29 at 17.11.58 (1).jpeg', 'WhatsApp Image 2024-07-29 at 17.11.58.jpeg', 'WhatsApp Image 2024-07-29 at 17.20.33 (1).jpeg', 'WhatsApp Image 2024-07-29 at 17.20.33.jpeg', 'WhatsApp Image 2024-07-29 at 18.22.44 (1).jpeg', 'WhatsApp Image 2024-07-29 at 18.22.44.jpeg', 'WhatsApp Image 2024-07-29 at 21.20.08.jpeg', 'WhatsApp Image 2024-07-29 at 21.20.11.jpeg', 'WhatsApp Image 2024-07-30 at 10.02.24 (1).jpeg', 'WhatsApp Image 2024-07-30 at 10.02.24 (2).jpeg', 'WhatsApp Image 2024-07-30 at 10.02.24 (3).jpeg', 'WhatsApp Image 2024-07-30 at 10.02.24.jpeg', 'WhatsApp Image 2024-07-30 at 11.09.18 (1).jpeg', 'WhatsApp Image 2024-07-30 at 11.09.18.jpeg', 'WhatsApp Image 2024-07-30 at 11.34.29 (1).jpeg', 'WhatsApp Image 2024-07-30 at 11.34.29.jpeg', 'WhatsApp Image 2024-07-30 at 11.51.44.jpeg', 'WhatsApp Image 2024-07-30 at 11.51.58.jpeg', 'WhatsApp Image 2024-07-30 at 12.33.58 (1).jpeg', 'WhatsApp Image 2024-07-30 at 12.33.58.jpeg', 'WhatsApp Image 2024-07-30 at 13.01.19 (1).jpeg', 'WhatsApp Image 2024-07-30 at 13.01.19.jpeg', 'WhatsApp Image 2024-07-30 at 13.46.03.jpeg', 'WhatsApp Image 2024-07-30 at 15.35.16 (1).jpeg', 'WhatsApp Image 2024-07-30 at 15.35.16.jpeg', 'WhatsApp Image 2024-07-30 at 17.30.10.jpeg', 'WhatsApp Image 2024-07-31 at 10.34.43.jpeg', 'WhatsApp Image 2024-07-31 at 11.23.46 (1).jpeg', 'WhatsApp Image 2024-07-31 at 11.23.46.jpeg', 'WhatsApp Image 2024-07-31 at 11.24.26 (1).jpeg', 'WhatsApp Image 2024-07-31 at 11.24.26 (2).jpeg', 'WhatsApp Image 2024-07-31 at 11.24.26 (3).jpeg', 'WhatsApp Image 2024-07-31 at 11.24.26.jpeg', 'WhatsApp Image 2024-07-31 at 12.09.28 (1).jpeg', 'WhatsApp Image 2024-07-31 at 12.09.28.jpeg', 'WhatsApp Image 2024-07-31 at 12.19.57.jpeg', 'WhatsApp Image 2024-07-31 at 16.27.36 (1).jpeg', 'WhatsApp Image 2024-07-31 at 16.27.36.jpeg', 'WhatsApp Image 2024-07-31 at 16.27.37.jpeg', 'WhatsApp Image 2024-08-01 at 09.59.28 (1).jpeg', 'WhatsApp Image 2024-08-01 at 09.59.28.jpeg', 'WhatsApp Image 2024-08-01 at 10.12.50.jpeg', 'WhatsApp Image 2024-08-01 at 10.41.40 (1).jpeg', 'WhatsApp Image 2024-08-01 at 10.41.40.jpeg', 'WhatsApp Image 2024-08-01 at 13.01.22 (1).jpeg', 'WhatsApp Image 2024-08-01 at 13.01.22 (2).jpeg', 'WhatsApp Image 2024-08-01 at 13.01.22.jpeg', 'WhatsApp Image 2024-08-01 at 15.56.10 (1).jpeg', 'WhatsApp Image 2024-08-01 at 15.56.10.jpeg', 'WhatsApp Image 2024-08-01 at 16.47.26.jpeg', 'WhatsApp Image 2024-08-02 at 07.59.30.jpeg', 'WhatsApp Image 2024-08-02 at 11.09.45 (1).jpeg', 'WhatsApp Image 2024-08-02 at 11.09.45.jpeg', 'WhatsApp Image 2024-08-02 at 11.10.06 (1).jpeg', 'WhatsApp Image 2024-08-02 at 11.10.06.jpeg', 'WhatsApp Image 2024-08-02 at 13.47.19 (1).jpeg', 'WhatsApp Image 2024-08-02 at 13.47.19.jpeg', 'WhatsApp Image 2024-08-02 at 14.48.18.jpeg', 'WhatsApp Image 2024-08-02 at 15.42.40 (1).jpeg', 'WhatsApp Image 2024-08-02 at 15.42.40.jpeg', 'WhatsApp Image 2024-08-02 at 16.18.52 (1).jpeg', 'WhatsApp Image 2024-08-02 at 16.18.52 (2).jpeg', 'WhatsApp Image 2024-08-02 at 16.18.52.jpeg', 'WhatsApp Image 2024-08-02 at 18.20.08 (1).jpeg', 'WhatsApp Image 2024-08-02 at 18.20.08 (2).jpeg', 'WhatsApp Image 2024-08-02 at 18.20.08.jpeg', 'WhatsApp Image 2024-08-05 at 11.07.12 (1).jpeg', 'WhatsApp Image 2024-08-05 at 11.07.12.jpeg', 'WhatsApp Image 2024-08-05 at 11.22.59 (1).jpeg', 'WhatsApp Image 2024-08-05 at 11.22.59.jpeg', 'WhatsApp Image 2024-08-05 at 11.29.08.jpeg', 'WhatsApp Image 2024-08-05 at 11.29.09.jpeg', 'WhatsApp Image 2024-08-05 at 11.49.46 (1).jpeg', 'WhatsApp Image 2024-08-05 at 11.49.46.jpeg', 'WhatsApp Image 2024-08-05 at 12.58.18.jpeg', 'WhatsApp Image 2024-08-05 at 14.08.32.jpeg', 'WhatsApp Image 2024-08-05 at 14.30.25 (1).jpeg', 'WhatsApp Image 2024-08-05 at 14.30.25.jpeg', 'WhatsApp Image 2024-08-05 at 15.13.28 (1).jpeg', 'WhatsApp Image 2024-08-05 at 15.13.28.jpeg', 'WhatsApp Image 2024-08-05 at 15.13.29 (1).jpeg', 'WhatsApp Image 2024-08-05 at 15.13.29.jpeg', 'WhatsApp Image 2024-08-05 at 16.58.13 (1).jpeg', 'WhatsApp Image 2024-08-05 at 16.58.13.jpeg', 'WhatsApp Image 2024-08-05 at 17.03.52 (1).jpeg', 'WhatsApp Image 2024-08-05 at 17.03.52.jpeg', 'WhatsApp Image 2024-08-05 at 17.18.46 (1).jpeg', 'WhatsApp Image 2024-08-05 at 17.18.46.jpeg', 'WhatsApp Image 2024-08-05 at 17.31.44 (1).jpeg', 'WhatsApp Image 2024-08-05 at 17.31.44.jpeg', 'WhatsApp Image 2024-08-05 at 19.03.51 (1).jpeg', 'WhatsApp Image 2024-08-05 at 19.03.51.jpeg', 'WhatsApp Image 2024-08-06 at 10.40.00 (1).jpeg', 'WhatsApp Image 2024-08-06 at 10.40.00 (2).jpeg', 'WhatsApp Image 2024-08-06 at 10.40.00 (3).jpeg', 'WhatsApp Image 2024-08-06 at 10.40.00.jpeg', 'WhatsApp Image 2024-08-06 at 12.10.47 (1).jpeg', 'WhatsApp Image 2024-08-06 at 12.10.47 (2).jpeg', 'WhatsApp Image 2024-08-06 at 12.10.47 (3).jpeg', 'WhatsApp Image 2024-08-06 at 12.10.47.jpeg', 'WhatsApp Image 2024-08-06 at 12.20.57 (1).jpeg', 'WhatsApp Image 2024-08-06 at 12.20.57.jpeg', 'WhatsApp Image 2024-08-06 at 13.02.22.jpeg', 'WhatsApp Image 2024-08-06 at 13.03.48.jpeg', 'WhatsApp Image 2024-08-06 at 14.02.09 (1).jpeg', 'WhatsApp Image 2024-08-06 at 14.02.09.jpeg', 'WhatsApp Image 2024-08-06 at 14.12.08 (1).jpeg', 'WhatsApp Image 2024-08-06 at 14.12.08 (2).jpeg', 'WhatsApp Image 2024-08-06 at 14.12.08.jpeg', 'WhatsApp Image 2024-08-06 at 14.53.06 (1).jpeg', 'WhatsApp Image 2024-08-06 at 14.53.06.jpeg', 'WhatsApp Image 2024-08-06 at 15.46.02 (1).jpeg', 'WhatsApp Image 2024-08-06 at 15.46.02.jpeg', 'WhatsApp Image 2024-08-06 at 15.51.48 (1).jpeg', 'WhatsApp Image 2024-08-06 at 15.51.48 (2).jpeg', 'WhatsApp Image 2024-08-06 at 15.51.48.jpeg', 'WhatsApp Image 2024-08-06 at 15.55.46 (1).jpeg', 'WhatsApp Image 2024-08-06 at 15.55.46 (2).jpeg', 'WhatsApp Image 2024-08-06 at 15.55.46 (3).jpeg', 'WhatsApp Image 2024-08-06 at 15.55.46.jpeg', 'WhatsApp Image 2024-08-06 at 16.34.52 (1).jpeg', 'WhatsApp Image 2024-08-06 at 16.34.52.jpeg', 'WhatsApp Image 2024-08-06 at 16.34.53 (1).jpeg', 'WhatsApp Image 2024-08-06 at 16.34.53.jpeg', 'WhatsApp Image 2024-08-06 at 17.48.33 (1).jpeg', 'WhatsApp Image 2024-08-06 at 17.48.33.jpeg', 'WhatsApp Image 2024-08-06 at 17.48.50 (1).jpeg', 'WhatsApp Image 2024-08-06 at 17.48.50.jpeg', 'WhatsApp Image 2024-08-06 at 18.46.55 (1).jpeg', 'WhatsApp Image 2024-08-06 at 18.46.55.jpeg', 'WhatsApp Image 2024-08-06 at 19.23.14 (1).jpeg', 'WhatsApp Image 2024-08-06 at 19.23.14.jpeg', 'WhatsApp Image 2024-08-06 at 19.23.30.jpeg', 'WhatsApp Image 2024-08-06 at 19.57.42.jpeg', 'WhatsApp Image 2024-08-07 at 10.23.55.jpeg', 'WhatsApp Image 2024-08-07 at 10.24.07.jpeg', 'WhatsApp Image 2024-08-07 at 10.24.24.jpeg', 'WhatsApp Image 2024-08-07 at 11.26.56 (1).jpeg', 'WhatsApp Image 2024-08-07 at 11.26.56.jpeg', 'WhatsApp Image 2024-08-07 at 11.27.14 (1).jpeg', 'WhatsApp Image 2024-08-07 at 11.27.14.jpeg', 'WhatsApp Image 2024-08-07 at 11.31.47 (1).jpeg', 'WhatsApp Image 2024-08-07 at 11.31.47.jpeg', 'WhatsApp Image 2024-08-07 at 11.59.54.jpeg', 'WhatsApp Image 2024-08-07 at 11.59.55.jpeg', 'WhatsApp Image 2024-08-07 at 14.16.06 (1).jpeg', 'WhatsApp Image 2024-08-07 at 14.16.06.jpeg', 'WhatsApp Image 2024-08-07 at 15.45.37.jpeg', 'WhatsApp Image 2024-08-07 at 15.46.14.jpeg', 'WhatsApp Image 2024-08-07 at 15.46.42.jpeg', 'WhatsApp Image 2024-08-07 at 15.47.24.jpeg', 'WhatsApp Image 2024-08-07 at 15.50.25 (1).jpeg', 'WhatsApp Image 2024-08-07 at 15.50.25.jpeg', 'WhatsApp Image 2024-08-07 at 15.50.26 (1).jpeg', 'WhatsApp Image 2024-08-07 at 15.50.26.jpeg', 'WhatsApp Image 2024-08-07 at 16.15.34.jpeg', 'WhatsApp Image 2024-08-07 at 16.15.35.jpeg', 'WhatsApp Image 2024-08-07 at 16.41.55 (1).jpeg', 'WhatsApp Image 2024-08-07 at 16.41.55.jpeg', 'WhatsApp Image 2024-08-07 at 16.42.18 (1).jpeg', 'WhatsApp Image 2024-08-07 at 16.42.18.jpeg', 'WhatsApp Image 2024-08-07 at 16.42.40 (1).jpeg', 'WhatsApp Image 2024-08-07 at 16.42.40.jpeg', 'WhatsApp Image 2024-08-07 at 17.12.55 (1).jpeg', 'WhatsApp Image 2024-08-07 at 17.12.55.jpeg', 'WhatsApp Image 2024-08-07 at 17.12.56 (1).jpeg', 'WhatsApp Image 2024-08-07 at 17.12.56.jpeg', 'WhatsApp Image 2024-08-07 at 17.56.27 (1).jpeg', 'WhatsApp Image 2024-08-07 at 17.56.27.jpeg', 'WhatsApp Image 2024-08-07 at 17.57.35 (1).jpeg', 'WhatsApp Image 2024-08-07 at 17.57.35 (2).jpeg', 'WhatsApp Image 2024-08-07 at 17.57.35 (3).jpeg', 'WhatsApp Image 2024-08-07 at 17.57.35.jpeg', 'WhatsApp Image 2024-08-07 at 17.58.25.jpeg', 'WhatsApp Image 2024-08-07 at 18.40.42 (1).jpeg', 'WhatsApp Image 2024-08-07 at 18.40.42.jpeg', 'WhatsApp Image 2024-08-07 at 18.43.19 (1).jpeg', 'WhatsApp Image 2024-08-07 at 18.43.19.jpeg', 'WhatsApp Image 2024-08-07 at 18.43.30 (1).jpeg', 'WhatsApp Image 2024-08-07 at 18.43.30.jpeg', 'WhatsApp Image 2024-08-07 at 18.45.48 (1).jpeg', 'WhatsApp Image 2024-08-07 at 18.45.48.jpeg', 'WhatsApp Image 2024-08-07 at 19.11.51 (1).jpeg', 'WhatsApp Image 2024-08-07 at 19.11.51.jpeg', 'WhatsApp Image 2024-08-07 at 19.11.52 (1).jpeg', 'WhatsApp Image 2024-08-07 at 19.11.52 (2).jpeg', 'WhatsApp Image 2024-08-07 at 19.11.52 (3).jpeg', 'WhatsApp Image 2024-08-07 at 19.11.52.jpeg', 'WhatsApp Image 2024-08-08 at 11.11.12 (1).jpeg', 'WhatsApp Image 2024-08-08 at 11.11.12.jpeg', 'WhatsApp Image 2024-08-08 at 11.23.01 (1).jpeg', 'WhatsApp Image 2024-08-08 at 11.23.01 (2).jpeg', 'WhatsApp Image 2024-08-08 at 11.23.01.jpeg', 'WhatsApp Image 2024-08-08 at 12.15.40 (1).jpeg', 'WhatsApp Image 2024-08-08 at 12.15.40.jpeg', 'WhatsApp Image 2024-08-08 at 12.43.41.jpeg', 'WhatsApp Image 2024-08-08 at 13.24.03 (1).jpeg', 'WhatsApp Image 2024-08-08 at 13.24.03.jpeg', 'WhatsApp Image 2024-08-08 at 14.11.38.jpeg', 'WhatsApp Image 2024-08-08 at 14.11.52.jpeg', 'WhatsApp Image 2024-08-08 at 14.28.11 (1).jpeg', 'WhatsApp Image 2024-08-08 at 14.28.11.jpeg', 'WhatsApp Image 2024-08-08 at 16.24.45 (1).jpeg', 'WhatsApp Image 2024-08-08 at 16.24.45.jpeg', 'WhatsApp Image 2024-08-08 at 16.24.54.jpeg', 'WhatsApp Image 2024-08-08 at 16.35.48 (1).jpeg', 'WhatsApp Image 2024-08-08 at 16.35.48 (2).jpeg', 'WhatsApp Image 2024-08-08 at 16.35.48.jpeg', 'WhatsApp Image 2024-08-08 at 16.41.43.jpeg', 'WhatsApp Image 2024-08-08 at 17.46.49.jpeg', 'WhatsApp Image 2024-08-08 at 19.20.09.jpeg', 'WhatsApp Image 2024-08-09 at 11.43.40.jpeg', 'WhatsApp Image 2024-08-09 at 11.45.41 (1).jpeg', 'WhatsApp Image 2024-08-09 at 11.45.41 (2).jpeg', 'WhatsApp Image 2024-08-09 at 11.45.41 (3).jpeg', 'WhatsApp Image 2024-08-09 at 11.45.41.jpeg', 'WhatsApp Image 2024-08-09 at 11.48.20.jpeg', 'WhatsApp Image 2024-08-09 at 12.40.08.jpeg', 'WhatsApp Image 2024-08-09 at 13.43.22 (1).jpeg', 'WhatsApp Image 2024-08-09 at 13.43.22 (2).jpeg', 'WhatsApp Image 2024-08-09 at 13.43.22.jpeg', 'WhatsApp Image 2024-08-09 at 13.43.32 (1).jpeg', 'WhatsApp Image 2024-08-09 at 13.43.32.jpeg', 'WhatsApp Image 2024-08-09 at 13.43.58 (1).jpeg', 'WhatsApp Image 2024-08-09 at 13.43.58.jpeg', 'WhatsApp Image 2024-08-09 at 13.46.59 (1).jpeg', 'WhatsApp Image 2024-08-09 at 13.46.59 (2).jpeg', 'WhatsApp Image 2024-08-09 at 13.46.59 (3).jpeg', 'WhatsApp Image 2024-08-09 at 13.46.59.jpeg', 'WhatsApp Image 2024-08-09 at 13.50.45 (1).jpeg', 'WhatsApp Image 2024-08-09 at 13.50.45.jpeg', 'WhatsApp Image 2024-08-09 at 13.53.35 (1).jpeg', 'WhatsApp Image 2024-08-09 at 13.53.35 (2).jpeg', 'WhatsApp Image 2024-08-09 at 13.53.35 (3).jpeg', 'WhatsApp Image 2024-08-09 at 13.53.35.jpeg', 'WhatsApp Image 2024-08-09 at 15.26.42 (1).jpeg', 'WhatsApp Image 2024-08-09 at 15.26.42 (2).jpeg', 'WhatsApp Image 2024-08-09 at 15.26.42 (3).jpeg', 'WhatsApp Image 2024-08-09 at 15.26.42.jpeg', 'WhatsApp Image 2024-08-09 at 16.03.25 (1).jpeg', 'WhatsApp Image 2024-08-09 at 16.03.25.jpeg', 'WhatsApp Image 2024-08-09 at 16.03.29 (1).jpeg', 'WhatsApp Image 2024-08-09 at 16.03.29.jpeg', 'WhatsApp Image 2024-08-09 at 16.04.36 (1).jpeg', 'WhatsApp Image 2024-08-09 at 16.04.36.jpeg', 'WhatsApp Image 2024-08-09 at 16.04.37 (1).jpeg', 'WhatsApp Image 2024-08-09 at 16.04.37.jpeg', 'WhatsApp Image 2024-08-09 at 16.49.33 (1).jpeg', 'WhatsApp Image 2024-08-09 at 16.49.33 (2).jpeg', 'WhatsApp Image 2024-08-09 at 16.49.33.jpeg', 'WhatsApp Image 2024-08-09 at 22.07.39.jpeg', 'WhatsApp Image 2024-08-10 at 14.46.13.jpeg', 'WhatsApp Image 2024-08-10 at 17.19.41.jpeg', 'WhatsApp Image 2024-08-10 at 20.36.32.jpeg', 'WhatsApp Image 2024-08-10 at 20.36.40.jpeg', 'WhatsApp Image 2024-08-12 at 12.33.22 (1).jpeg', 'WhatsApp Image 2024-08-12 at 12.33.22 (2).jpeg', 'WhatsApp Image 2024-08-12 at 12.33.22.jpeg', 'WhatsApp Image 2024-08-12 at 13.02.25 (1).jpeg', 'WhatsApp Image 2024-08-12 at 13.02.25.jpeg', 'WhatsApp Image 2024-08-12 at 13.02.31 (1).jpeg', 'WhatsApp Image 2024-08-12 at 13.02.31.jpeg', 'WhatsApp Image 2024-08-12 at 13.29.15 (1).jpeg', 'WhatsApp Image 2024-08-12 at 13.29.15.jpeg', 'WhatsApp Image 2024-08-12 at 13.38.10 (1).jpeg', 'WhatsApp Image 2024-08-12 at 13.38.10.jpeg', 'WhatsApp Image 2024-08-12 at 13.44.45 (1).jpeg', 'WhatsApp Image 2024-08-12 at 13.44.45.jpeg', 'WhatsApp Image 2024-08-12 at 14.20.33 (1).jpeg', 'WhatsApp Image 2024-08-12 at 14.20.33 (2).jpeg', 'WhatsApp Image 2024-08-12 at 14.20.33 (3).jpeg', 'WhatsApp Image 2024-08-12 at 14.20.33.jpeg', 'WhatsApp Image 2024-08-12 at 15.29.34 (1).jpeg', 'WhatsApp Image 2024-08-12 at 15.29.34 (2).jpeg', 'WhatsApp Image 2024-08-12 at 15.29.34.jpeg', 'WhatsApp Image 2024-08-12 at 15.30.11 (1).jpeg', 'WhatsApp Image 2024-08-12 at 15.30.11.jpeg', 'WhatsApp Image 2024-08-12 at 15.32.04.jpeg', 'WhatsApp Image 2024-08-12 at 15.47.54 (1).jpeg', 'WhatsApp Image 2024-08-12 at 15.47.54.jpeg', 'WhatsApp Image 2024-08-12 at 15.59.12 (1).jpeg', 'WhatsApp Image 2024-08-12 at 15.59.12 (2).jpeg', 'WhatsApp Image 2024-08-12 at 15.59.12 (3).jpeg', 'WhatsApp Image 2024-08-12 at 15.59.12 (4).jpeg', 'WhatsApp Image 2024-08-12 at 15.59.12 (5).jpeg', 'WhatsApp Image 2024-08-12 at 15.59.12.jpeg', 'WhatsApp Image 2024-08-12 at 16.55.15 (1).jpeg', 'WhatsApp Image 2024-08-12 at 16.55.15.jpeg', 'WhatsApp Image 2024-08-12 at 17.00.12.jpeg', 'WhatsApp Image 2024-08-12 at 17.08.49 (1).jpeg', 'WhatsApp Image 2024-08-12 at 17.08.49.jpeg', 'WhatsApp Image 2024-08-12 at 17.08.50 (1).jpeg', 'WhatsApp Image 2024-08-12 at 17.08.50 (2).jpeg', 'WhatsApp Image 2024-08-12 at 17.08.50 (3).jpeg', 'WhatsApp Image 2024-08-12 at 17.08.50.jpeg', 'WhatsApp Image 2024-08-12 at 17.11.58 (1).jpeg', 'WhatsApp Image 2024-08-12 at 17.11.58.jpeg', 'WhatsApp Image 2024-08-12 at 17.17.08 (1).jpeg', 'WhatsApp Image 2024-08-12 at 17.17.08 (2).jpeg', 'WhatsApp Image 2024-08-12 at 17.17.08.jpeg', 'WhatsApp Image 2024-08-12 at 17.41.33 (1).jpeg', 'WhatsApp Image 2024-08-12 at 17.41.33 (2).jpeg', 'WhatsApp Image 2024-08-12 at 17.41.33.jpeg', 'WhatsApp Image 2024-08-12 at 17.58.31 (1).jpeg', 'WhatsApp Image 2024-08-12 at 17.58.31 (2).jpeg', 'WhatsApp Image 2024-08-12 at 17.58.31 (3).jpeg', 'WhatsApp Image 2024-08-12 at 17.58.31 (4).jpeg', 'WhatsApp Image 2024-08-12 at 17.58.31 (5).jpeg', 'WhatsApp Image 2024-08-12 at 17.58.31.jpeg', 'WhatsApp Image 2024-08-12 at 18.26.39 (1).jpeg', 'WhatsApp Image 2024-08-12 at 18.26.39 (2).jpeg', 'WhatsApp Image 2024-08-12 at 18.26.39.jpeg', 'WhatsApp Image 2024-08-12 at 18.27.07 (1).jpeg', 'WhatsApp Image 2024-08-12 at 18.27.07.jpeg', 'WhatsApp Image 2024-08-13 at 08.57.17.jpeg', 'WhatsApp Image 2024-08-13 at 11.35.06 (1).jpeg', 'WhatsApp Image 2024-08-13 at 11.35.06.jpeg', 'WhatsApp Image 2024-08-13 at 12.13.28 (1).jpeg', 'WhatsApp Image 2024-08-13 at 12.13.28.jpeg', 'WhatsApp Image 2024-08-13 at 12.53.20.jpeg', 'WhatsApp Image 2024-08-13 at 12.54.02.jpeg', 'WhatsApp Image 2024-08-13 at 13.09.19 (1).jpeg', 'WhatsApp Image 2024-08-13 at 13.09.19.jpeg', 'WhatsApp Image 2024-08-13 at 14.34.08.jpeg', 'WhatsApp Image 2024-08-13 at 14.34.23.jpeg', 'WhatsApp Image 2024-08-13 at 16.26.59 (1).jpeg', 'WhatsApp Image 2024-08-13 at 16.26.59.jpeg', 'WhatsApp Image 2024-08-13 at 17.31.24 (1).jpeg', 'WhatsApp Image 2024-08-13 at 17.31.24 (2).jpeg', 'WhatsApp Image 2024-08-13 at 17.31.24.jpeg', 'WhatsApp Image 2024-08-14 at 12.01.14 (1).jpeg', 'WhatsApp Image 2024-08-14 at 12.01.14.jpeg', 'WhatsApp Image 2024-08-14 at 12.01.15 (1).jpeg', 'WhatsApp Image 2024-08-14 at 12.01.15.jpeg', 'WhatsApp Image 2024-08-14 at 12.09.24 (1).jpeg', 'WhatsApp Image 2024-08-14 at 12.09.24.jpeg', 'WhatsApp Image 2024-08-14 at 12.15.11 (1).jpeg', 'WhatsApp Image 2024-08-14 at 12.15.11 (2).jpeg', 'WhatsApp Image 2024-08-14 at 12.15.11.jpeg', 'WhatsApp Image 2024-08-14 at 12.21.01.jpeg', 'WhatsApp Image 2024-08-14 at 14.18.06.jpeg', 'WhatsApp Image 2024-08-14 at 14.18.13 (1).jpeg', 'WhatsApp Image 2024-08-14 at 14.18.13.jpeg', 'WhatsApp Image 2024-08-14 at 14.21.14.jpeg', 'WhatsApp Image 2024-08-14 at 14.21.15 (1).jpeg', 'WhatsApp Image 2024-08-14 at 14.21.15.jpeg', 'WhatsApp Image 2024-08-14 at 16.04.50 (1).jpeg', 'WhatsApp Image 2024-08-14 at 16.04.50.jpeg', 'WhatsApp Image 2024-08-14 at 16.30.37 (1).jpeg', 'WhatsApp Image 2024-08-14 at 16.30.37 (2).jpeg', 'WhatsApp Image 2024-08-14 at 16.30.37.jpeg', 'WhatsApp Image 2024-08-15 at 10.01.28.jpeg', 'WhatsApp Image 2024-08-16 at 12.06.13 (1).jpeg', 'WhatsApp Image 2024-08-16 at 12.06.13.jpeg', 'WhatsApp Image 2024-08-16 at 12.06.14.jpeg', 'WhatsApp Image 2024-08-16 at 12.55.53 (1).jpeg', 'WhatsApp Image 2024-08-16 at 12.55.53.jpeg', 'WhatsApp Image 2024-08-16 at 13.02.27.jpeg', 'WhatsApp Image 2024-08-16 at 13.40.34.jpeg', 'WhatsApp Image 2024-08-16 at 14.25.54.jpeg', 'WhatsApp Image 2024-08-16 at 14.25.55.jpeg', 'WhatsApp Image 2024-08-16 at 14.40.25 (1).jpeg', 'WhatsApp Image 2024-08-16 at 14.40.25.jpeg', 'WhatsApp Image 2024-08-16 at 14.40.26 (1).jpeg', 'WhatsApp Image 2024-08-16 at 14.40.26.jpeg', 'WhatsApp Image 2024-08-16 at 15.59.50 (1).jpeg', 'WhatsApp Image 2024-08-16 at 15.59.50.jpeg', 'WhatsApp Image 2024-08-16 at 16.24.44 (1).jpeg', 'WhatsApp Image 2024-08-16 at 16.24.44.jpeg', 'WhatsApp Image 2024-08-16 at 17.39.03 (1).jpeg', 'WhatsApp Image 2024-08-16 at 17.39.03.jpeg', 'WhatsApp Image 2024-08-16 at 18.11.48 (1).jpeg', 'WhatsApp Image 2024-08-16 at 18.11.48.jpeg', 'WhatsApp Image 2024-08-16 at 18.18.50 (1).jpeg', 'WhatsApp Image 2024-08-16 at 18.18.50.jpeg', 'WhatsApp Image 2024-08-16 at 18.42.24 (1).jpeg', 'WhatsApp Image 2024-08-16 at 18.42.24.jpeg', 'WhatsApp Image 2024-08-16 at 18.50.51.jpeg', 'WhatsApp Image 2024-08-16 at 18.50.52.jpeg', 'WhatsApp Image 2024-08-16 at 20.04.33.jpeg', 'WhatsApp Image 2024-08-16 at 20.20.21.jpeg', 'WhatsApp Image 2024-08-17 at 21.12.14 (1).jpeg', 'WhatsApp Image 2024-08-17 at 21.12.14.jpeg', 'WhatsApp Image 2024-08-17 at 21.12.15.jpeg', 'WhatsApp Image 2024-08-20 at 10.59.00.jpeg', 'WhatsApp Image 2024-08-20 at 10.59.01.jpeg', 'WhatsApp Image 2024-08-20 at 11.55.53.jpeg', 'WhatsApp Image 2024-08-20 at 13.04.54 (1).jpeg', 'WhatsApp Image 2024-08-20 at 13.04.54 (2).jpeg', 'WhatsApp Image 2024-08-20 at 13.04.54.jpeg', 'WhatsApp Image 2024-08-20 at 13.30.59 (1).jpeg', 'WhatsApp Image 2024-08-20 at 13.30.59.jpeg', 'WhatsApp Image 2024-08-20 at 13.40.26 (1).jpeg', 'WhatsApp Image 2024-08-20 at 13.40.26.jpeg', 'WhatsApp Image 2024-08-20 at 13.40.27 (1).jpeg', 'WhatsApp Image 2024-08-20 at 13.40.27.jpeg', 'WhatsApp Image 2024-08-20 at 13.48.43 (1).jpeg', 'WhatsApp Image 2024-08-20 at 13.48.43.jpeg', 'WhatsApp Image 2024-08-20 at 17.57.01 (1).jpeg', 'WhatsApp Image 2024-08-20 at 17.57.01.jpeg', 'WhatsApp Image 2024-08-22 at 11.12.44 (1).jpeg', 'WhatsApp Image 2024-08-22 at 11.12.44.jpeg', 'WhatsApp Image 2024-08-22 at 11.13.16.jpeg', 'WhatsApp Image 2024-08-22 at 11.13.43.jpeg', 'WhatsApp Image 2024-08-22 at 11.32.14.jpeg', 'WhatsApp Image 2024-08-22 at 11.32.33.jpeg', 'WhatsApp Image 2024-08-22 at 11.40.01.jpeg', 'WhatsApp Image 2024-08-22 at 12.11.51 (1).jpeg', 'WhatsApp Image 2024-08-22 at 12.11.51.jpeg', 'WhatsApp Image 2024-08-22 at 12.47.23.jpeg', 'WhatsApp Image 2024-08-22 at 12.53.58.jpeg', 'WhatsApp Image 2024-08-22 at 13.16.36.jpeg', 'WhatsApp Image 2024-08-22 at 13.49.27.jpeg', 'WhatsApp Image 2024-08-22 at 14.49.34.jpeg', 'WhatsApp Image 2024-08-22 at 15.56.31 (1).jpeg', 'WhatsApp Image 2024-08-22 at 15.56.31 (2).jpeg', 'WhatsApp Image 2024-08-22 at 15.56.31 (3).jpeg', 'WhatsApp Image 2024-08-22 at 15.56.31.jpeg', 'WhatsApp Image 2024-08-22 at 15.56.32 (1).jpeg', 'WhatsApp Image 2024-08-22 at 15.56.32 (2).jpeg', 'WhatsApp Image 2024-08-22 at 15.56.32.jpeg', 'WhatsApp Image 2024-08-22 at 15.59.09.jpeg', 'WhatsApp Image 2024-08-22 at 18.01.42 (1).jpeg', 'WhatsApp Image 2024-08-22 at 18.01.42.jpeg', 'WhatsApp Image 2024-08-23 at 10.56.44 (1).jpeg', 'WhatsApp Image 2024-08-23 at 10.56.44.jpeg', 'WhatsApp Image 2024-08-23 at 10.56.51 (1).jpeg', 'WhatsApp Image 2024-08-23 at 10.56.51.jpeg', 'WhatsApp Image 2024-08-23 at 13.21.57.jpeg', 'WhatsApp Image 2024-08-23 at 13.23.22.jpeg', 'WhatsApp Image 2024-08-23 at 13.57.51.jpeg', 'WhatsApp Image 2024-08-23 at 13.57.52.jpeg', 'WhatsApp Image 2024-08-23 at 14.09.46.jpeg', 'WhatsApp Image 2024-08-23 at 16.30.47.jpeg', 'WhatsApp Image 2024-08-23 at 16.52.29.jpeg', 'WhatsApp Image 2024-08-26 at 08.47.19.jpeg', 'WhatsApp Image 2024-08-26 at 09.36.17.jpeg', 'WhatsApp Image 2024-08-26 at 09.36.18.jpeg', 'WhatsApp Image 2024-08-26 at 10.12.26.jpeg', 'WhatsApp Image 2024-08-26 at 10.15.29.jpeg', 'WhatsApp Image 2024-08-26 at 11.03.44.jpeg', 'WhatsApp Image 2024-08-26 at 11.21.35.jpeg', 'WhatsApp Image 2024-08-26 at 12.41.38.jpeg', 'WhatsApp Image 2024-08-26 at 13.09.49.jpeg', 'WhatsApp Image 2024-08-26 at 13.18.24 (1).jpeg', 'WhatsApp Image 2024-08-26 at 13.18.24.jpeg', 'WhatsApp Image 2024-08-26 at 13.18.59.jpeg', 'WhatsApp Image 2024-08-26 at 13.44.59.jpeg', 'WhatsApp Image 2024-08-26 at 13.45.18.jpeg', 'WhatsApp Image 2024-08-26 at 13.45.56.jpeg', 'WhatsApp Image 2024-08-26 at 13.46.12.jpeg', 'WhatsApp Image 2024-08-26 at 13.50.26.jpeg', 'WhatsApp Image 2024-08-26 at 13.53.03.jpeg', 'WhatsApp Image 2024-08-26 at 13.54.02.jpeg', 'WhatsApp Image 2024-08-26 at 13.54.05.jpeg', 'WhatsApp Image 2024-08-26 at 13.54.19.jpeg', 'WhatsApp Image 2024-08-26 at 13.54.30.jpeg', 'WhatsApp Image 2024-08-26 at 13.54.44.jpeg', 'WhatsApp Image 2024-08-26 at 14.15.03.jpeg', 'WhatsApp Image 2024-08-26 at 14.15.04.jpeg', 'WhatsApp Image 2024-08-26 at 14.41.35 (1).jpeg', 'WhatsApp Image 2024-08-26 at 14.41.35.jpeg', 'WhatsApp Image 2024-08-26 at 14.57.40.jpeg', 'WhatsApp Image 2024-08-26 at 15.47.33 (1).jpeg', 'WhatsApp Image 2024-08-26 at 15.47.33.jpeg', 'WhatsApp Image 2024-08-26 at 16.11.06 (1).jpeg', 'WhatsApp Image 2024-08-26 at 16.11.06.jpeg', 'WhatsApp Image 2024-08-26 at 16.15.17 (1).jpeg', 'WhatsApp Image 2024-08-26 at 16.15.17.jpeg', 'WhatsApp Image 2024-08-26 at 16.45.55.jpeg', 'WhatsApp Image 2024-08-26 at 16.45.56 (1).jpeg', 'WhatsApp Image 2024-08-26 at 16.45.56.jpeg', 'WhatsApp Image 2024-08-26 at 17.00.34.jpeg', 'WhatsApp Image 2024-08-26 at 17.57.45 (1).jpeg', 'WhatsApp Image 2024-08-26 at 17.57.45.jpeg', 'WhatsApp Image 2024-08-26 at 18.22.27 (1).jpeg', 'WhatsApp Image 2024-08-26 at 18.22.27.jpeg', 'WhatsApp Image 2024-08-27 at 08.28.17.jpeg', 'WhatsApp Image 2024-08-27 at 10.20.13.jpeg', 'WhatsApp Image 2024-08-27 at 10.20.14.jpeg', 'WhatsApp Image 2024-08-27 at 11.06.26 (1).jpeg', 'WhatsApp Image 2024-08-27 at 11.06.26.jpeg', 'WhatsApp Image 2024-08-27 at 11.58.48.jpeg', 'WhatsApp Image 2024-08-27 at 12.04.52.jpeg', 'WhatsApp Image 2024-08-27 at 12.04.53.jpeg', 'WhatsApp Image 2024-08-27 at 12.17.02 (1).jpeg', 'WhatsApp Image 2024-08-27 at 12.17.02.jpeg', 'WhatsApp Image 2024-08-27 at 13.17.19.jpeg', 'WhatsApp Image 2024-08-27 at 13.17.21.jpeg', 'WhatsApp Image 2024-08-27 at 13.43.30 (1).jpeg', 'WhatsApp Image 2024-08-27 at 13.43.30.jpeg', 'WhatsApp Image 2024-08-27 at 13.43.31.jpeg', 'WhatsApp Image 2024-08-27 at 13.59.29.jpeg', 'WhatsApp Image 2024-08-27 at 13.59.30.jpeg', 'WhatsApp Image 2024-08-27 at 14.59.17.jpeg', 'WhatsApp Image 2024-08-27 at 14.59.18.jpeg', 'WhatsApp Image 2024-08-27 at 15.47.04.jpeg', 'WhatsApp Image 2024-08-27 at 15.58.24.jpeg', 'WhatsApp Image 2024-08-27 at 16.15.54 (1).jpeg', 'WhatsApp Image 2024-08-27 at 16.15.54.jpeg', 'WhatsApp Image 2024-08-27 at 16.22.26 (1).jpeg', 'WhatsApp Image 2024-08-27 at 16.22.26.jpeg', 'WhatsApp Image 2024-08-27 at 16.27.48 (1).jpeg', 'WhatsApp Image 2024-08-27 at 16.27.48.jpeg', 'WhatsApp Image 2024-08-27 at 16.30.52 (1).jpeg', 'WhatsApp Image 2024-08-27 at 16.30.52 (2).jpeg', 'WhatsApp Image 2024-08-27 at 16.30.52 (3).jpeg', 'WhatsApp Image 2024-08-27 at 16.30.52.jpeg', 'WhatsApp Image 2024-08-27 at 16.45.55 (1).jpeg', 'WhatsApp Image 2024-08-27 at 16.45.55.jpeg', 'WhatsApp Image 2024-08-27 at 18.44.29 (1).jpeg', 'WhatsApp Image 2024-08-27 at 18.44.29.jpeg', 'WhatsApp Image 2024-08-27 at 18.45.14 (1).jpeg', 'WhatsApp Image 2024-08-27 at 18.45.14 (2).jpeg', 'WhatsApp Image 2024-08-27 at 18.45.14 (3).jpeg', 'WhatsApp Image 2024-08-27 at 18.45.14.jpeg', 'WhatsApp Image 2024-08-27 at 19.41.24.jpeg', 'WhatsApp Image 2024-08-28 at 10.46.31.jpeg', 'WhatsApp Image 2024-08-28 at 11.01.58.jpeg', 'WhatsApp Image 2024-08-28 at 11.01.59 (1).jpeg', 'WhatsApp Image 2024-08-28 at 11.01.59.jpeg', 'WhatsApp Image 2024-08-28 at 11.09.15.jpeg', 'WhatsApp Image 2024-08-28 at 12.41.24 (1).jpeg', 'WhatsApp Image 2024-08-28 at 12.41.24.jpeg', 'WhatsApp Image 2024-08-28 at 13.18.08.jpeg', 'WhatsApp Image 2024-08-28 at 15.00.01.jpeg', 'WhatsApp Image 2024-08-28 at 15.00.02 (1).jpeg', 'WhatsApp Image 2024-08-28 at 15.00.02.jpeg', 'WhatsApp Image 2024-08-28 at 16.22.47 (1).jpeg', 'WhatsApp Image 2024-08-28 at 16.22.47.jpeg', 'WhatsApp Image 2024-08-28 at 16.37.59 (1).jpeg', 'WhatsApp Image 2024-08-28 at 16.37.59 (2).jpeg', 'WhatsApp Image 2024-08-28 at 16.37.59 (3).jpeg', 'WhatsApp Image 2024-08-28 at 16.37.59.jpeg', 'WhatsApp Image 2024-08-28 at 16.44.08 (1).jpeg', 'WhatsApp Image 2024-08-28 at 16.44.08 (2).jpeg', 'WhatsApp Image 2024-08-28 at 16.44.08.jpeg', 'WhatsApp Image 2024-08-28 at 17.10.27 (1).jpeg', 'WhatsApp Image 2024-08-28 at 17.10.27 (2).jpeg', 'WhatsApp Image 2024-08-28 at 17.10.27.jpeg', 'WhatsApp Image 2024-08-28 at 17.13.59 (1).jpeg', 'WhatsApp Image 2024-08-28 at 17.13.59.jpeg', 'WhatsApp Image 2024-08-28 at 17.14.04 (1).jpeg', 'WhatsApp Image 2024-08-28 at 17.14.04.jpeg', 'WhatsApp Image 2024-08-28 at 17.34.36.jpeg', 'WhatsApp Image 2024-08-29 at 10.14.14 (1).jpeg', 'WhatsApp Image 2024-08-29 at 10.14.14 (2).jpeg', 'WhatsApp Image 2024-08-29 at 10.14.14.jpeg', 'WhatsApp Image 2024-08-29 at 11.29.26.jpeg', 'WhatsApp Image 2024-08-29 at 11.31.22.jpeg', 'WhatsApp Image 2024-08-29 at 12.07.43.jpeg', 'WhatsApp Image 2024-08-29 at 12.14.50 (1).jpeg', 'WhatsApp Image 2024-08-29 at 12.14.50.jpeg', 'WhatsApp Image 2024-08-29 at 12.14.51 (1).jpeg', 'WhatsApp Image 2024-08-29 at 12.14.51.jpeg', 'WhatsApp Image 2024-08-29 at 12.16.59.jpeg', 'WhatsApp Image 2024-08-29 at 12.39.20 (1).jpeg', 'WhatsApp Image 2024-08-29 at 12.39.20.jpeg', 'WhatsApp Image 2024-08-29 at 12.39.31 (1).jpeg', 'WhatsApp Image 2024-08-29 at 12.39.31.jpeg', 'WhatsApp Image 2024-08-29 at 12.47.13 (1).jpeg', 'WhatsApp Image 2024-08-29 at 12.47.13.jpeg', 'WhatsApp Image 2024-08-29 at 13.37.53 (1).jpeg', 'WhatsApp Image 2024-08-29 at 13.37.53.jpeg', 'WhatsApp Image 2024-08-29 at 14.37.50 (1).jpeg', 'WhatsApp Image 2024-08-29 at 14.37.50.jpeg', 'WhatsApp Image 2024-08-29 at 14.38.01 (1).jpeg', 'WhatsApp Image 2024-08-29 at 14.38.01.jpeg', 'WhatsApp Image 2024-08-29 at 14.40.23.jpeg', 'WhatsApp Image 2024-08-29 at 16.03.39 (1).jpeg', 'WhatsApp Image 2024-08-29 at 16.03.39.jpeg', 'WhatsApp Image 2024-08-29 at 16.25.54.jpeg', 'WhatsApp Image 2024-08-29 at 16.45.56 (1).jpeg', 'WhatsApp Image 2024-08-29 at 16.45.56.jpeg', 'WhatsApp Image 2024-08-29 at 17.01.31.jpeg', 'WhatsApp Image 2024-08-29 at 17.12.21 (1).jpeg', 'WhatsApp Image 2024-08-29 at 17.12.21.jpeg', 'WhatsApp Image 2024-08-29 at 17.12.22 (1).jpeg', 'WhatsApp Image 2024-08-29 at 17.12.22.jpeg', 'WhatsApp Image 2024-08-29 at 17.26.47 (1).jpeg', 'WhatsApp Image 2024-08-29 at 17.26.47.jpeg', 'WhatsApp Image 2024-08-30 at 08.48.38.jpeg', 'WhatsApp Image 2024-08-30 at 11.01.39 (1).jpeg', 'WhatsApp Image 2024-08-30 at 11.01.39.jpeg', 'WhatsApp Image 2024-08-30 at 13.11.21 (1).jpeg', 'WhatsApp Image 2024-08-30 at 13.11.21.jpeg', 'WhatsApp Image 2024-08-30 at 13.38.40 (1).jpeg', 'WhatsApp Image 2024-08-30 at 13.38.40.jpeg', 'WhatsApp Image 2024-08-30 at 17.19.21 (1).jpeg', 'WhatsApp Image 2024-08-30 at 17.19.21 (2).jpeg', 'WhatsApp Image 2024-08-30 at 17.19.21.jpeg', 'WhatsApp Image 2024-08-30 at 17.19.22 (1).jpeg', 'WhatsApp Image 2024-08-30 at 17.19.22 (2).jpeg', 'WhatsApp Image 2024-08-30 at 17.19.22.jpeg', 'WhatsApp Image 2024-08-30 at 17.50.20.jpeg', 'WhatsApp Image 2024-08-30 at 18.02.06 (1).jpeg', 'WhatsApp Image 2024-08-30 at 18.02.06 (2).jpeg', 'WhatsApp Image 2024-08-30 at 18.02.06.jpeg', 'WhatsApp Image 2024-08-30 at 18.47.00 (1).jpeg', 'WhatsApp Image 2024-08-30 at 18.47.00.jpeg', 'WhatsApp Image 2024-09-02 at 10.29.58 (1).jpeg', 'WhatsApp Image 2024-09-02 at 10.29.58.jpeg', 'WhatsApp Image 2024-09-02 at 13.01.09.jpeg', 'WhatsApp Image 2024-09-02 at 13.26.41.jpeg', 'WhatsApp Image 2024-09-02 at 13.51.02.jpeg', 'WhatsApp Image 2024-09-02 at 16.04.08 (1).jpeg', 'WhatsApp Image 2024-09-02 at 16.04.08 (2).jpeg', 'WhatsApp Image 2024-09-02 at 16.04.08 (3).jpeg', 'WhatsApp Image 2024-09-02 at 16.04.08.jpeg', 'WhatsApp Image 2024-09-02 at 16.23.43 (1).jpeg', 'WhatsApp Image 2024-09-02 at 16.23.43.jpeg', 'WhatsApp Image 2024-09-02 at 16.39.26 (1).jpeg', 'WhatsApp Image 2024-09-02 at 16.39.26.jpeg', 'WhatsApp Image 2024-09-02 at 16.42.31 (1).jpeg', 'WhatsApp Image 2024-09-02 at 16.42.31.jpeg', 'WhatsApp Image 2024-09-02 at 17.19.16 (1).jpeg', 'WhatsApp Image 2024-09-02 at 17.19.16.jpeg', 'WhatsApp Image 2024-09-02 at 17.29.13 (1).jpeg', 'WhatsApp Image 2024-09-02 at 17.29.13.jpeg', 'WhatsApp Image 2024-09-02 at 17.46.53 (1).jpeg', 'WhatsApp Image 2024-09-02 at 17.46.53.jpeg', 'WhatsApp Image 2024-09-02 at 19.30.47 (1).jpeg', 'WhatsApp Image 2024-09-02 at 19.30.47.jpeg', 'WhatsApp Image 2024-09-02 at 20.22.55.jpeg', 'WhatsApp Image 2024-09-02 at 20.22.56 (1).jpeg', 'WhatsApp Image 2024-09-02 at 20.22.56.jpeg', 'WhatsApp Image 2024-09-03 at 12.56.51 (1).jpeg', 'WhatsApp Image 2024-09-03 at 12.56.51.jpeg', 'WhatsApp Image 2024-09-03 at 13.13.01.jpeg', 'WhatsApp Image 2024-09-03 at 13.14.03.jpeg', 'WhatsApp Image 2024-09-03 at 15.19.30 (1).jpeg', 'WhatsApp Image 2024-09-03 at 15.19.30.jpeg', 'WhatsApp Image 2024-09-03 at 16.11.19.jpeg', 'WhatsApp Image 2024-09-03 at 16.39.37.jpeg', 'WhatsApp Image 2024-09-03 at 16.39.38 (1).jpeg', 'WhatsApp Image 2024-09-03 at 16.39.38.jpeg', 'WhatsApp Image 2024-09-03 at 19.02.16 (1).jpeg', 'WhatsApp Image 2024-09-03 at 19.02.16.jpeg', 'WhatsApp Image 2024-09-04 at 10.49.20.jpeg', 'WhatsApp Image 2024-09-04 at 10.54.51.jpeg', 'WhatsApp Image 2024-09-04 at 11.04.08 (1).jpeg', 'WhatsApp Image 2024-09-04 at 11.04.08.jpeg', 'WhatsApp Image 2024-09-04 at 11.04.40 (1).jpeg', 'WhatsApp Image 2024-09-04 at 11.04.40.jpeg', 'WhatsApp Image 2024-09-04 at 11.45.06.jpeg', 'WhatsApp Image 2024-09-04 at 12.32.04 (1).jpeg', 'WhatsApp Image 2024-09-04 at 12.32.04.jpeg', 'WhatsApp Image 2024-09-04 at 12.32.05.jpeg', 'WhatsApp Image 2024-09-04 at 13.19.56.jpeg', 'WhatsApp Image 2024-09-04 at 13.43.21.jpeg', 'WhatsApp Image 2024-09-04 at 16.08.38.jpeg', 'WhatsApp Image 2024-09-04 at 16.17.45.jpeg', 'WhatsApp Image 2024-09-04 at 16.34.32 (1).jpeg', 'WhatsApp Image 2024-09-04 at 16.34.32.jpeg', 'WhatsApp Image 2024-09-04 at 16.43.03.jpeg', 'WhatsApp Image 2024-09-04 at 16.43.04.jpeg', 'WhatsApp Image 2024-09-04 at 17.26.18.jpeg', 'WhatsApp Image 2024-09-04 at 17.26.59.jpeg', 'WhatsApp Image 2024-09-04 at 17.28.36 (1).jpeg', 'WhatsApp Image 2024-09-04 at 17.28.36.jpeg', 'WhatsApp Image 2024-09-05 at 09.44.11.jpeg', 'WhatsApp Image 2024-09-05 at 10.11.30.jpeg', 'WhatsApp Image 2024-09-05 at 12.01.26.jpeg', 'WhatsApp Image 2024-09-05 at 16.39.56.jpeg', 'WhatsApp Image 2024-09-05 at 17.01.29.jpeg', 'WhatsApp Image 2024-09-06 at 10.53.43.jpeg', 'WhatsApp Image 2024-09-06 at 11.36.33 (1).jpeg', 'WhatsApp Image 2024-09-06 at 11.36.33 (2).jpeg', 'WhatsApp Image 2024-09-06 at 11.36.33.jpeg', 'WhatsApp Image 2024-09-06 at 14.14.13.jpeg', 'WhatsApp Image 2024-09-06 at 14.52.46.jpeg', 'WhatsApp Image 2024-09-06 at 16.28.43 (1).jpeg', 'WhatsApp Image 2024-09-06 at 16.28.43.jpeg', 'WhatsApp Image 2024-09-06 at 16.54.11 (1).jpeg', 'WhatsApp Image 2024-09-06 at 16.54.11.jpeg', 'WhatsApp Image 2024-09-07 at 07.43.17.jpeg', 'WhatsApp Image 2024-09-07 at 11.54.25.jpeg', 'WhatsApp Image 2024-09-07 at 12.18.00.jpeg', 'WhatsApp Image 2024-09-07 at 12.43.27.jpeg', 'WhatsApp Image 2024-09-07 at 13.07.56.jpeg', 'WhatsApp Image 2024-09-07 at 13.26.36.jpeg', 'WhatsApp Image 2024-09-07 at 14.33.29 (1).jpeg', 'WhatsApp Image 2024-09-07 at 14.33.29.jpeg', 'WhatsApp Image 2024-09-08 at 10.03.33 (1).jpeg', 'WhatsApp Image 2024-09-08 at 10.03.33.jpeg', 'WhatsApp Image 2024-09-08 at 14.39.07.jpeg', 'WhatsApp Image 2024-09-08 at 14.42.48 (1).jpeg', 'WhatsApp Image 2024-09-08 at 14.42.48.jpeg', 'WhatsApp Image 2024-09-08 at 14.49.50.jpeg', 'WhatsApp Image 2024-09-08 at 15.05.42.jpeg', 'WhatsApp Image 2024-09-10 at 10.43.38 (1).jpeg', 'WhatsApp Image 2024-09-10 at 10.43.38.jpeg', 'WhatsApp Image 2024-09-10 at 11.56.51 (1).jpeg', 'WhatsApp Image 2024-09-10 at 11.56.51.jpeg', 'WhatsApp Image 2024-09-10 at 14.31.27 (1).jpeg', 'WhatsApp Image 2024-09-10 at 14.31.27.jpeg', 'WhatsApp Image 2024-09-10 at 14.46.29.jpeg', 'WhatsApp Image 2024-09-10 at 14.54.26.jpeg', 'WhatsApp Image 2024-09-10 at 15.38.55.jpeg', 'WhatsApp Image 2024-09-10 at 16.07.05 (1).jpeg', 'WhatsApp Image 2024-09-10 at 16.07.05.jpeg', 'WhatsApp Image 2024-09-10 at 16.17.41 (1).jpeg', 'WhatsApp Image 2024-09-10 at 16.17.41.jpeg', 'WhatsApp Image 2024-09-10 at 16.23.28.jpeg', 'WhatsApp Image 2024-09-10 at 16.40.58.jpeg', 'WhatsApp Image 2024-09-10 at 16.41.01 (1).jpeg', 'WhatsApp Image 2024-09-10 at 16.41.01.jpeg', 'WhatsApp Image 2024-09-10 at 16.42.06 (1).jpeg', 'WhatsApp Image 2024-09-10 at 16.42.06.jpeg', 'WhatsApp Image 2024-09-11 at 09.53.06.jpeg', 'WhatsApp Image 2024-09-11 at 10.29.23.jpeg', 'WhatsApp Image 2024-09-11 at 11.12.55.jpeg', 'WhatsApp Image 2024-09-11 at 11.12.56.jpeg', 'WhatsApp Image 2024-09-11 at 12.47.51.jpeg', 'WhatsApp Image 2024-09-11 at 13.35.05.jpeg', 'WhatsApp Image 2024-09-11 at 16.40.02.jpeg', 'WhatsApp Image 2024-09-11 at 16.55.42.jpeg', 'WhatsApp Image 2024-09-11 at 16.57.19.jpeg', 'WhatsApp Image 2024-09-11 at 18.35.37 (1).jpeg', 'WhatsApp Image 2024-09-11 at 18.35.37.jpeg', 'WhatsApp Image 2024-09-11 at 18.59.31 (1).jpeg', 'WhatsApp Image 2024-09-11 at 18.59.31.jpeg', 'WhatsApp Image 2024-09-11 at 19.00.13 (1).jpeg', 'WhatsApp Image 2024-09-11 at 19.00.13.jpeg', 'WhatsApp Image 2024-09-11 at 22.00.44.jpeg', 'WhatsApp Image 2024-09-12 at 11.26.52.jpeg', 'WhatsApp Image 2024-09-12 at 12.56.03.jpeg', 'WhatsApp Image 2024-09-12 at 13.05.44.jpeg', 'WhatsApp Image 2024-09-12 at 15.47.54.jpeg', 'WhatsApp Image 2024-09-12 at 15.50.02.jpeg', 'WhatsApp Image 2024-09-12 at 16.59.45.jpeg', 'WhatsApp Image 2024-09-12 at 17.02.42.jpeg', 'WhatsApp Image 2024-09-12 at 17.03.16.jpeg', 'WhatsApp Image 2024-09-12 at 17.15.44.jpeg', 'WhatsApp Image 2024-09-12 at 17.31.42.jpeg', 'WhatsApp Image 2024-09-12 at 17.31.51.jpeg', 'WhatsApp Image 2024-09-12 at 17.53.56.jpeg', 'WhatsApp Image 2024-09-12 at 17.59.43.jpeg', 'WhatsApp Image 2024-09-13 at 10.36.25.jpeg', 'WhatsApp Image 2024-09-13 at 11.42.25.jpeg', 'WhatsApp Image 2024-09-13 at 11.42.26.jpeg', 'WhatsApp Image 2024-09-13 at 13.01.07 (1).jpeg', 'WhatsApp Image 2024-09-13 at 13.01.07.jpeg', 'WhatsApp Image 2024-09-13 at 13.01.16.jpeg', 'WhatsApp Image 2024-09-13 at 13.07.18 (1).jpeg', 'WhatsApp Image 2024-09-13 at 13.07.18.jpeg', 'WhatsApp Image 2024-09-13 at 15.12.39.jpeg', 'WhatsApp Image 2024-09-13 at 17.01.39.jpeg', 'WhatsApp Image 2024-09-16 at 10.50.07.jpeg', 'WhatsApp Image 2024-09-16 at 11.02.48.jpeg', 'WhatsApp Image 2024-09-16 at 11.34.39.jpeg', 'WhatsApp Image 2024-09-16 at 12.09.55.jpeg', 'WhatsApp Image 2024-09-16 at 12.20.42.jpeg', 'WhatsApp Image 2024-09-16 at 13.55.57.jpeg', 'WhatsApp Image 2024-09-16 at 14.41.01 (1).jpeg', 'WhatsApp Image 2024-09-16 at 14.41.01.jpeg', 'WhatsApp Image 2024-09-16 at 15.49.11.jpeg', 'WhatsApp Image 2024-09-16 at 16.06.28.jpeg', 'WhatsApp Image 2024-09-16 at 16.24.11.jpeg', 'WhatsApp Image 2024-09-16 at 17.18.29.jpeg', 'WhatsApp Image 2024-09-16 at 17.33.42 (1).jpeg', 'WhatsApp Image 2024-09-16 at 17.33.42.jpeg', 'WhatsApp Image 2024-09-17 at 09.55.41.jpeg', 'WhatsApp Image 2024-09-17 at 10.54.27.jpeg', 'WhatsApp Image 2024-09-17 at 11.46.42.jpeg', 'WhatsApp Image 2024-09-17 at 13.23.59.jpeg', 'WhatsApp Image 2024-09-17 at 14.36.04.jpeg', 'WhatsApp Image 2024-09-17 at 14.36.11.jpeg', 'WhatsApp Image 2024-09-17 at 14.36.22.jpeg', 'WhatsApp Image 2024-09-17 at 15.36.11.jpeg', 'WhatsApp Image 2024-09-17 at 16.01.19.jpeg', 'WhatsApp Image 2024-09-17 at 16.01.37.jpeg', 'WhatsApp Image 2024-09-17 at 16.05.02.jpeg', 'WhatsApp Image 2024-09-17 at 16.10.49.jpeg', 'WhatsApp Image 2024-09-17 at 17.29.39.jpeg', 'WhatsApp Image 2024-09-17 at 17.37.32 (1).jpeg', 'WhatsApp Image 2024-09-17 at 17.37.32.jpeg', 'WhatsApp Image 2024-09-17 at 21.33.23.jpeg', 'WhatsApp Image 2024-09-18 at 11.16.28.jpeg', 'WhatsApp Image 2024-09-18 at 11.25.53.jpeg', 'WhatsApp Image 2024-09-18 at 11.26.25.jpeg', 'WhatsApp Image 2024-09-18 at 12.42.02.jpeg', 'WhatsApp Image 2024-09-18 at 12.42.18.jpeg', 'WhatsApp Image 2024-09-18 at 13.40.01.jpeg', 'WhatsApp Image 2024-09-18 at 13.40.03.jpeg', 'WhatsApp Image 2024-09-18 at 13.40.05.jpeg', 'WhatsApp Image 2024-09-18 at 13.40.07 (1).jpeg', 'WhatsApp Image 2024-09-18 at 13.40.07.jpeg', 'WhatsApp Image 2024-09-18 at 13.40.08.jpeg', 'WhatsApp Image 2024-09-18 at 13.40.09.jpeg', 'WhatsApp Image 2024-09-18 at 13.40.35.jpeg', 'WhatsApp Image 2024-09-18 at 13.59.45 (1).jpeg', 'WhatsApp Image 2024-09-18 at 13.59.45.jpeg', 'WhatsApp Image 2024-09-18 at 13.59.46.jpeg', 'WhatsApp Image 2024-09-18 at 13.59.47.jpeg', 'WhatsApp Image 2024-09-18 at 14.09.33.jpeg', 'WhatsApp Image 2024-09-18 at 15.05.11.jpeg', 'WhatsApp Image 2024-09-18 at 15.38.05.jpeg', 'WhatsApp Image 2024-09-18 at 16.50.10.jpeg', 'WhatsApp Image 2024-09-18 at 17.11.18.jpeg', 'WhatsApp Image 2024-09-18 at 17.21.36.jpeg', 'WhatsApp Image 2024-09-18 at 17.27.38 (1).jpeg', 'WhatsApp Image 2024-09-18 at 17.27.38.jpeg', 'WhatsApp Image 2024-09-18 at 17.33.00.jpeg', 'WhatsApp Image 2024-09-18 at 17.45.48 (1).jpeg', 'WhatsApp Image 2024-09-18 at 17.45.48.jpeg', 'WhatsApp Image 2024-09-18 at 18.00.38.jpeg', 'WhatsApp Image 2024-09-18 at 18.01.55.jpeg', 'WhatsApp Unknown 2024-07-29 at 14.50.51.zip', 'WhatsApp Unknown 2024-07-31 at 09.48.05.zip', 'WhatsApp Unknown 2024-08-07 at 10.28.59.zip', 'WhatsApp Unknown 2024-08-08 at 17.10.39.zip', 'WhatsApp Unknown 2024-08-08 at 19.20.37.zip', 'WhatsApp Unknown 2024-08-09 at 10.48.56.zip', 'WhatsApp Unknown 2024-08-16 at 10.04.40.zip', 'WhatsApp Unknown 2024-08-16 at 12.14.49.zip', 'WhatsApp Unknown 2024-08-20 at 12.52.28.zip', 'WhatsApp Unknown 2024-08-26 at 14.02.26.zip', 'WhatsApp Unknown 2024-08-28 at 15.34.02.zip', 'WhatsApp Unknown 2024-09-10 at 16.37.10.zip', 'WhatsApp Unknown 2024-09-17 at 10.13.50.zip', 'WhatsApp Unknown 2024-09-17 at 17.01.46.zip', '_Agriculture University Jodhpur_FEES.pdf', '_Provisional_Admission_Offer_Letter_AU_2024_26977.pdf', 'पैरामेडिकल डिप्लोमा पाठ्यक्रमों में प्रशिक्षण सLLL (1).pdf', 'पैरामेडिकल डिप्लोमा पाठ्यक्रमों में प्रशिक्षण सLLL.pdf', 'पैरामेडिकल डिप्लोमा पाठ्यक्रमों में प्रशिक्षण सत्र 2024-255.pdf']\n"
     ]
    }
   ],
   "source": [
    "import os\n",
    "\n",
    "# Check current working directory\n",
    "current_directory = os.getcwd()\n",
    "print(f\"Images saved in: {current_directory}\")\n",
    "\n",
    "# List files in the current directory\n",
    "print(\"Files in the directory:\")\n",
    "print(os.listdir(current_directory))"
   ]
  },
  {
   "cell_type": "code",
   "execution_count": null,
   "id": "48d904cc-7428-4e02-af8a-b42e07cb284d",
   "metadata": {},
   "outputs": [],
   "source": []
  },
  {
   "cell_type": "code",
   "execution_count": null,
   "id": "191c99df-3c98-4f3b-9d60-e97f13c2d522",
   "metadata": {},
   "outputs": [],
   "source": []
  },
  {
   "cell_type": "markdown",
   "id": "bf524f19-a33a-4e32-aaa1-cddec1ba6bf3",
   "metadata": {},
   "source": [
    "# Q4"
   ]
  },
  {
   "cell_type": "code",
   "execution_count": 29,
   "id": "97b19f39-4f46-420a-8bb9-056fc66a15da",
   "metadata": {},
   "outputs": [],
   "source": [
    "# Import necessary libraries\n",
    "import requests\n",
    "from bs4 import BeautifulSoup\n",
    "import pandas as pd"
   ]
  },
  {
   "cell_type": "code",
   "execution_count": 30,
   "id": "bc650a42-7a9e-4c54-8e13-e0c6cb65fde0",
   "metadata": {},
   "outputs": [],
   "source": [
    "def scrape_flipkart_smartphones(search_query):\n",
    "    # Construct the search URL\n",
    "    search_url = f\"https://www.flipkart.com/search?q={search_query.replace(' ', '+')}\"\n",
    "    \n",
    "    # Set headers to mimic a real browser request\n",
    "    headers = {\n",
    "        \"User-Agent\": \"Mozilla/5.0 (Windows NT 10.0; Win64; x64) AppleWebKit/537.36 (KHTML, like Gecko) Chrome/91.0.4472.124 Safari/537.36\"\n",
    "    }\n",
    "    \n",
    "    # Send a GET request to the URL\n",
    "    response = requests.get(search_url, headers=headers)\n",
    "\n",
    "    # Check if the request was successful\n",
    "    if response.status_code != 200:\n",
    "        print(f\"Failed to retrieve data: {response.status_code}\")\n",
    "        return []\n",
    "\n",
    "    # Parse the HTML content\n",
    "    soup = BeautifulSoup(response.content, 'html.parser')\n",
    "    \n",
    "    # Create a list to hold the scraped data\n",
    "    data = []\n",
    "\n",
    "    # Find all product listings on the first page\n",
    "    products = soup.find_all('div', class_='_1AtVbE')\n",
    "\n",
    "    for product in products:\n",
    "        # Initialize variables for each detail\n",
    "        brand_name = \"-\"\n",
    "        smartphone_name = \"-\"\n",
    "        colour = \"-\"\n",
    "        ram = \"-\"\n",
    "        storage = \"-\"\n",
    "        primary_camera = \"-\"\n",
    "        secondary_camera = \"-\"\n",
    "        display_size = \"-\"\n",
    "        battery_capacity = \"-\"\n",
    "        price = \"-\"\n",
    "        product_url = \"-\"\n",
    "        \n",
    "        try:\n",
    "            # Extract brand and smartphone name\n",
    "            title_div = product.find('div', class_='_4rR01T')\n",
    "            if title_div:\n",
    "                title_text = title_div.text\n",
    "                smartphone_name = title_text\n",
    "                brand_name = title_text.split()[0] if title_text else \"-\"\n",
    "            \n",
    "            # Extract color\n",
    "            colour_div = product.find('div', class_='fMghEO')\n",
    "            colour = colour_div.text if colour_div else \"-\"\n",
    "            \n",
    "            # Extract specifications\n",
    "            specifications = product.find_all('li', class_='rgWa7D')\n",
    "            for spec in specifications:\n",
    "                if 'RAM' in spec.text:\n",
    "                    ram = spec.text.split(\":\")[1].strip() if ':' in spec.text else \"-\"\n",
    "                elif 'Storage' in spec.text:\n",
    "                    storage = spec.text.split(\":\")[1].strip() if ':' in spec.text else \"-\"\n",
    "                elif 'Primary Camera' in spec.text:\n",
    "                    primary_camera = spec.text.split(\":\")[1].strip() if ':' in spec.text else \"-\"\n",
    "                elif 'Secondary Camera' in spec.text:\n",
    "                    secondary_camera = spec.text.split(\":\")[1].strip() if ':' in spec.text else \"-\"\n",
    "                elif 'Display Size' in spec.text:\n",
    "                    display_size = spec.text.split(\":\")[1].strip() if ':' in spec.text else \"-\"\n",
    "                elif 'Battery Capacity' in spec.text:\n",
    "                    battery_capacity = spec.text.split(\":\")[1].strip() if ':' in spec.text else \"-\"\n",
    "            \n",
    "            # Extract price\n",
    "            price_div = product.find('div', class_='_30jeq3 _1_WHN1')\n",
    "            price = price_div.text if price_div else \"-\"\n",
    "            \n",
    "            # Extract product URL\n",
    "            link = product.find('a', class_='IRpwTa')\n",
    "            product_url = \"https://www.flipkart.com\" + link['href'] if link else \"-\"\n",
    "            \n",
    "            # Append the data to the list\n",
    "            data.append({\n",
    "                \"Brand Name\": brand_name,\n",
    "                \"Smartphone Name\": smartphone_name,\n",
    "                \"Colour\": colour,\n",
    "                \"RAM\": ram,\n",
    "                \"Storage (ROM)\": storage,\n",
    "                \"Primary Camera\": primary_camera,\n",
    "                \"Secondary Camera\": secondary_camera,\n",
    "                \"Display Size\": display_size,\n",
    "                \"Battery Capacity\": battery_capacity,\n",
    "                \"Price\": price,\n",
    "                \"Product URL\": product_url\n",
    "            })\n",
    "\n",
    "        except Exception as e:\n",
    "            print(f\"Error processing a product: {e}\")\n",
    "\n",
    "    return data"
   ]
  },
  {
   "cell_type": "code",
   "execution_count": 31,
   "id": "09213c32-d7eb-44e2-87c3-d3af6774b446",
   "metadata": {},
   "outputs": [
    {
     "name": "stdout",
     "output_type": "stream",
     "text": [
      "Failed to retrieve data: 403\n",
      "No data scraped.\n"
     ]
    }
   ],
   "source": [
    "# Example usage\n",
    "search_query = \"Oneplus Nord\"  # Change this to your desired smartphone\n",
    "scraped_data = scrape_flipkart_smartphones(search_query)\n",
    "\n",
    "# Check if data was scraped successfully\n",
    "if scraped_data:\n",
    "    # Create a DataFrame and save to CSV\n",
    "    df = pd.DataFrame(scraped_data)\n",
    "    df.to_csv('flipkart_smartphones.csv', index=False)\n",
    "    print(\"Data saved to flipkart_smartphones.csv\")\n",
    "else:\n",
    "    print(\"No data scraped.\")"
   ]
  },
  {
   "cell_type": "code",
   "execution_count": null,
   "id": "80e96192-a53b-4591-9324-8975bb51eb90",
   "metadata": {},
   "outputs": [],
   "source": []
  },
  {
   "cell_type": "code",
   "execution_count": null,
   "id": "879e1155-d7cd-441f-bf62-e45d14fd0794",
   "metadata": {},
   "outputs": [],
   "source": []
  },
  {
   "cell_type": "markdown",
   "id": "3852c9f9-8b1e-4135-9d55-7bd9bffb87ac",
   "metadata": {},
   "source": [
    "# Q.5"
   ]
  },
  {
   "cell_type": "code",
   "execution_count": 32,
   "id": "64f9d42d-c752-47a0-bc52-c3839f5603d1",
   "metadata": {},
   "outputs": [],
   "source": [
    "from selenium import webdriver\n",
    "import time\n",
    "import re"
   ]
  },
  {
   "cell_type": "code",
   "execution_count": 33,
   "id": "2800d06e-c6d5-4bd5-a51b-6eb94e159a3c",
   "metadata": {},
   "outputs": [],
   "source": [
    "\n",
    "# Connecting to the webdriver\n",
    "driver = webdriver.Chrome()"
   ]
  },
  {
   "cell_type": "code",
   "execution_count": 34,
   "id": "90aeb2fd-fcc9-41dc-a0b4-9fa05421261c",
   "metadata": {},
   "outputs": [],
   "source": [
    "# Getting the mentioned URL and opening Google Maps web page\n",
    "url = 'https://www.google.co.in/maps'\n",
    "driver.get(url)\n",
    "time.sleep(2)"
   ]
  },
  {
   "cell_type": "code",
   "execution_count": 35,
   "id": "a83c1d32-37e3-4262-b282-e44cf32c02fc",
   "metadata": {},
   "outputs": [
    {
     "name": "stdin",
     "output_type": "stream",
     "text": [
      "Enter the city name that has to be searched:  GURUGRAM\n"
     ]
    }
   ],
   "source": [
    "# Entering the city name in the search bar\n",
    "city = input('Enter the city name that has to be searched: ')\n",
    "search_bar = driver.find_element(\"id\", 'searchboxinput')\n",
    "search_bar.click()\n",
    "time.sleep(2)"
   ]
  },
  {
   "cell_type": "code",
   "execution_count": 36,
   "id": "3f314aff-e0d5-45a5-a129-5740ff42044e",
   "metadata": {},
   "outputs": [],
   "source": [
    "# Sending keys to find the city\n",
    "search_bar.send_keys(city)"
   ]
  },
  {
   "cell_type": "code",
   "execution_count": 37,
   "id": "dd0128f4-37ef-4f10-860a-0790ff1308a6",
   "metadata": {},
   "outputs": [],
   "source": [
    "\n",
    "# Checking for the web element and clicking on the search button\n",
    "search_btn = driver.find_element(\"id\", \"searchbox-searchbutton\")\n",
    "search_btn.click()\n",
    "time.sleep(5)  # Increased wait time to ensure the page loads completely\n"
   ]
  },
  {
   "cell_type": "code",
   "execution_count": 38,
   "id": "dc8b88ed-d792-4e80-b76d-9049ab21d308",
   "metadata": {},
   "outputs": [
    {
     "name": "stdout",
     "output_type": "stream",
     "text": [
      "URL Extracted:  https://www.google.co.in/maps/place/Gurugram,+Haryana/@28.4231662,76.6607881,10z/data=!3m1!4b1!4m6!3m5!1s0x390d19d582e38859:0x2cf5fe8e5c64b1e!8m2!3d28.4594965!4d77.0266383!16zL20vMDNmeW1n?entry=ttu&g_ep=EgoyMDI0MDkxNS4wIKXMDSoASAFQAw%3D%3D\n",
      "Latitude = 28.4231662, Longitude = 76.6607881\n"
     ]
    }
   ],
   "source": [
    "try:\n",
    "    url_str = driver.current_url\n",
    "    print(\"URL Extracted: \", url_str)\n",
    "    \n",
    "    latitude_longitude = re.findall(r'@(.*?)(?:data|;)', url_str)  # Non-greedy match for better accuracy\n",
    "    if latitude_longitude:\n",
    "        lat_lng_list = latitude_longitude[0].split(\",\")\n",
    "        if len(lat_lng_list) >= 2:\n",
    "            latitude = lat_lng_list[0]\n",
    "            longitude = lat_lng_list[1]\n",
    "            print(\"Latitude = {}, Longitude = {}\".format(latitude, longitude))\n",
    "        else:\n",
    "            print(\"Latitude and longitude could not be extracted.\")\n",
    "    else:\n",
    "        print(\"No latitude and longitude found in the URL.\")\n",
    "except Exception as e:\n",
    "    print(\"Error: \", str(e))\n"
   ]
  },
  {
   "cell_type": "code",
   "execution_count": 39,
   "id": "e9548ef7-add4-4730-848c-564c1378a851",
   "metadata": {},
   "outputs": [],
   "source": [
    "\n",
    "# Close the driver\n",
    "driver.quit()"
   ]
  },
  {
   "cell_type": "code",
   "execution_count": null,
   "id": "5da7d4ac-9642-4ca0-8749-31918b2ad4f1",
   "metadata": {},
   "outputs": [],
   "source": []
  },
  {
   "cell_type": "code",
   "execution_count": null,
   "id": "2d629562-c607-42f3-9796-15a5a9783e1d",
   "metadata": {},
   "outputs": [],
   "source": []
  },
  {
   "cell_type": "markdown",
   "id": "41f0aed4-bc3e-47aa-9362-c12f05b4756f",
   "metadata": {},
   "source": [
    "# Q 6"
   ]
  },
  {
   "cell_type": "code",
   "execution_count": 40,
   "id": "75993f73-6741-4230-a683-b500f49d545f",
   "metadata": {},
   "outputs": [],
   "source": [
    "# Import necessary libraries\n",
    "import requests\n",
    "from bs4 import BeautifulSoup\n",
    "import pandas as pd"
   ]
  },
  {
   "cell_type": "code",
   "execution_count": 47,
   "id": "0b4a8e85-5a12-4440-9ecd-a4433ba0ca71",
   "metadata": {},
   "outputs": [
    {
     "data": {
      "text/plain": [
       "<Response [404]>"
      ]
     },
     "execution_count": 47,
     "metadata": {},
     "output_type": "execute_result"
    }
   ],
   "source": [
    "\n",
    "    # URL for best gaming laptops on digit.in\n",
    "    url = \"https://www.digit.in/laptops/best-gaming-laptops-40.html\"\n",
    "    \n",
    "    # Send a GET request to the URL\n",
    "    response = requests.get(url)\n",
    "    response\n",
    "\n",
    "  # Parse the HTML content\n",
    "    soup = BeautifulSoup(response.content, 'html.parser')\n",
    "    \n",
    "    # Create a list to hold the scraped data\n",
    "    data = []\n",
    "\n",
    "    # Find all laptop listings\n",
    "    laptops = soup.find_all('div', class_='Table-responsive')\n",
    "\n",
    "    for laptop in laptops:\n",
    "        rows = laptop.find_all('tr')\n",
    "        for row in rows:\n",
    "            cols = row.find_all('td')\n",
    "            if len(cols) > 0:\n",
    "                # Extract relevant details\n",
    "                laptop_name = cols[0].text.strip() if cols[0] else \"-\"\n",
    "                specifications = cols[1].text.strip() if cols[1] else \"-\"\n",
    "                price = cols[2].text.strip() if cols[2] else \"-\"\n",
    "                \n",
    "                data.append({\n",
    "                    \"Laptop Name\": laptop_name,\n",
    "                    \"Specifications\": specifications,\n",
    "                    \"Price\": price\n",
    "                })\n",
    "\n",
    "    return data\n",
    "\n",
    "  "
   ]
  },
  {
   "cell_type": "code",
   "execution_count": 42,
   "id": "3025e58c-6390-42b9-9a8f-248d5ef7e67c",
   "metadata": {},
   "outputs": [
    {
     "name": "stdout",
     "output_type": "stream",
     "text": [
      "Failed to retrieve data: 404\n",
      "No data scraped.\n"
     ]
    }
   ],
   "source": [
    "\n",
    "# Execute the scraping function\n",
    "scraped_data = scrape_gaming_laptops()\n",
    "\n",
    "# Save data to CSV if available\n",
    "if scraped_data:\n",
    "    df = pd.DataFrame(scraped_data)\n",
    "    df.to_csv('digit_best_gaming_laptops.csv', index=False)\n",
    "    print(\"Data saved to digit_best_gaming_laptops.csv\")\n",
    "else:\n",
    "    print(\"No data scraped.\")\n",
    "    "
   ]
  },
  {
   "cell_type": "code",
   "execution_count": null,
   "id": "4a6b0d82-e14c-4b15-bb2d-7e049f289549",
   "metadata": {},
   "outputs": [],
   "source": []
  },
  {
   "cell_type": "code",
   "execution_count": null,
   "id": "e6d73970-9995-4aff-bfc6-76096a756716",
   "metadata": {},
   "outputs": [],
   "source": []
  },
  {
   "cell_type": "markdown",
   "id": "476e2d6b-5af7-4ad0-8752-47f36efcd141",
   "metadata": {},
   "source": [
    "# Q7"
   ]
  },
  {
   "cell_type": "code",
   "execution_count": 117,
   "id": "7819aeb5-c2c9-4851-8229-d43a6d0884a7",
   "metadata": {},
   "outputs": [
    {
     "name": "stdout",
     "output_type": "stream",
     "text": [
      "Scraping complete! Data saved to 'forbes_billionaires.csv'.\n"
     ]
    }
   ],
   "source": [
    "from selenium import webdriver\n",
    "from selenium.webdriver.common.by import By\n",
    "import pandas as pd\n",
    "import time\n",
    "\n",
    "# Set up the WebDriver (specify the path to your WebDriver)\n",
    "driver = webdriver.Chrome()  # Change this path\n",
    "\n",
    "# Open the Forbes billionaires page\n",
    "driver.get(\"https://www.forbes.com/billionaires/\")\n",
    "\n",
    "# Allow the page to load\n",
    "time.sleep(5)\n",
    "\n",
    "# Lists to store data\n",
    "ranks = []\n",
    "names = []\n",
    "net_worths = []\n",
    "ages = []\n",
    "citizenships = []\n",
    "sources = []\n",
    "industries = []\n",
    "\n",
    "# Locate the elements\n",
    "billionaire_elements = driver.find_elements(By.CLASS_NAME, 'billionaire-list')\n",
    "\n",
    "for billionaire in billionaire_elements:\n",
    "    rank = billionaire.find_element(By.CLASS_NAME, 'rank').text\n",
    "    name = billionaire.find_element(By.CLASS_NAME, 'name').text\n",
    "    net_worth = billionaire.find_element(By.CLASS_NAME, 'net-worth').text\n",
    "    age = billionaire.find_element(By.CLASS_NAME, 'age').text\n",
    "    citizenship = billionaire.find_element(By.CLASS_NAME, 'country').text\n",
    "    source = billionaire.find_element(By.CLASS_NAME, 'source').text\n",
    "    industry = billionaire.find_element(By.CLASS_NAME, 'industry').text\n",
    "\n",
    "    # Append the data to the lists\n",
    "    ranks.append(rank)\n",
    "    names.append(name)\n",
    "    net_worths.append(net_worth)\n",
    "    ages.append(age)\n",
    "    citizenships.append(citizenship)\n",
    "    sources.append(source)\n",
    "    industries.append(industry)\n",
    "\n",
    "# Create a DataFrame\n",
    "data = {\n",
    "    \"Rank\": ranks,\n",
    "    \"Name\": names,\n",
    "    \"Net Worth\": net_worths,\n",
    "    \"Age\": ages,\n",
    "    \"Citizenship\": citizenships,\n",
    "    \"Source\": sources,\n",
    "    \"Industry\": industries\n",
    "}\n",
    "\n",
    "df = pd.DataFrame(data)\n",
    "\n",
    "# Save to CSV\n",
    "df.to_csv('forbes_billionaires.csv', index=False)\n",
    "\n",
    "# Close the WebDriver\n",
    "driver.quit()\n",
    "\n",
    "print(\"Scraping complete! Data saved to 'forbes_billionaires.csv'.\")"
   ]
  },
  {
   "cell_type": "code",
   "execution_count": null,
   "id": "bb29c00b-4c20-476a-b39b-05243ceeaa48",
   "metadata": {},
   "outputs": [],
   "source": []
  },
  {
   "cell_type": "code",
   "execution_count": null,
   "id": "86cbc4aa-c85d-4c48-804a-29925d207ff8",
   "metadata": {},
   "outputs": [],
   "source": []
  },
  {
   "cell_type": "markdown",
   "id": "1e740ab1-bb20-471a-afce-1511148824db",
   "metadata": {},
   "source": [
    "# Q8\n"
   ]
  },
  {
   "cell_type": "code",
   "execution_count": 103,
   "id": "ad285a80-4cb9-4f75-a2d1-712b2004936b",
   "metadata": {
    "scrolled": true
   },
   "outputs": [
    {
     "name": "stdout",
     "output_type": "stream",
     "text": [
      "Requirement already satisfied: pandas in c:\\users\\dell\\anaconda3\\lib\\site-packages (2.2.2)Note: you may need to restart the kernel to use updated packages.\n",
      "\n",
      "Requirement already satisfied: selenium in c:\\users\\dell\\anaconda3\\lib\\site-packages (4.24.0)\n",
      "Requirement already satisfied: numpy>=1.26.0 in c:\\users\\dell\\anaconda3\\lib\\site-packages (from pandas) (1.26.4)\n",
      "Requirement already satisfied: python-dateutil>=2.8.2 in c:\\users\\dell\\anaconda3\\lib\\site-packages (from pandas) (2.9.0.post0)\n",
      "Requirement already satisfied: pytz>=2020.1 in c:\\users\\dell\\anaconda3\\lib\\site-packages (from pandas) (2024.1)\n",
      "Requirement already satisfied: tzdata>=2022.7 in c:\\users\\dell\\anaconda3\\lib\\site-packages (from pandas) (2023.3)\n",
      "Requirement already satisfied: urllib3<3,>=1.26 in c:\\users\\dell\\anaconda3\\lib\\site-packages (from urllib3[socks]<3,>=1.26->selenium) (2.2.2)\n",
      "Requirement already satisfied: trio~=0.17 in c:\\users\\dell\\anaconda3\\lib\\site-packages (from selenium) (0.26.2)\n",
      "Requirement already satisfied: trio-websocket~=0.9 in c:\\users\\dell\\anaconda3\\lib\\site-packages (from selenium) (0.11.1)\n",
      "Requirement already satisfied: certifi>=2021.10.8 in c:\\users\\dell\\anaconda3\\lib\\site-packages (from selenium) (2024.8.30)\n",
      "Requirement already satisfied: typing_extensions~=4.9 in c:\\users\\dell\\anaconda3\\lib\\site-packages (from selenium) (4.11.0)\n",
      "Requirement already satisfied: websocket-client~=1.8 in c:\\users\\dell\\anaconda3\\lib\\site-packages (from selenium) (1.8.0)\n",
      "Requirement already satisfied: six>=1.5 in c:\\users\\dell\\anaconda3\\lib\\site-packages (from python-dateutil>=2.8.2->pandas) (1.16.0)\n",
      "Requirement already satisfied: attrs>=23.2.0 in c:\\users\\dell\\anaconda3\\lib\\site-packages (from trio~=0.17->selenium) (24.2.0)\n",
      "Requirement already satisfied: sortedcontainers in c:\\users\\dell\\anaconda3\\lib\\site-packages (from trio~=0.17->selenium) (2.4.0)\n",
      "Requirement already satisfied: idna in c:\\users\\dell\\anaconda3\\lib\\site-packages (from trio~=0.17->selenium) (3.7)\n",
      "Requirement already satisfied: outcome in c:\\users\\dell\\anaconda3\\lib\\site-packages (from trio~=0.17->selenium) (1.3.0.post0)\n",
      "Requirement already satisfied: sniffio>=1.3.0 in c:\\users\\dell\\anaconda3\\lib\\site-packages (from trio~=0.17->selenium) (1.3.0)\n",
      "Requirement already satisfied: cffi>=1.14 in c:\\users\\dell\\anaconda3\\lib\\site-packages (from trio~=0.17->selenium) (1.16.0)\n",
      "Requirement already satisfied: wsproto>=0.14 in c:\\users\\dell\\anaconda3\\lib\\site-packages (from trio-websocket~=0.9->selenium) (1.2.0)\n",
      "Requirement already satisfied: pysocks!=1.5.7,<2.0,>=1.5.6 in c:\\users\\dell\\anaconda3\\lib\\site-packages (from urllib3[socks]<3,>=1.26->selenium) (1.7.1)\n",
      "Requirement already satisfied: pycparser in c:\\users\\dell\\anaconda3\\lib\\site-packages (from cffi>=1.14->trio~=0.17->selenium) (2.21)\n",
      "Requirement already satisfied: h11<1,>=0.9.0 in c:\\users\\dell\\anaconda3\\lib\\site-packages (from wsproto>=0.14->trio-websocket~=0.9->selenium) (0.14.0)\n"
     ]
    }
   ],
   "source": [
    "pip install pandas selenium"
   ]
  },
  {
   "cell_type": "code",
   "execution_count": 5,
   "id": "1607e280-a610-4937-a6d0-aa83bd92e401",
   "metadata": {},
   "outputs": [],
   "source": [
    "import time\n",
    "import pandas as pd\n",
    "from selenium import webdriver\n",
    "from selenium.webdriver.common.by import By"
   ]
  },
  {
   "cell_type": "code",
   "execution_count": 7,
   "id": "530a8222-3ba3-4349-8bdd-de0dfa948877",
   "metadata": {},
   "outputs": [],
   "source": [
    "# Connect to the WebDriver\n",
    "driver = webdriver.Chrome()"
   ]
  },
  {
   "cell_type": "code",
   "execution_count": 9,
   "id": "6892ea55-b93f-4950-b178-a23cec380040",
   "metadata": {},
   "outputs": [],
   "source": [
    "# Open the specified YouTube video\n",
    "url = \"https://youtu.be/_yuhV3udQ3o?si=iGP2HQJKtEZcoCPs\"\n",
    "driver.get(url)\n",
    "time.sleep(5)"
   ]
  },
  {
   "cell_type": "code",
   "execution_count": 11,
   "id": "45532411-579f-4360-b654-912a397cdbab",
   "metadata": {},
   "outputs": [],
   "source": [
    "# Find element for search bar\n",
    "search_bar = driver.find_element(By.XPATH, \"//input[@id='search']\")\n",
    "search_bar.send_keys(\"Ramta Jogi\")  # Entering video name\n",
    "time.sleep(2)"
   ]
  },
  {
   "cell_type": "code",
   "execution_count": 67,
   "id": "b19e06df-0d45-434f-900d-dd91a23fe1f4",
   "metadata": {},
   "outputs": [],
   "source": [
    "# Clicking on the search button\n",
    "search_btn = driver.find_element(By.ID, \"search-icon-legacy\")\n",
    "search_btn.click()\n",
    "time.sleep(2)\n"
   ]
  },
  {
   "cell_type": "code",
   "execution_count": 17,
   "id": "13c1b2c6-a3ec-4407-95c7-9736d8b783d7",
   "metadata": {},
   "outputs": [],
   "source": [
    "\n",
    "# Scroll down to load more comments until we reach at least 500\n",
    "while len(driver.find_elements(By.CSS_SELECTOR, \"ytd-comment-thread-renderer\")) < 500:\n",
    "    driver.execute_script(\"window.scrollBy(0, 1000);\")\n",
    "    time.sleep(2)"
   ]
  },
  {
   "cell_type": "code",
   "execution_count": 19,
   "id": "2983d692-acf0-4cc5-a71b-190997e81daf",
   "metadata": {},
   "outputs": [],
   "source": [
    "\n",
    "# Creating empty lists\n",
    "comments = []\n",
    "comment_time = []\n",
    "no_of_likes = []\n"
   ]
  },
  {
   "cell_type": "code",
   "execution_count": 21,
   "id": "d862c755-5baa-458e-9c0d-be2076af6a09",
   "metadata": {},
   "outputs": [],
   "source": [
    "# Scrape comments using CSS selectors\n",
    "cm = driver.find_elements(By.CSS_SELECTOR, \"ytd-comment-thread-renderer #content-text\")\n",
    "for i in cm:\n",
    "    comments.append(i.text)\n",
    "\n",
    "# If the above fails, try this alternative approach for timestamps:\n",
    "if not comment_time:\n",
    "    tm = driver.find_elements(By.CSS_SELECTOR, \"ytd-comment-thread-renderer a#author-text\")\n",
    "    for i in tm:\n",
    "        try:\n",
    "            time_element = i.find_element(By.XPATH, \"../following-sibling::ytd-comment-renderer//span[@class='published-time-text']\")\n",
    "            comment_time.append(time_element.text)\n",
    "        except:\n",
    "            comment_time.append(\"Unknown\")\n",
    "\n",
    "# Scrape the comment likes using CSS selectors\n",
    "like = driver.find_elements(By.CSS_SELECTOR, \"ytd-comment-thread-renderer #vote-count-middle\")\n",
    "for i in like:\n",
    "    no_of_likes.append(i.text)"
   ]
  },
  {
   "cell_type": "code",
   "execution_count": 23,
   "id": "82c21b66-9bf3-4b3b-88ad-6e92d6404de5",
   "metadata": {},
   "outputs": [
    {
     "name": "stdout",
     "output_type": "stream",
     "text": [
      "500 500 500\n"
     ]
    }
   ],
   "source": [
    "# Print lengths for verification\n",
    "print(len(comments), len(comment_time), len(no_of_likes))"
   ]
  },
  {
   "cell_type": "code",
   "execution_count": 25,
   "id": "b8360949-3a53-4718-a760-c41c1cca2d10",
   "metadata": {},
   "outputs": [
    {
     "name": "stdout",
     "output_type": "stream",
     "text": [
      "                                               Comment Comment Time  \\\n",
      "0    Can't decide what's more beautiful... Aishwary...      Unknown   \n",
      "1    This composition was way ahead of it's time. M...      Unknown   \n",
      "2    OMG, 2:50 those dance moves from Ash,only she ...      Unknown   \n",
      "3     Aishwarya Rai. Pure and Natural Talent\\n(Legend)      Unknown   \n",
      "4                           1:35 god she's killing it       Unknown   \n",
      "..                                                 ...          ...   \n",
      "495                              We loves u sukhwinder      Unknown   \n",
      "496                In tamil voice swarnalatha mam rock      Unknown   \n",
      "497                                          Very nice      Unknown   \n",
      "498                                        ️MS DHONI ️      Unknown   \n",
      "499       Kon isko 2024 me dekh rha hai , old is gold       Unknown   \n",
      "\n",
      "    Comment Upvotes  \n",
      "0               552  \n",
      "1               395  \n",
      "2               110  \n",
      "3                52  \n",
      "4                38  \n",
      "..              ...  \n",
      "495                  \n",
      "496                  \n",
      "497               1  \n",
      "498               1  \n",
      "499               1  \n",
      "\n",
      "[500 rows x 3 columns]\n"
     ]
    }
   ],
   "source": [
    "# Creating DataFrame for scraped data\n",
    "youtube_data = pd.DataFrame({\n",
    "    'Comment': comments[:500],\n",
    "    'Comment Time': comment_time[:500],\n",
    "    'Comment Upvotes': no_of_likes[:500]\n",
    "})\n",
    "\n",
    "print(youtube_data)\n"
   ]
  },
  {
   "cell_type": "code",
   "execution_count": 27,
   "id": "af0c6946-e833-4e4d-a182-ff599dfb766e",
   "metadata": {},
   "outputs": [],
   "source": [
    "\n",
    "# Close the driver\n",
    "driver.quit()"
   ]
  },
  {
   "cell_type": "code",
   "execution_count": null,
   "id": "8c1ad8da-222c-46a6-a35d-959fb62455e1",
   "metadata": {},
   "outputs": [],
   "source": []
  },
  {
   "cell_type": "code",
   "execution_count": null,
   "id": "f8e0d574-6cbc-4a38-8d3b-9d6f715040e9",
   "metadata": {},
   "outputs": [],
   "source": []
  },
  {
   "cell_type": "markdown",
   "id": "75ff6311-eef0-40ca-a971-0dbe50bd4ea4",
   "metadata": {},
   "source": [
    "# Q9"
   ]
  },
  {
   "cell_type": "code",
   "execution_count": 3,
   "id": "50679322-1a8f-47d5-8306-ea7aad8a5bca",
   "metadata": {},
   "outputs": [],
   "source": [
    "import requests\n",
    "from bs4 import BeautifulSoup\n",
    "import pandas as pd\n"
   ]
  },
  {
   "cell_type": "code",
   "execution_count": 5,
   "id": "457383a8-d94e-4c0e-83fa-b6d0619decc6",
   "metadata": {},
   "outputs": [],
   "source": [
    "# Define the URL for the search query\n",
    "url = \"https://www.hostelworld.com/search?location=London\""
   ]
  },
  {
   "cell_type": "code",
   "execution_count": 7,
   "id": "613d71d1-0ecf-4f99-b3ca-a7a7eadcdbd2",
   "metadata": {},
   "outputs": [],
   "source": [
    "# Send a request to the website\n",
    "response = requests.get(url)\n",
    "soup = BeautifulSoup(response.text, 'html.parser')"
   ]
  },
  {
   "cell_type": "code",
   "execution_count": 9,
   "id": "e49212e3-cae1-44bf-b0c5-9675b81a8328",
   "metadata": {},
   "outputs": [],
   "source": [
    "# Lists to store data\n",
    "hostel_names = []\n",
    "distances = []\n",
    "pvt_prices = []\n",
    "dorms_prices = []\n",
    "ratings = []\n",
    "reviews = []\n",
    "overall_reviews = []\n",
    "facilities = []\n",
    "descriptions = []\n",
    "urls = []\n"
   ]
  },
  {
   "cell_type": "code",
   "execution_count": 11,
   "id": "9b375402-77dd-4119-9e90-87469cd10e68",
   "metadata": {},
   "outputs": [],
   "source": [
    "# Find all hostels on the page\n",
    "hostels = soup.find_all(\"div\", class_=\"property-card\")\n"
   ]
  },
  {
   "cell_type": "code",
   "execution_count": 13,
   "id": "f4f4db6d-1609-493e-8fd1-6fad8bfeb726",
   "metadata": {},
   "outputs": [],
   "source": [
    "for hostel in hostels:\n",
    "    try:\n",
    "        name = hostel.find(\"h2\", class_=\"title\").text.strip()\n",
    "        distance = hostel.find(\"span\", class_=\"distance\").text.strip()\n",
    "        private_price = hostel.find(\"div\", class_=\"private-price\").text.strip()\n",
    "        dorm_price = hostel.find(\"div\", class_=\"dorm-price\").text.strip()\n",
    "        \n",
    "        hostel_names.append(name)\n",
    "        distances.append(distance)\n",
    "        pvt_prices.append(private_price)\n",
    "        dorms_prices.append(dorm_price)\n",
    "        \n",
    "        # Fetching the URL\n",
    "        url = hostel.find(\"a\", class_=\"prices\")['href']\n",
    "        urls.append(f\"https://www.hostelworld.com{url}\")\n",
    "    except AttributeError:\n",
    "        hostel_names.append('-')\n",
    "        distances.append('-')\n",
    "        pvt_prices.append('-')\n",
    "        dorms_prices.append('-')\n",
    "        urls.append('-')"
   ]
  },
  {
   "cell_type": "code",
   "execution_count": 15,
   "id": "930cceeb-3703-49e4-b980-cccc2a675282",
   "metadata": {},
   "outputs": [],
   "source": [
    "# Visit each hostel's page for detailed information\n",
    "for hostel_url in urls:\n",
    "    if hostel_url != '-':\n",
    "        response = requests.get(hostel_url)\n",
    "        hostel_soup = BeautifulSoup(response.text, 'html.parser')\n",
    "        \n",
    "        try:\n",
    "            rat = hostel_soup.find(\"div\", class_=\"score orange big\").text.strip()\n",
    "            ratings.append(rat)\n",
    "        except AttributeError:\n",
    "            ratings.append('-')\n",
    "        \n",
    "        try:\n",
    "            rws = hostel_soup.find(\"div\", class_=\"reviews\").text.strip().replace('Total Reviews', '')\n",
    "            reviews.append(rws)\n",
    "        except AttributeError:\n",
    "            reviews.append('-')\n",
    "        \n",
    "        try:\n",
    "            overall = hostel_soup.find(\"div\", class_=\"keyword\").find(\"span\").text.strip()\n",
    "            overall_reviews.append(overall)\n",
    "        except AttributeError:\n",
    "            overall_reviews.append('-')\n",
    "        \n",
    "        try:\n",
    "            description = hostel_soup.find(\"div\", class_=\"content\").text.strip()\n",
    "            descriptions.append(description)\n",
    "        except AttributeError:\n",
    "            descriptions.append('-')"
   ]
  },
  {
   "cell_type": "code",
   "execution_count": 113,
   "id": "d33c3397-92e7-4171-9553-7e14ff3953b5",
   "metadata": {},
   "outputs": [
    {
     "name": "stdout",
     "output_type": "stream",
     "text": [
      "Scraping complete! Data saved to 'hostels_in_london.csv'.\n"
     ]
    }
   ],
   "source": [
    "import requests\n",
    "from bs4 import BeautifulSoup\n",
    "import pandas as pd\n",
    "\n",
    "# Define the URL for the search query\n",
    "url = \"https://www.hostelworld.com/search?location=London\"\n",
    "\n",
    "# Send a request to the website\n",
    "response = requests.get(url)\n",
    "soup = BeautifulSoup(response.text, 'html.parser')\n",
    "\n",
    "# Lists to store data\n",
    "hostel_names = []\n",
    "distances = []\n",
    "pvt_prices = []\n",
    "dorms_prices = []\n",
    "ratings = []\n",
    "reviews = []\n",
    "overall_reviews = []\n",
    "facilities = []\n",
    "descriptions = []\n",
    "urls = []\n",
    "\n",
    "# Find all hostels on the page\n",
    "hostels = soup.find_all(\"div\", class_=\"property-card\")\n",
    "\n",
    "for hostel in hostels:\n",
    "    try:\n",
    "        name = hostel.find(\"h2\", class_=\"title\").text.strip()\n",
    "        distance = hostel.find(\"span\", class_=\"distance\").text.strip()\n",
    "        private_price = hostel.find(\"div\", class_=\"private-price\").text.strip()\n",
    "        dorm_price = hostel.find(\"div\", class_=\"dorm-price\").text.strip()\n",
    "\n",
    "        hostel_names.append(name)\n",
    "        distances.append(distance)\n",
    "        pvt_prices.append(private_price)\n",
    "        dorms_prices.append(dorm_price)\n",
    "\n",
    "        # Fetching the URL\n",
    "        url = hostel.find(\"a\", class_=\"prices\")['href']\n",
    "        urls.append(f\"https://www.hostelworld.com{url}\")\n",
    "    except AttributeError:\n",
    "        hostel_names.append('-')\n",
    "        distances.append('-')\n",
    "        pvt_prices.append('-')\n",
    "        dorms_prices.append('-')\n",
    "        urls.append('-')\n",
    "\n",
    "# Visit each hostel's page for detailed information\n",
    "for hostel_url in urls:\n",
    "    if hostel_url != '-':\n",
    "        response = requests.get(hostel_url)\n",
    "        hostel_soup = BeautifulSoup(response.text, 'html.parser')\n",
    "\n",
    "        try:\n",
    "            rat = hostel_soup.find(\"div\", class_=\"score orange big\").text.strip()\n",
    "            ratings.append(rat)\n",
    "        except AttributeError:\n",
    "            ratings.append('-')\n",
    "        \n",
    "        try:\n",
    "            rws = hostel_soup.find(\"div\", class_=\"reviews\").text.strip().replace('Total Reviews', '')\n",
    "            reviews.append(rws)\n",
    "        except AttributeError:\n",
    "            reviews.append('-')\n",
    "        \n",
    "        try:\n",
    "            overall = hostel_soup.find(\"div\", class_=\"keyword\").find(\"span\").text.strip()\n",
    "            overall_reviews.append(overall)\n",
    "        except AttributeError:\n",
    "            overall_reviews.append('-')\n",
    "        \n",
    "        try:\n",
    "            description = hostel_soup.find(\"div\", class_=\"content\").text.strip()\n",
    "            descriptions.append(description)\n",
    "        except AttributeError:\n",
    "            descriptions.append('-')\n",
    "        \n",
    "        # Scraping facilities\n",
    "        try:\n",
    "            facility_elements = hostel_soup.find_all(\"div\", class_=\"facilities\")\n",
    "            facility_list = [facility.text.strip() for facility in facility_elements]\n",
    "            facilities.append(\", \".join(facility_list) if facility_list else \"-\")\n",
    "        except AttributeError:\n",
    "            facilities.append('-')\n",
    "\n",
    "# Create a DataFrame with the scraped data\n",
    "data = {\n",
    "    \"Hostel Name\": hostel_names,\n",
    "    \"Distance\": distances,\n",
    "    \"Private Price\": pvt_prices,\n",
    "    \"Dorm Price\": dorms_prices,\n",
    "    \"Rating\": ratings,\n",
    "    \"Total Reviews\": reviews,\n",
    "    \"Overall Reviews\": overall_reviews,\n",
    "    \"Description\": descriptions,\n",
    "    \"Facilities\": facilities,\n",
    "    \"URL\": urls\n",
    "}\n",
    "\n",
    "df = pd.DataFrame(data)\n",
    "\n",
    "# Save the DataFrame to a CSV file\n",
    "df.to_csv('hostels_in_london.csv', index=False)\n",
    "\n",
    "print(\"Scraping complete! Data saved to 'hostels_in_london.csv'.\")"
   ]
  },
  {
   "cell_type": "code",
   "execution_count": null,
   "id": "b5191504-4772-4935-b836-488e6b4e7321",
   "metadata": {},
   "outputs": [],
   "source": []
  }
 ],
 "metadata": {
  "kernelspec": {
   "display_name": "Python 3 (ipykernel)",
   "language": "python",
   "name": "python3"
  },
  "language_info": {
   "codemirror_mode": {
    "name": "ipython",
    "version": 3
   },
   "file_extension": ".py",
   "mimetype": "text/x-python",
   "name": "python",
   "nbconvert_exporter": "python",
   "pygments_lexer": "ipython3",
   "version": "3.12.4"
  }
 },
 "nbformat": 4,
 "nbformat_minor": 5
}
