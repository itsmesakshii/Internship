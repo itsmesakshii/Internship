{
  "nbformat": 4,
  "nbformat_minor": 0,
  "metadata": {
    "colab": {
      "provenance": []
    },
    "kernelspec": {
      "name": "python3",
      "display_name": "Python 3"
    },
    "language_info": {
      "name": "python"
    }
  },
  "cells": [
    {
      "cell_type": "markdown",
      "source": [
        "**REGULAR EXPRESSION (TASK - 3)** **|| Fliprobo Technologies**\n",
        "\n",
        "\n",
        "**Batch**: DS2406\n",
        "\n",
        "\n",
        "**Name:** Sakshi Jha\n"
      ],
      "metadata": {
        "id": "yKsWbaYUKBqE"
      }
    },
    {
      "cell_type": "markdown",
      "source": [
        "**Task Description :**\n",
        "\n",
        "Assigned task contains list of 30 Programs to be performed, below are the codes for the same.\n",
        "\n",
        "**Note**:The programs requiring data extraction from a seprate \".txt\" files, These files  were uploaded seprately on Google collab notebook and then programs were executed."
      ],
      "metadata": {
        "id": "RJaGWTgzL3le"
      }
    },
    {
      "cell_type": "markdown",
      "source": [
        "#Please Find Solutions Below :"
      ],
      "metadata": {
        "id": "0dea5b69SKRP"
      }
    },
    {
      "cell_type": "markdown",
      "source": [
        "**Question 1**- Write a Python program to replace all occurrences of a space, comma, or dot with a\n",
        "colon.\n",
        "\n",
        "\n",
        "Sample Text- &#39;Python Exercises, PHP exercises.&#39;\n",
        "\n",
        "\n",
        "Expected Output: Python:Exercises::PHP:exercises:\n",
        "\n"
      ],
      "metadata": {
        "id": "b8T9KFPhMMrj"
      }
    },
    {
      "cell_type": "code",
      "source": [
        "def replace_with_colon(text):\n",
        "    # Replacing space, comma, and dot with colon\n",
        "    replaced_text = text.replace(' ', ':').replace(',', ':').replace('.', ':')\n",
        "    return replaced_text\n",
        "\n",
        "# create function: sample text\n",
        "sample_text = 'Python Exercises, PHP exercises.'\n",
        "\n",
        "# Call the function to replace characters\n",
        "output_text = replace_with_colon(sample_text)\n",
        "\n",
        "# output\n",
        "print(\"Output:\", output_text)"
      ],
      "metadata": {
        "colab": {
          "base_uri": "https://localhost:8080/"
        },
        "id": "v-rtEESAMt60",
        "outputId": "d52f28bb-9ca6-4f29-ffcd-2d3aeb4a28bc"
      },
      "execution_count": 44,
      "outputs": [
        {
          "output_type": "stream",
          "name": "stdout",
          "text": [
            "Output: Python:Exercises::PHP:exercises:\n"
          ]
        }
      ]
    },
    {
      "cell_type": "markdown",
      "source": [
        "**Question 2-**\n",
        "Create a dataframe using the dictionary below and remove everything (commas (,), !,\n",
        "XXXX, ;, etc.) from the columns except words.\n",
        "\n",
        "Dictionary- {&#39;SUMMARY&#39; : [&#39;hello, world!&#39;, &#39;XXXXX test&#39;, &#39;123four, five:; six...&#39;]}\n",
        "\n",
        "Expected output-\n",
        "0 hello world\n",
        "1 test\n",
        "2 four five six"
      ],
      "metadata": {
        "id": "6KRXeHD0MMou"
      }
    },
    {
      "cell_type": "code",
      "source": [
        "import pandas as pd\n",
        "import re\n",
        "\n",
        "# provided dictionary\n",
        "data_dict = {'SUMMARY': ['hello, world!', 'XXXXX test', '123four, five:; six...']}\n",
        "\n",
        "# Creating dataframe\n",
        "df = pd.DataFrame(data_dict)\n",
        "\n",
        "# clean text and keep words only\n",
        "def clean_text(text):\n",
        "    # Replace non-word characters with space and strip extra spaces\n",
        "    clean_text = re.sub(r'[^\\w\\s]', ' ', text).strip()\n",
        "    # Remove extra spaces and return\n",
        "    return ' '.join(clean_text.split())\n",
        "\n",
        "# applying cleaning fun. to \"SUMMARY\"\n",
        "df['SUMMARY'] = df['SUMMARY'].apply(clean_text)\n",
        "\n",
        "# output\n",
        "print(df)"
      ],
      "metadata": {
        "colab": {
          "base_uri": "https://localhost:8080/"
        },
        "id": "HohJ69CyNBvE",
        "outputId": "71f7571d-3d68-4f23-d5a8-9deb1987237a"
      },
      "execution_count": 45,
      "outputs": [
        {
          "output_type": "stream",
          "name": "stdout",
          "text": [
            "            SUMMARY\n",
            "0       hello world\n",
            "1        XXXXX test\n",
            "2  123four five six\n"
          ]
        }
      ]
    },
    {
      "cell_type": "markdown",
      "source": [
        "**Question 3-**\n",
        "Create a function in python to find all words that are at least 4 characters long in a\n",
        "string. The use of the re.compile() method is mandatory."
      ],
      "metadata": {
        "id": "031imDh3MMlT"
      }
    },
    {
      "cell_type": "code",
      "source": [
        "import re\n",
        "\n",
        "def find_long_words(text):\n",
        "    # Compile a regular expression pattern to find words of length at least 4\n",
        "    pattern = re.compile(r'\\b\\w{4,}\\b')\n",
        "\n",
        "    # findall to extract all words matching the pattern\n",
        "    words = pattern.findall(text)\n",
        "\n",
        "    return words\n",
        "\n",
        "# Creating sample text\n",
        "sample_text = \"Python is a powerful programming language. Regex helps in pattern matching and validation.\"\n",
        "\n",
        "# Find words of length at least 4 in the sample text\n",
        "found_words = find_long_words(sample_text)\n",
        "\n",
        "# Print the found words\n",
        "print(\"Found Words:\", found_words)"
      ],
      "metadata": {
        "colab": {
          "base_uri": "https://localhost:8080/"
        },
        "id": "vxKwEZIHNQyV",
        "outputId": "7c004103-f22d-418a-e2d1-af58c641cc5b"
      },
      "execution_count": 46,
      "outputs": [
        {
          "output_type": "stream",
          "name": "stdout",
          "text": [
            "Found Words: ['Python', 'powerful', 'programming', 'language', 'Regex', 'helps', 'pattern', 'matching', 'validation']\n"
          ]
        }
      ]
    },
    {
      "cell_type": "markdown",
      "source": [
        "**Question 4 -**\n",
        "Create a function in python to find all three, four, and five character words in a string.\n",
        "The use of the re.compile() method is mandatory."
      ],
      "metadata": {
        "id": "AwfDTy_vMMht"
      }
    },
    {
      "cell_type": "code",
      "source": [
        "import re\n",
        "\n",
        "def find_words_of_length(text):\n",
        "    # Compile a regular expression pattern to find words of length 3, 4, or 5; then use findall to extract all words matching the pattern\n",
        "    pattern = re.compile(r'\\b\\w{3,5}\\b')\n",
        "    words = pattern.findall(text)\n",
        "    return words\n",
        "\n",
        "# sample text\n",
        "sample_text = \"Python is a powerful programming language. Regex helps in pattern matching and validation.\"\n",
        "\n",
        "# Find words of length 3, 4, or 5 in the sample text\n",
        "found_words = find_words_of_length(sample_text)\n",
        "\n",
        "# Print the found words\n",
        "print(\"Found Words:\", found_words)"
      ],
      "metadata": {
        "colab": {
          "base_uri": "https://localhost:8080/"
        },
        "id": "UoAHAvF-Nb38",
        "outputId": "56546b0f-c732-475d-9d86-6e053b064a94"
      },
      "execution_count": 48,
      "outputs": [
        {
          "output_type": "stream",
          "name": "stdout",
          "text": [
            "Found Words: ['Regex', 'helps', 'and']\n"
          ]
        }
      ]
    },
    {
      "cell_type": "markdown",
      "source": [
        "**Question 5-** Create a function in Python to remove the parenthesis in a list of strings.\n",
        "\n",
        "The use of the re.compile() method is mandatory.\n",
        "\n",
        "Sample Text: [&quot;example (.com)&quot;, &quot;hr@fliprobo (.com)&quot;, &quot;github (.com)&quot;, &quot;Hello (Data Science World)&quot;,\n",
        "&quot;Data (Scientist)&quot;]\n",
        "\n",
        "Expected Output:\n",
        "example.com\n",
        "hr@fliprobo.com\n",
        "github.com\n",
        "Hello Data Science World"
      ],
      "metadata": {
        "id": "7TkHjKicMMeO"
      }
    },
    {
      "cell_type": "code",
      "source": [
        "import re\n",
        "\n",
        "def remove_parenthesis(strings):\n",
        "    # Compile a regular expression pattern to match text within parentheses\n",
        "    pattern = re.compile(r'\\s*\\([^)]*\\)')\n",
        "\n",
        "    # Define a function to remove parentheses using the compiled pattern\n",
        "    def remove_parenthesis_single(string):\n",
        "        return pattern.sub('', string)\n",
        "\n",
        "    # Apply the function to each string in the list\n",
        "    modified_strings = [remove_parenthesis_single(string) for string in strings]\n",
        "\n",
        "    return modified_strings\n",
        "\n",
        "# provided sample Text as a list of strings\n",
        "sample_text = [\n",
        "    \"example (.com)\",\n",
        "    \"hr@fliprobo (.com)\",\n",
        "    \"github (.com)\",\n",
        "    \"Hello (Data Science World)\",\n",
        "    \"Data (Scientist)\"\n",
        "]\n",
        "\n",
        "# Remove parentheses from each string in the list\n",
        "output_text = remove_parenthesis(sample_text)\n",
        "\n",
        "# Print the expected output\n",
        "for text in output_text:\n",
        "    print(text)"
      ],
      "metadata": {
        "colab": {
          "base_uri": "https://localhost:8080/"
        },
        "id": "-oB8TwkDN1uA",
        "outputId": "cb2ff61c-0f37-4862-9206-a7e39f3c52f2"
      },
      "execution_count": 36,
      "outputs": [
        {
          "output_type": "stream",
          "name": "stdout",
          "text": [
            "example\n",
            "hr@fliprobo\n",
            "github\n",
            "Hello\n",
            "Data\n"
          ]
        }
      ]
    },
    {
      "cell_type": "markdown",
      "source": [
        "**Question 6-** Write a python program to remove the parenthesis area from the text stored in the text\n",
        "file using Regular Expression.\n",
        "\n",
        "\n",
        "Sample Text: [&quot;example (.com)&quot;, &quot;hr@fliprobo (.com)&quot;, &quot;github (.com)&quot;, &quot;Hello (Data Science World)&quot;,\n",
        "&quot;Data (Scientist)&quot;]\n",
        "\n",
        "Expected Output: [&quot;example&quot;, &quot;hr@fliprobo&quot;, &quot;github&quot;, &quot;Hello&quot;, &quot;Data&quot;]\n",
        "\n",
        "Note- Store given sample text in the text file and then to remove the parenthesis area from the text."
      ],
      "metadata": {
        "id": "hpIRFhWJMMa_"
      }
    },
    {
      "cell_type": "code",
      "source": [
        "import re\n",
        "\n",
        "def remove_parenthesis_area(text):\n",
        "    # Define a regular expression pattern to remove text within parentheses\n",
        "    pattern = r'\\s*\\([^)]*\\)'\n",
        "\n",
        "    # Use re.sub to replace matched patterns with an empty string\n",
        "    modified_text = re.sub(pattern, '', text)\n",
        "\n",
        "    return modified_text\n",
        "\n",
        "# Read the sample text from file : sample_text_6\n",
        "with open('/content/sample_text_6', 'r') as file:\n",
        "    sample_text = file.read()\n",
        "\n",
        "# Remove parenthesis area from each item in the list\n",
        "modified_items = [remove_parenthesis_area(item) for item in eval(sample_text)]\n",
        "\n",
        "print(\"Output:\", modified_items)"
      ],
      "metadata": {
        "colab": {
          "base_uri": "https://localhost:8080/"
        },
        "id": "_PpdVJD4OGNy",
        "outputId": "8745acf3-e7d6-4c20-de4f-49393e65cb4d"
      },
      "execution_count": 75,
      "outputs": [
        {
          "output_type": "stream",
          "name": "stdout",
          "text": [
            "Output: ['example', 'hr@fliprobo', 'github', 'Hello', 'Data']\n"
          ]
        }
      ]
    },
    {
      "cell_type": "markdown",
      "source": [
        "**Question 7-** Write a regular expression in Python to split a string into uppercase letters.\n",
        "\n",
        "Sample text: “ImportanceOfRegularExpressionsInPython”\n",
        "\n",
        "Expected Output: [‘Importance’, ‘Of’, ‘Regular’, ‘Expression’, ‘In’, ‘Python’]"
      ],
      "metadata": {
        "id": "vjIBbo7WMMXN"
      }
    },
    {
      "cell_type": "code",
      "source": [
        "import re\n",
        "\n",
        "def split_uppercase_words(text):\n",
        "    # Define the regular expression pattern to find sequences of uppercase letters\n",
        "    # Use re.findall to find all matches based on the pattern\n",
        "    pattern = r'[A-Z][a-z]*'\n",
        "    words = re.findall(pattern, text)\n",
        "    return words\n",
        "\n",
        "sample_text = \"ImportanceOfRegularExpressionsInPython\"\n",
        "\n",
        "# Split the text into uppercase words\n",
        "output_words = split_uppercase_words(sample_text)\n",
        "\n",
        "print(\"Output:\", output_words)"
      ],
      "metadata": {
        "colab": {
          "base_uri": "https://localhost:8080/"
        },
        "id": "5azVzWvYORMt",
        "outputId": "f2f34439-d94d-4ad0-819e-16d9fed8478b"
      },
      "execution_count": 74,
      "outputs": [
        {
          "output_type": "stream",
          "name": "stdout",
          "text": [
            "Output: ['Importance', 'Of', 'Regular', 'Expressions', 'In', 'Python']\n"
          ]
        }
      ]
    },
    {
      "cell_type": "markdown",
      "source": [
        "**Question 8-** Create a function in python to insert spaces between words starting with numbers.\n",
        "\n",
        "Sample Text: “RegularExpression1IsAn2ImportantTopic3InPython&quot;\n",
        "\n",
        "Expected Output: RegularExpression 1IsAn 2ImportantTopic 3InPython"
      ],
      "metadata": {
        "id": "g6uDuR0DOP6N"
      }
    },
    {
      "cell_type": "code",
      "source": [
        "import re\n",
        "\n",
        "def insert_spaces_between_numbers(text):\n",
        "    # Define a regular expression pattern to find words starting with numbers\n",
        "    # Use re.sub to insert a space before words starting with numbers\n",
        "    pattern = r'([0-9]+[A-Za-z]*)'\n",
        "    result = re.sub(pattern, r' \\1', text)\n",
        "    return result.strip()\n",
        "\n",
        "# given text sample\n",
        "sample_text = \"RegularExpression1IsAn2ImportantTopic3InPython\"\n",
        "\n",
        "# Insert spaces between words starting with numbers\n",
        "output_text = insert_spaces_between_numbers(sample_text)\n",
        "\n",
        "print(\"Output:\", output_text)"
      ],
      "metadata": {
        "colab": {
          "base_uri": "https://localhost:8080/"
        },
        "id": "4skq_GzEPPx9",
        "outputId": "2bf86d43-3274-4fac-c9fc-995bba1065bc"
      },
      "execution_count": 72,
      "outputs": [
        {
          "output_type": "stream",
          "name": "stdout",
          "text": [
            "Output: RegularExpression 1IsAn 2ImportantTopic 3InPython\n"
          ]
        }
      ]
    },
    {
      "cell_type": "markdown",
      "source": [
        "**Question 9-** Create a function in python to insert spaces between words starting with capital letters\n",
        "or with numbers.\n",
        "\n",
        "Sample Text: “RegularExpression1IsAn2ImportantTopic3InPython&quot;\n",
        "\n",
        "Expected Output: RegularExpression 1 IsAn 2 ImportantTopic 3 InPython"
      ],
      "metadata": {
        "id": "LlWp9AO4MMUd"
      }
    },
    {
      "cell_type": "code",
      "source": [
        "import re\n",
        "\n",
        "def insert_spaces(text):\n",
        "    # Define a regular expression pattern to find words starting with capital letters or numbers\n",
        "    # Use re.findall to find all matches based on the pattern\n",
        "    # Join the found words with a space and return the result\n",
        "    pattern = r'([A-Z][a-z0-9]*|\\d+)'\n",
        "    words = re.findall(pattern, text)\n",
        "    return ' '.join(words)\n",
        "\n",
        "# given text sample\n",
        "sample_text = \"RegularExpression1IsAn2ImportantTopic3InPython\"\n",
        "\n",
        "# Insert spaces between words starting with capital letters or numbers\n",
        "output_text = insert_spaces(sample_text)\n",
        "\n",
        "print(\"Output:\", output_text)"
      ],
      "metadata": {
        "colab": {
          "base_uri": "https://localhost:8080/"
        },
        "id": "ysrKUj9SPFtE",
        "outputId": "e63378a2-030d-4f0a-a8dc-9b66427146a9"
      },
      "execution_count": 70,
      "outputs": [
        {
          "output_type": "stream",
          "name": "stdout",
          "text": [
            "Output: Regular Expression1 Is An2 Important Topic3 In Python\n"
          ]
        }
      ]
    },
    {
      "cell_type": "markdown",
      "source": [
        "**Question 10-** Use the github link below to read the data and create a dataframe. After creating the\n",
        "dataframe extract the first 6 letters of each country and store in the dataframe under a new column\n",
        "called first_five_letters.\n",
        "\n",
        "Github Link-\n",
        "https://raw.githubusercontent.com/dsrscientist/DSData/master/happiness_score_dataset.csv"
      ],
      "metadata": {
        "id": "ByxxH3u2MMRf"
      }
    },
    {
      "cell_type": "code",
      "source": [
        "import pandas as pd\n",
        "\n",
        "# GitHub URL for the dataset\n",
        "url = \"https://raw.githubusercontent.com/dsrscientist/DSData/master/happiness_score_dataset.csv\"\n",
        "\n",
        "# Read the dataset into a pandas DataFrame\n",
        "df = pd.read_csv(url)\n",
        "\n",
        "# Display the first few rows of the dataframe to understand its structure\n",
        "# Extract first 6 letters of each country name and store in a new column 'first_five_letters'\n",
        "# Display the updated dataframe with the new column\n",
        "\n",
        "print(\"Original DataFrame:\")\n",
        "print(df.head())\n",
        "\n",
        "df['first_five_letters'] = df['Country'].str.slice(0, 6)\n",
        "\n",
        "print(\"\\nUpdated DataFrame:\")\n",
        "print(df.head())"
      ],
      "metadata": {
        "colab": {
          "base_uri": "https://localhost:8080/"
        },
        "id": "j45PgOvgPZ_k",
        "outputId": "1161dd23-8e3e-43a4-cd2b-b2d2bcc42fab"
      },
      "execution_count": 69,
      "outputs": [
        {
          "output_type": "stream",
          "name": "stdout",
          "text": [
            "Original DataFrame:\n",
            "       Country          Region  Happiness Rank  Happiness Score  \\\n",
            "0  Switzerland  Western Europe               1            7.587   \n",
            "1      Iceland  Western Europe               2            7.561   \n",
            "2      Denmark  Western Europe               3            7.527   \n",
            "3       Norway  Western Europe               4            7.522   \n",
            "4       Canada   North America               5            7.427   \n",
            "\n",
            "   Standard Error  Economy (GDP per Capita)   Family  \\\n",
            "0         0.03411                   1.39651  1.34951   \n",
            "1         0.04884                   1.30232  1.40223   \n",
            "2         0.03328                   1.32548  1.36058   \n",
            "3         0.03880                   1.45900  1.33095   \n",
            "4         0.03553                   1.32629  1.32261   \n",
            "\n",
            "   Health (Life Expectancy)  Freedom  Trust (Government Corruption)  \\\n",
            "0                   0.94143  0.66557                        0.41978   \n",
            "1                   0.94784  0.62877                        0.14145   \n",
            "2                   0.87464  0.64938                        0.48357   \n",
            "3                   0.88521  0.66973                        0.36503   \n",
            "4                   0.90563  0.63297                        0.32957   \n",
            "\n",
            "   Generosity  Dystopia Residual  \n",
            "0     0.29678            2.51738  \n",
            "1     0.43630            2.70201  \n",
            "2     0.34139            2.49204  \n",
            "3     0.34699            2.46531  \n",
            "4     0.45811            2.45176  \n",
            "\n",
            "Updated DataFrame:\n",
            "       Country          Region  Happiness Rank  Happiness Score  \\\n",
            "0  Switzerland  Western Europe               1            7.587   \n",
            "1      Iceland  Western Europe               2            7.561   \n",
            "2      Denmark  Western Europe               3            7.527   \n",
            "3       Norway  Western Europe               4            7.522   \n",
            "4       Canada   North America               5            7.427   \n",
            "\n",
            "   Standard Error  Economy (GDP per Capita)   Family  \\\n",
            "0         0.03411                   1.39651  1.34951   \n",
            "1         0.04884                   1.30232  1.40223   \n",
            "2         0.03328                   1.32548  1.36058   \n",
            "3         0.03880                   1.45900  1.33095   \n",
            "4         0.03553                   1.32629  1.32261   \n",
            "\n",
            "   Health (Life Expectancy)  Freedom  Trust (Government Corruption)  \\\n",
            "0                   0.94143  0.66557                        0.41978   \n",
            "1                   0.94784  0.62877                        0.14145   \n",
            "2                   0.87464  0.64938                        0.48357   \n",
            "3                   0.88521  0.66973                        0.36503   \n",
            "4                   0.90563  0.63297                        0.32957   \n",
            "\n",
            "   Generosity  Dystopia Residual first_five_letters  \n",
            "0     0.29678            2.51738             Switze  \n",
            "1     0.43630            2.70201             Icelan  \n",
            "2     0.34139            2.49204             Denmar  \n",
            "3     0.34699            2.46531             Norway  \n",
            "4     0.45811            2.45176             Canada  \n"
          ]
        }
      ]
    },
    {
      "cell_type": "markdown",
      "source": [
        "**Question 11-** Write a Python program to match a string that contains only upper and lowercase\n",
        "letters, numbers, and underscores.\n"
      ],
      "metadata": {
        "id": "kyBKBRQtMMMk"
      }
    },
    {
      "cell_type": "code",
      "source": [
        "import re\n",
        "\n",
        "def match_string(input_string):\n",
        "    # Define a regular expression pattern to match the desired criteria\n",
        "    pattern = r'^[A-Za-z0-9_]+$'\n",
        "\n",
        "    # Use re.match to check if the entire string matches the pattern\n",
        "    if re.match(pattern, input_string):\n",
        "        return True\n",
        "    else:\n",
        "        return False\n",
        "\n",
        "# Sample strings to test\n",
        "sample_strings = [\"Valid_String_123\", \"Invalid-String!\", \"AnotherValid123\", \"Invalid String with spaces\"]\n",
        "\n",
        "# Test the function with the sample strings\n",
        "for s in sample_strings:\n",
        "    if match_string(s):\n",
        "        print(f\"'{s}' matches the pattern.\")\n",
        "    else:\n",
        "        print(f\"'{s}' does not match the pattern.\")"
      ],
      "metadata": {
        "colab": {
          "base_uri": "https://localhost:8080/"
        },
        "id": "HGcTKejaPhb1",
        "outputId": "6b2111da-7536-4ab4-cb2c-e4649c28ef30"
      },
      "execution_count": 28,
      "outputs": [
        {
          "output_type": "stream",
          "name": "stdout",
          "text": [
            "'Valid_String_123' matches the pattern.\n",
            "'Invalid-String!' does not match the pattern.\n",
            "'AnotherValid123' matches the pattern.\n",
            "'Invalid String with spaces' does not match the pattern.\n"
          ]
        }
      ]
    },
    {
      "cell_type": "markdown",
      "source": [
        "\n",
        "**Question 12-** Write a Python program where a string will start with a specific number.\n"
      ],
      "metadata": {
        "id": "4tk93bAvMMJv"
      }
    },
    {
      "cell_type": "code",
      "source": [
        "import re\n",
        "\n",
        "def starts_with_number(string, number):\n",
        "    # Define a regular expression pattern to check if the string starts with the specific number\n",
        "    pattern = rf'^{number}'\n",
        "\n",
        "    # Use re.match to check if the string matches the pattern\n",
        "    if re.match(pattern, string):\n",
        "        return True\n",
        "    else:\n",
        "        return False\n",
        "\n",
        "# Sample string\n",
        "sample_string = \"1234 is the start of this string.\"\n",
        "specific_number = 1234\n",
        "\n",
        "# Check if the string starts with the specific number\n",
        "if starts_with_number(sample_string, specific_number):\n",
        "    print(f\"The string starts with the number {specific_number}.\")\n",
        "else:\n",
        "    print(f\"The string does not start with the number {specific_number}.\")"
      ],
      "metadata": {
        "colab": {
          "base_uri": "https://localhost:8080/"
        },
        "id": "2I8n1iPhPlTT",
        "outputId": "2a904767-733b-4cd0-fdc6-52886bef200f"
      },
      "execution_count": 67,
      "outputs": [
        {
          "output_type": "stream",
          "name": "stdout",
          "text": [
            "The string starts with the number 1234.\n"
          ]
        }
      ]
    },
    {
      "cell_type": "markdown",
      "source": [
        "**Question 13-** Write a Python program to remove leading zeros from an IP address"
      ],
      "metadata": {
        "id": "V5EaTPHAMMGq"
      }
    },
    {
      "cell_type": "code",
      "source": [
        "\n",
        "import re\n",
        "\n",
        "def remove_leading_zeros(ip_address):\n",
        "    # Define a regular expression pattern to match segments with leading zeros\n",
        "    # Use re.sub to replace matched patterns\n",
        "    pattern = r'\\b0+(\\d+)'\n",
        "    modified_ip = re.sub(pattern, r'\\1', ip_address)\n",
        "    return modified_ip\n",
        "\n",
        "# Sample IP address with leading zeros\n",
        "sample_ip = \"192.168.001.010\"\n",
        "\n",
        "# Remove leading zeros\n",
        "clean_ip = remove_leading_zeros(sample_ip)\n",
        "\n",
        "# before and after text\n",
        "print(f\"Original IP: {sample_ip}\")\n",
        "print(f\"Modified IP: {clean_ip}\")"
      ],
      "metadata": {
        "colab": {
          "base_uri": "https://localhost:8080/"
        },
        "id": "0I75B6N7PoJU",
        "outputId": "f5451582-37a8-40b7-a963-96156356c41b"
      },
      "execution_count": 66,
      "outputs": [
        {
          "output_type": "stream",
          "name": "stdout",
          "text": [
            "Original IP: 192.168.001.010\n",
            "Modified IP: 192.168.1.10\n"
          ]
        }
      ]
    },
    {
      "cell_type": "markdown",
      "source": [
        "**Question 14-** Write a regular expression in python to match a date string in the form of Month name\n",
        "followed by day number and year stored in a text file.\n",
        "\n",
        "Sample text : &#39; On August 15th 1947 that India was declared independent from British colonialism, and\n",
        "the reins of control were handed over to the leaders of the Country’.\n",
        "\n",
        "Expected Output- August 15th 1947\n",
        "\n",
        "**Note-** Store given sample text in the text file and then extract the date string asked format."
      ],
      "metadata": {
        "id": "TyowI2UeMMDk"
      }
    },
    {
      "cell_type": "code",
      "source": [
        "import re\n",
        "\n",
        "# read from file : sample_text_14\n",
        "with open('/content/sample_text_14', 'r') as file:\n",
        "    text = file.read()\n",
        "\n",
        "# Regular expression pattern to match \"Month day year\"\n",
        "pattern = r'\\b(January|February|March|April|May|June|July|August|September|October|November|December) \\d{1,2}(?:st|nd|rd|th)? \\d{4}\\b'\n",
        "\n",
        "# Search for the pattern in the text\n",
        "match = re.search(pattern, text)\n",
        "\n",
        "# Print the matched date string if found\n",
        "if match:\n",
        "    print(f\"Extracted Date: {match.group()}\")\n",
        "else:\n",
        "    print(\"No date found in the given text.\")"
      ],
      "metadata": {
        "colab": {
          "base_uri": "https://localhost:8080/"
        },
        "id": "Eib89XCsP1oU",
        "outputId": "a9066e4c-95d5-4c43-d60b-b2a6c877b43a"
      },
      "execution_count": 65,
      "outputs": [
        {
          "output_type": "stream",
          "name": "stdout",
          "text": [
            "Extracted Date: August 15th 1947\n"
          ]
        }
      ]
    },
    {
      "cell_type": "markdown",
      "source": [
        "**Question 15-** Write a Python program to search some literals strings in a string.\n",
        "\n",
        "Sample text : &#39;The quick brown fox jumps over the lazy dog.&#39;\n",
        "\n",
        "Searched words : &#39;fox&#39;, &#39;dog&#39;, &#39;horse&#39;"
      ],
      "metadata": {
        "id": "htuT5EZWMMAm"
      }
    },
    {
      "cell_type": "code",
      "source": [
        "import re\n",
        "\n",
        "def search_literals(text, search_words):\n",
        "\n",
        "    results = {}\n",
        "    for word in search_words:\n",
        "        matches = [(m.start(), m.end()) for m in re.finditer(re.escape(word), text)]\n",
        "        results[word] = matches\n",
        "\n",
        "    return results\n",
        "\n",
        "# given text sample\n",
        "sample_text = 'The quick brown fox jumps over the lazy dog'\n",
        "searched_words = ['fox', 'dog', 'horse']\n",
        "\n",
        "# Find occurrences and positions of the searched words\n",
        "results = search_literals(sample_text, searched_words)\n",
        "\n",
        "# output\n",
        "for word, positions in results.items():\n",
        "    if positions:\n",
        "        for start, end in positions:\n",
        "            print(f\"Found '{word}' at position: ({start}, {end})\")\n",
        "    else:\n",
        "        print(f\"'{word}' not found in the text.\")"
      ],
      "metadata": {
        "colab": {
          "base_uri": "https://localhost:8080/"
        },
        "id": "_fG24wjaP-Qj",
        "outputId": "e92359ed-b5f6-4022-b1df-020db12ec848"
      },
      "execution_count": 64,
      "outputs": [
        {
          "output_type": "stream",
          "name": "stdout",
          "text": [
            "Found 'fox' at position: (16, 19)\n",
            "Found 'dog' at position: (40, 43)\n",
            "'horse' not found in the text.\n"
          ]
        }
      ]
    },
    {
      "cell_type": "markdown",
      "source": [
        "**Question 16-** Write a Python program to search a literals string in a string and also find the location\n",
        "within the original string where the pattern occurs\n",
        "\n",
        "Sample text : &#39;The quick brown fox jumps over the lazy dog.&#39;\n",
        "\n",
        "Searched words : &#39;fox&#39;"
      ],
      "metadata": {
        "id": "jzE25wb4ML9f"
      }
    },
    {
      "cell_type": "code",
      "source": [
        "import re\n",
        "\n",
        "def search_literal(text, search_word):\n",
        "\n",
        "    # Compile a regular expression pattern to match the search word\n",
        "       # Find all matches in the input text\n",
        "        # Create a list to store the positions of each match\n",
        "    pattern = re.compile(re.escape(search_word))\n",
        "    matches = pattern.finditer(text)\n",
        "    positions = [(match.start(), match.end()) for match in matches]\n",
        "\n",
        "    return positions\n",
        "\n",
        "# provided sample text\n",
        "sample_text = 'The quick brown fox jumps over the lazy dog.'\n",
        "searched_word = 'fox'\n",
        "\n",
        "# Find occurrences and positions of the searched word\n",
        "positions = search_literal(sample_text, searched_word)\n",
        "for start, end in positions:\n",
        "    print(f\"Found '{searched_word}' at position: ({start}, {end})\")"
      ],
      "metadata": {
        "colab": {
          "base_uri": "https://localhost:8080/"
        },
        "id": "jDSYgZwBQIjN",
        "outputId": "0cbd3c5a-0e19-450c-e9c5-741c5f0ec6d0"
      },
      "execution_count": 63,
      "outputs": [
        {
          "output_type": "stream",
          "name": "stdout",
          "text": [
            "Found 'fox' at position: (16, 19)\n"
          ]
        }
      ]
    },
    {
      "cell_type": "markdown",
      "source": [
        "**Question 17-** Write a Python program to find the substrings within a string.\n",
        "\n",
        "Sample text : &#39;Python exercises, PHP exercises, C# exercises&#39;\n",
        "\n",
        "Pattern : &#39;exercises&#39;.\n"
      ],
      "metadata": {
        "id": "6-NjWoXyML6T"
      }
    },
    {
      "cell_type": "code",
      "source": [
        "import re\n",
        "\n",
        "def find_substrings(text, pattern):\n",
        "\n",
        "    # Compile a regular expression pattern to match the given pattern\n",
        "     # Find all matches in the input text\n",
        "    regex_pattern = re.compile(re.escape(pattern))\n",
        "    matches = regex_pattern.finditer(text)\n",
        "\n",
        "    # Create a list to store the positions of each match\n",
        "    positions = [(match.start(), match.end()) for match in matches]\n",
        "    return positions\n",
        "\n",
        "# Sample Text\n",
        "sample_text = 'Python exercises, PHP exercises, C# exercises'\n",
        "pattern_to_find = 'exercises'\n",
        "\n",
        "# Find occurrences and positions of the pattern\n",
        "positions = find_substrings(sample_text, pattern_to_find)\n",
        "\n",
        "# Print positions\n",
        "for start, end in positions:\n",
        "    print(f\"Found '{pattern_to_find}' at position: ({start}, {end})\")"
      ],
      "metadata": {
        "colab": {
          "base_uri": "https://localhost:8080/"
        },
        "id": "gIwMBXA1QR5y",
        "outputId": "b80b253d-5f91-4c6e-8a8e-d733b8a8c88b"
      },
      "execution_count": 62,
      "outputs": [
        {
          "output_type": "stream",
          "name": "stdout",
          "text": [
            "Found 'exercises' at position: (7, 16)\n",
            "Found 'exercises' at position: (22, 31)\n",
            "Found 'exercises' at position: (36, 45)\n"
          ]
        }
      ]
    },
    {
      "cell_type": "markdown",
      "source": [
        "\n",
        "**Question 18-** Write a Python program to find the occurrence and position of the substrings within a\n",
        "string.\n"
      ],
      "metadata": {
        "id": "p0rkbEjPML0G"
      }
    },
    {
      "cell_type": "code",
      "source": [
        "import re\n",
        "\n",
        "def find_substring_occurrences(text, substring):\n",
        "\n",
        "    # Compile a regular expression pattern to match the substring\n",
        "        # Find all matches in the input text\n",
        "    pattern = re.compile(re.escape(substring))\n",
        "    matches = pattern.finditer(text)\n",
        "\n",
        "    # Create a list to store the positions of each match\n",
        "    positions = [(match.start(), match.end()) for match in matches]\n",
        "    return positions\n",
        "\n",
        "# Sample Text\n",
        "sample_text = \"Python is great. I love Python programming because Python is versatile.\"\n",
        "substring_to_find = \"Python\"\n",
        "\n",
        "# Find occurrences and positions of the substring\n",
        "positions = find_substring_occurrences(sample_text, substring_to_find)\n",
        "\n",
        "# Print the positions\n",
        "for start, end in positions:\n",
        "    print(f\"Found '{substring_to_find}' at position: ({start}, {end})\")"
      ],
      "metadata": {
        "colab": {
          "base_uri": "https://localhost:8080/"
        },
        "id": "ucaDSLy3Qcm5",
        "outputId": "ad03aba5-8cff-47ca-c6eb-d3702269840f"
      },
      "execution_count": 61,
      "outputs": [
        {
          "output_type": "stream",
          "name": "stdout",
          "text": [
            "Found 'Python' at position: (0, 6)\n",
            "Found 'Python' at position: (24, 30)\n",
            "Found 'Python' at position: (51, 57)\n"
          ]
        }
      ]
    },
    {
      "cell_type": "markdown",
      "source": [
        "\n",
        "**Question 19-** Write a Python program to convert a date of yyyy-mm-dd format to dd-mm-yyyy\n",
        "format."
      ],
      "metadata": {
        "id": "X9JkwcV8QdcY"
      }
    },
    {
      "cell_type": "code",
      "source": [
        "from datetime import datetime\n",
        "\n",
        "def convert_date_format(date_str):\n",
        "\n",
        "    # Parse the input date string to a datetime object then format the datetime object as dd-mm-yyyy\n",
        "    date_obj = datetime.strptime(date_str, '%Y-%m-%d')\n",
        "    formatted_date = date_obj.strftime('%d-%m-%Y')\n",
        "    return formatted_date\n",
        "\n",
        "# Sample Date in yyyy-mm-dd format\n",
        "date_yyyy_mm_dd = '2023-07-04'\n",
        "\n",
        "# Convert date format\n",
        "date_dd_mm_yyyy = convert_date_format(date_yyyy_mm_dd)\n",
        "\n",
        "# Print the converted date\n",
        "print(date_dd_mm_yyyy)"
      ],
      "metadata": {
        "colab": {
          "base_uri": "https://localhost:8080/"
        },
        "id": "oxE7juoiQghi",
        "outputId": "d8552d1c-604c-4c97-f8c4-f5240b828a3a"
      },
      "execution_count": 60,
      "outputs": [
        {
          "output_type": "stream",
          "name": "stdout",
          "text": [
            "04-07-2023\n"
          ]
        }
      ]
    },
    {
      "cell_type": "markdown",
      "source": [
        "**Question 20-** Create a function in python to find all decimal numbers with a precision of 1 or 2 in a\n",
        "string. The use of the re.compile() method is mandatory.\n",
        "\n",
        "Sample Text: &quot;01.12 0132.123 2.31875 145.8 3.01 27.25 0.25&quot;\n",
        "\n",
        "Expected Output: [&#39;01.12&#39;, &#39;145.8&#39;, &#39;3.01&#39;, &#39;27.25&#39;, &#39;0.25&#39;]"
      ],
      "metadata": {
        "id": "eUiW3YKSQiWi"
      }
    },
    {
      "cell_type": "code",
      "source": [
        "import re\n",
        "\n",
        "def find_decimal_numbers(text):\n",
        "    # Compile a regular expression pattern to match decimal numbers with precision of 1 or 2\n",
        "    pattern = re.compile(r'\\b\\d+\\.\\d{1,2}\\b|\\b\\d+\\.\\d{3,}\\b')\n",
        "\n",
        "    # Find all matches in the input text\n",
        "    matches = pattern.findall(text)\n",
        "\n",
        "    return matches\n",
        "\n",
        "# given text sampe\n",
        "sample_text = \"01.12 0132.123 2.31875 145.8 3.01 27.25 0.25\"\n",
        "\n",
        "# Find decimal numbers with precision of 1 or 2\n",
        "decimal_numbers = find_decimal_numbers(sample_text)\n",
        "\n",
        "# output\n",
        "print(decimal_numbers)"
      ],
      "metadata": {
        "colab": {
          "base_uri": "https://localhost:8080/"
        },
        "id": "k6qOHSsNQsUR",
        "outputId": "f78f6b74-69e4-48af-c801-66eb6be30c1d"
      },
      "execution_count": 59,
      "outputs": [
        {
          "output_type": "stream",
          "name": "stdout",
          "text": [
            "['01.12', '0132.123', '2.31875', '145.8', '3.01', '27.25', '0.25']\n"
          ]
        }
      ]
    },
    {
      "cell_type": "markdown",
      "source": [
        "**Question 21-** Write a Python program to separate and print the numbers and their position of a\n",
        "given string."
      ],
      "metadata": {
        "id": "jmAgcDJDQiOw"
      }
    },
    {
      "cell_type": "code",
      "source": [
        "import re\n",
        "\n",
        "def find_numbers_with_positions(text):\n",
        "\n",
        "    # Compile a regular expression pattern to find all numeric values\n",
        "    pattern = re.compile(r'\\b\\d+\\b')\n",
        "\n",
        "    # Find all matches in the input text\n",
        "    matches = pattern.finditer(text)\n",
        "\n",
        "    # Print each number and its position\n",
        "    for match in matches:\n",
        "        number = match.group()\n",
        "        start_index = match.start()\n",
        "        end_index = match.end()\n",
        "        print(f\"Number: {number}, Position: ({start_index}, {end_index})\")\n",
        "\n",
        "# Sample Text\n",
        "sample_text = 'There are 3 apples and 5 oranges on the table.'\n",
        "\n",
        "# Find and print numbers with their positions\n",
        "find_numbers_with_positions(sample_text)"
      ],
      "metadata": {
        "colab": {
          "base_uri": "https://localhost:8080/"
        },
        "id": "y3WuW8AEQyMi",
        "outputId": "3981ffb1-8aa9-4b9b-d9fb-1f9fc59e64cb"
      },
      "execution_count": 16,
      "outputs": [
        {
          "output_type": "stream",
          "name": "stdout",
          "text": [
            "Number: 3, Position: (10, 11)\n",
            "Number: 5, Position: (23, 24)\n"
          ]
        }
      ]
    },
    {
      "cell_type": "markdown",
      "source": [
        "**Question 22-** Write a regular expression in python program to extract maximum/largest numeric\n",
        "value from a string.\n",
        "\n",
        "Sample Text: &#39;My marks in each semester are: 947, 896, 926, 524, 734, 950, 642&#39;\n",
        "\n",
        "Expected Output: 950"
      ],
      "metadata": {
        "id": "FNpLNfCVQiGp"
      }
    },
    {
      "cell_type": "code",
      "source": [
        "import re\n",
        "\n",
        "def extract_max_numeric_value(text):\n",
        "\n",
        "    # Compile a regular expression pattern to find all numeric values\n",
        "        # Find all matches in the input text\n",
        "    pattern = re.compile(r'\\b\\d+\\b')\n",
        "    numbers = pattern.findall(text)\n",
        "\n",
        "    # Convert the list of strings to a list of integers\n",
        "    # Return the maximum value from the list\n",
        "    numbers = list(map(int, numbers))\n",
        "    return max(numbers)\n",
        "\n",
        "# Sample Text\n",
        "sample_text = 'My marks in each semester are: 947, 896, 926, 524, 734, 950, 642'\n",
        "\n",
        "# Extract the maximum numeric value\n",
        "max_value = extract_max_numeric_value(sample_text)\n",
        "\n",
        "# Print the maximum numeric value\n",
        "print(max_value)"
      ],
      "metadata": {
        "colab": {
          "base_uri": "https://localhost:8080/"
        },
        "id": "1m-PSSq6Q5Z6",
        "outputId": "13e9ba7e-8d81-4245-b0d7-e307104e9ddd"
      },
      "execution_count": 58,
      "outputs": [
        {
          "output_type": "stream",
          "name": "stdout",
          "text": [
            "950\n"
          ]
        }
      ]
    },
    {
      "cell_type": "markdown",
      "source": [
        "**Question 23-** Create a function in python to insert spaces between words starting with capital\n",
        "letters.\n",
        "\n",
        "Sample Text: “RegularExpressionIsAnImportantTopicInPython&quot;\n",
        "\n",
        "Expected Output: Regular Expression Is An Important Topic In Python"
      ],
      "metadata": {
        "id": "YNXXH6KOQh-3"
      }
    },
    {
      "cell_type": "code",
      "source": [
        "import re\n",
        "\n",
        "def insert_spaces(text):\n",
        "\n",
        "    # Compile a regular expression pattern to find positions where a lowercase letter is followed by an uppercase letter\n",
        "    #and then use the sub method to insert spaces at the positions found\n",
        "    pattern = re.compile(r'(?<=[a-z])(?=[A-Z])')\n",
        "    result = pattern.sub(' ', text)\n",
        "\n",
        "    return result\n",
        "\n",
        "# Sample Text\n",
        "sample_text = \"RegularExpressionIsAnImportantTopicInPython\"\n",
        "\n",
        "# Insert spaces\n",
        "output = insert_spaces(sample_text)\n",
        "print(output)"
      ],
      "metadata": {
        "colab": {
          "base_uri": "https://localhost:8080/"
        },
        "id": "cXx1mWFrRBHA",
        "outputId": "3311928d-45e4-4e5e-89ee-0bc9d22b120c"
      },
      "execution_count": 57,
      "outputs": [
        {
          "output_type": "stream",
          "name": "stdout",
          "text": [
            "Regular Expression Is An Important Topic In Python\n"
          ]
        }
      ]
    },
    {
      "cell_type": "markdown",
      "source": [
        "**Question 24-** Python regex to find sequences of one upper case letter followed by lower case letters."
      ],
      "metadata": {
        "id": "-2WiouUbQh3a"
      }
    },
    {
      "cell_type": "code",
      "source": [
        "import re\n",
        "\n",
        "def find_uppercase_followed_by_lowercase(text):\n",
        "\n",
        "    # Compile a regular expression pattern to match an uppercase letter followed by one or more lowercase letters\n",
        "    pattern = re.compile(r'\\b[A-Z][a-z]+\\b')\n",
        "\n",
        "    # Find all matches in the text\n",
        "    matches = pattern.findall(text)\n",
        "\n",
        "    return matches\n",
        "\n",
        "# Sample Text\n",
        "sample_text = \"Hello World! This is a Sample Text with MixedCase and properCase words.\"\n",
        "\n",
        "# Find sequences\n",
        "sequences = find_uppercase_followed_by_lowercase(sample_text)\n",
        "\n",
        "# Print the sequences\n",
        "print(sequences)"
      ],
      "metadata": {
        "colab": {
          "base_uri": "https://localhost:8080/"
        },
        "id": "nfWXOWGBRGLa",
        "outputId": "8ff21a73-7535-45eb-ac31-246252d63529"
      },
      "execution_count": 56,
      "outputs": [
        {
          "output_type": "stream",
          "name": "stdout",
          "text": [
            "['Hello', 'World', 'This', 'Sample', 'Text']\n"
          ]
        }
      ]
    },
    {
      "cell_type": "markdown",
      "source": [
        "**Question 25-** Write a Python program to remove continuous duplicate words from Sentence using\n",
        "Regular Expression.\n",
        "\n",
        "Sample Text: &quot;Hello hello world world&quot;\n",
        "\n",
        "Expected Output: Hello hello world"
      ],
      "metadata": {
        "id": "w-0XMbzoQhvr"
      }
    },
    {
      "cell_type": "code",
      "source": [
        "import re\n",
        "\n",
        "def remove_continuous_duplicates(text):\n",
        "    # Define the regex pattern to find continuous duplicate words and the use re.sub to remove continuous duplicate words\n",
        "    pattern = r'\\b(\\w+)( \\1\\b)+'\n",
        "    cleaned_text = re.sub(pattern, r'\\1', text)\n",
        "\n",
        "    return cleaned_text\n",
        "\n",
        "# provided sample text\n",
        "sample_text = \"Hello hello world world\"\n",
        "\n",
        "# Remove continuous duplicate words and print output\n",
        "output_text = remove_continuous_duplicates(sample_text)\n",
        "print(\"Output:\", output_text)"
      ],
      "metadata": {
        "colab": {
          "base_uri": "https://localhost:8080/"
        },
        "id": "wxD1TCmmRNKV",
        "outputId": "4f6d3660-ea51-4613-e66d-fdbe87bf4922"
      },
      "execution_count": 55,
      "outputs": [
        {
          "output_type": "stream",
          "name": "stdout",
          "text": [
            "Output: Hello hello world\n"
          ]
        }
      ]
    },
    {
      "cell_type": "markdown",
      "source": [
        "**Question 26-** Write a python program using RegEx to accept string ending with alphanumeric\n",
        "character."
      ],
      "metadata": {
        "id": "FSb7t9xSQhny"
      }
    },
    {
      "cell_type": "code",
      "source": [
        "import re\n",
        "\n",
        "def ends_with_alphanumeric(text):\n",
        "    # Defining a regular expression pattern; matching strings ending with an alphanumeric character\n",
        "    pattern = re.compile(r'[a-zA-Z0-9]$')\n",
        "\n",
        "    # search method - finds if the pattern is found at the end of the string\n",
        "    return bool(pattern.search(text))\n",
        "\n",
        "# Sample input for testing\n",
        "sample_texts = [\n",
        "    \"Hello World!\",\n",
        "    \"Python3\",\n",
        "    \"Test123 \",\n",
        "    \"EndsWithNumber1\",\n",
        "    \"SpecialChar@\",\n",
        "    \"WhitespaceEnd \"\n",
        "]\n",
        "\n",
        "# Test and print results for each sample input\n",
        "for text in sample_texts:\n",
        "    result = ends_with_alphanumeric(text)\n",
        "    print(f\"'{text}' ends with alphanumeric character: {result}\")"
      ],
      "metadata": {
        "colab": {
          "base_uri": "https://localhost:8080/"
        },
        "id": "MTClI7xvRSRh",
        "outputId": "50d5e9c9-ea05-4fd5-dd97-ddbad86f2e6e"
      },
      "execution_count": 54,
      "outputs": [
        {
          "output_type": "stream",
          "name": "stdout",
          "text": [
            "'Hello World!' ends with alphanumeric character: False\n",
            "'Python3' ends with alphanumeric character: True\n",
            "'Test123 ' ends with alphanumeric character: False\n",
            "'EndsWithNumber1' ends with alphanumeric character: True\n",
            "'SpecialChar@' ends with alphanumeric character: False\n",
            "'WhitespaceEnd ' ends with alphanumeric character: False\n"
          ]
        }
      ]
    },
    {
      "cell_type": "markdown",
      "source": [
        "**Question 27-**Write a python program using RegEx to extract the hashtags.\n",
        "\n",
        "Sample Text: &quot;&quot;&quot;RT @kapil_kausik: #Doltiwal I mean #xyzabc is &quot;hurt&quot; by #Demonetization as the same\n",
        "has rendered USELESS &lt;ed&gt;&lt;U+00A0&gt;&lt;U+00BD&gt;&lt;ed&gt;&lt;U+00B1&gt;&lt;U+0089&gt; &quot;acquired funds&quot; No wo&quot;&quot;&quot;\n",
        "\n",
        "Expected Output: [&#39;#Doltiwal&#39;, &#39;#xyzabc&#39;, &#39;#Demonetization&#39;]"
      ],
      "metadata": {
        "id": "sIwEBNgWQhgB"
      }
    },
    {
      "cell_type": "code",
      "source": [
        "\n",
        "import re\n",
        "\n",
        "def extract_hashtags(text):\n",
        "    # Define the regex pattern to find hashtags\n",
        "    pattern = r'#\\w+'\n",
        "\n",
        "    # Use re.findall to extract all hashtags from the text\n",
        "    hashtags = re.findall(pattern, text)\n",
        "    return hashtags\n",
        "\n",
        "# provided text sample\n",
        "sample_text = \"\"\"RT @kapil_kausik: #Doltiwal I mean #xyzabc is \"hurt\" by #Demonetization as the same has rendered USELESS <ed><U+00A0><U+00BD><ed><U+00B1><U+0089> \"acquired funds\" No wo\"\"\"\n",
        "\n",
        "# Extract hashtags\n",
        "hashtags = extract_hashtags(sample_text)\n",
        "\n",
        "# Print the extracted hashtags\n",
        "print(\"Output:\", hashtags)"
      ],
      "metadata": {
        "colab": {
          "base_uri": "https://localhost:8080/"
        },
        "id": "-JC6xMZqReyh",
        "outputId": "55a4a6e3-8eec-4bc7-b420-45539df29936"
      },
      "execution_count": 53,
      "outputs": [
        {
          "output_type": "stream",
          "name": "stdout",
          "text": [
            "Output: ['#Doltiwal', '#xyzabc', '#Demonetization']\n"
          ]
        }
      ]
    },
    {
      "cell_type": "markdown",
      "source": [
        "**Question 28-** Write a python program using RegEx to remove &lt;U+..&gt; like symbols\n",
        "Check the below sample text, there are strange symbols something of the sort &lt;U+..&gt; all over the place.\n",
        "You need to come up with a general Regex expression that will cover all such symbols.\n",
        "\n",
        "Sample Text: &quot;@Jags123456 Bharat band on\n",
        "28??&lt;ed&gt;&lt;U+00A0&gt;&lt;U+00BD&gt;&lt;ed&gt;&lt;U+00B8&gt;&lt;U+0082&gt;Those who are protesting #demonetization are\n",
        "all different party leaders&quot;\n",
        "\n",
        "Expected Output: @Jags123456 Bharat band on 28??&lt;ed&gt;&lt;ed&gt;Those who are protesting\n",
        "'#' demonetization are all different party leaders"
      ],
      "metadata": {
        "id": "c1hiwUIRQhXh"
      }
    },
    {
      "cell_type": "code",
      "source": [
        "import re\n",
        "\n",
        "def remove_u_symbols(text):\n",
        "    # Compile a regular expression pattern to match <U+..> like symbols\n",
        "    # Then use sub method  to replace every occurrences of the pattern with an empty string\n",
        "    pattern = re.compile(r'<U\\+\\w{4}>')\n",
        "    result = pattern.sub('', text)\n",
        "    return result\n",
        "\n",
        "# provided text sample\n",
        "sample_text = \"@Jags123456 Bharat band on 28??<ed><U+00A0><U+00BD><ed><U+00B8><U+0082>Those who are protesting #demonetization are all different party leaders\"\n",
        "\n",
        "\n",
        "# Print the output\n",
        "output = remove_u_symbols(sample_text)\n",
        "print(output)"
      ],
      "metadata": {
        "colab": {
          "base_uri": "https://localhost:8080/"
        },
        "id": "XkN0T1JGRubK",
        "outputId": "0ccd624c-0dde-4f37-fe85-18479c0a9e7d"
      },
      "execution_count": 52,
      "outputs": [
        {
          "output_type": "stream",
          "name": "stdout",
          "text": [
            "@Jags123456 Bharat band on 28??<ed><ed>Those who are protesting #demonetization are all different party leaders\n"
          ]
        }
      ]
    },
    {
      "cell_type": "markdown",
      "source": [
        "**Question 29-** Write a python program to extract dates from the text stored in the text file.\n",
        "\n",
        "Sample Text: Ron was born on 12-09-1992 and he was admitted to school 15-12-1999.\n",
        "\n",
        "**Note**- Store this sample text in the file and then extract dates."
      ],
      "metadata": {
        "id": "N-MNSro7QhOp"
      }
    },
    {
      "cell_type": "code",
      "source": [
        "#29\n",
        "\n",
        "import re\n",
        "\n",
        "def extract_dates_from_file(file_path):\n",
        "    # Compile a regular expression pattern to match dates in the format dd-mm-yyyy\n",
        "    date_pattern = re.compile(r'\\b\\d{2}-\\d{2}-\\d{4}\\b')\n",
        "\n",
        "    with open(file_path, 'r') as file:\n",
        "        text = file.read()\n",
        "\n",
        "    # Finding all the occurrences of the date pattern\n",
        "    dates = date_pattern.findall(text)\n",
        "\n",
        "    return dates\n",
        "\n",
        "# file:sample_text_29\n",
        "file_path = '/content/sample_text_29'\n",
        "\n",
        "# Extract and print the extracted dates\n",
        "extracted_dates = extract_dates_from_file(file_path)\n",
        "print(extracted_dates)"
      ],
      "metadata": {
        "colab": {
          "base_uri": "https://localhost:8080/"
        },
        "id": "ifQrgKUrR31N",
        "outputId": "bfacfea0-8101-4ed6-e558-bba9ed805b7d"
      },
      "execution_count": 51,
      "outputs": [
        {
          "output_type": "stream",
          "name": "stdout",
          "text": [
            "['12-09-1992', '15-12-1999']\n"
          ]
        }
      ]
    },
    {
      "cell_type": "markdown",
      "source": [
        "**Question 30-** Create a function in python to remove all words from a string of length between 2 and\n",
        "4.\n",
        "The use of the re.compile() method is mandatory.\n",
        "\n",
        "Sample Text: &quot;The following example creates an ArrayList with a capacity of 50 elements. 4 elements\n",
        "are then added to the ArrayList and the ArrayList is trimmed accordingly.&quot;\n",
        "\n",
        "Expected Output: following example creates ArrayList a capacity elements. 4 elements added ArrayList\n",
        "ArrayList trimmed accordingly."
      ],
      "metadata": {
        "id": "c3km0TQjR4ej"
      }
    },
    {
      "cell_type": "code",
      "source": [
        "import re\n",
        "\n",
        "def remove_words_between_2_and_4(text):\n",
        "    # Compile a regular expression pattern to match words of length 2 to 4\n",
        "    # Use the sub method to replace all occurrences of the pattern with an empty string\n",
        "    # Remove extra spaces that may have been introduced\n",
        "\n",
        "    pattern = re.compile(r'\\b\\w{2,4}\\b')\n",
        "    result = pattern.sub('', text)\n",
        "\n",
        "    result = re.sub(r'\\s+', ' ', result).strip()\n",
        "\n",
        "    return result\n",
        "\n",
        "# text sample\n",
        "sample_text = \"The following example creates an ArrayList with a capacity of 50 elements. 4 elements are then added to the ArrayList and the ArrayList is trimmed accordingly.\"\n",
        "\n",
        "#output\n",
        "output = remove_words_between_2_and_4(sample_text)\n",
        "print(output)\n"
      ],
      "metadata": {
        "colab": {
          "base_uri": "https://localhost:8080/"
        },
        "id": "o6h2WxhUR-wq",
        "outputId": "08da6944-6747-4cbc-bb9c-4d47d48fa0b7"
      },
      "execution_count": 50,
      "outputs": [
        {
          "output_type": "stream",
          "name": "stdout",
          "text": [
            "following example creates ArrayList a capacity elements. 4 elements added ArrayList ArrayList trimmed accordingly.\n"
          ]
        }
      ]
    }
  ]
}